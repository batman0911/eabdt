{
 "cells": [
  {
   "cell_type": "code",
   "execution_count": 44,
   "metadata": {},
   "outputs": [],
   "source": [
    "import numpy as np\n",
    "import pandas as pd\n",
    "import bz2\n",
    "import re"
   ]
  },
  {
   "cell_type": "code",
   "execution_count": 45,
   "metadata": {},
   "outputs": [],
   "source": [
    "base_path = '../data'\n",
    "raw_path = f'{base_path}/raw'\n",
    "vectorize_path = f'{base_path}/vectorize'\n",
    "\n",
    "dataset = 'mix'\n",
    "batch_size_file = 1000"
   ]
  },
  {
   "cell_type": "code",
   "execution_count": 46,
   "metadata": {},
   "outputs": [],
   "source": [
    "def save_csv(label, review_text, subset, batch_idx):\n",
    "  df = pd.DataFrame({\n",
    "    'review_text': review_text,\n",
    "    'label': label\n",
    "  })\n",
    "  \n",
    "  df['review_text'].to_csv(f'{raw_path}/{dataset}/{subset}/X_{batch_idx}.csv', index=False)\n",
    "  df['label'].to_csv(f'{raw_path}/{dataset}/{subset}/y_{batch_idx}.csv', index=False)"
   ]
  },
  {
   "cell_type": "code",
   "execution_count": 47,
   "metadata": {},
   "outputs": [],
   "source": [
    "def split_data(file, subset, batch_size):\n",
    "  i = 0\n",
    "  batch_idx = 0\n",
    "  labels=[]\n",
    "  texts=[]\n",
    "  for line in bz2.BZ2File(file):\n",
    "    i = i + 1\n",
    "    x=line.decode()\n",
    "    labels.append(int(x[9])-1)\n",
    "    text = x[11:].strip()\n",
    "    text = re.compile(r\"[^a-z0-1\\s]\").sub(r\" \",re.compile(r\"['\\W']\").sub(r\" \",text.lower()))\n",
    "    texts.append(text)\n",
    "    \n",
    "    if i % batch_size == 0 :\n",
    "      batch_idx = i//batch_size - 1\n",
    "      save_csv(labels, texts, subset, batch_idx)\n",
    "      labels = []\n",
    "      texts = []\n",
    "      \n",
    "  batch_idx = batch_idx + 1\n",
    "  save_csv(labels, texts, subset, batch_idx)\n",
    "  num_batch = batch_idx + 1"
   ]
  },
  {
   "cell_type": "code",
   "execution_count": 48,
   "metadata": {},
   "outputs": [],
   "source": [
    "split_data(\"../data/raw/mix/training_set/train.ft.txt.bz2\", 'training_set', batch_size_file)\n",
    "split_data(\"../data/raw/mix/testing_set/test.ft.txt.bz2\", 'testing_set', batch_size_file)"
   ]
  }
 ],
 "metadata": {
  "kernelspec": {
   "display_name": ".venv",
   "language": "python",
   "name": "python3"
  },
  "language_info": {
   "codemirror_mode": {
    "name": "ipython",
    "version": 3
   },
   "file_extension": ".py",
   "mimetype": "text/x-python",
   "name": "python",
   "nbconvert_exporter": "python",
   "pygments_lexer": "ipython3",
   "version": "3.10.12"
  },
  "orig_nbformat": 4
 },
 "nbformat": 4,
 "nbformat_minor": 2
}
