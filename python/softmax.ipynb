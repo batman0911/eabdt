{
 "cells": [
  {
   "cell_type": "code",
   "execution_count": 1,
   "metadata": {},
   "outputs": [],
   "source": [
    "import pandas as pd\n",
    "import numpy as np\n",
    "from sklearn.model_selection import train_test_split\n",
    "\n",
    "import torch \n",
    "import torch.nn as nn \n",
    "import torch.optim as optim\n",
    "\n",
    "import copy\n",
    "import tqdm\n",
    "\n",
    "import util\n",
    "import os "
   ]
  },
  {
   "cell_type": "code",
   "execution_count": 2,
   "metadata": {},
   "outputs": [
    {
     "name": "stdout",
     "output_type": "stream",
     "text": [
      "/home/linhnm/msc_code/big_data_mining/eabdt/python\n"
     ]
    }
   ],
   "source": [
    "cwd = os.getcwd()\n",
    "print(cwd)"
   ]
  },
  {
   "cell_type": "code",
   "execution_count": 3,
   "metadata": {},
   "outputs": [],
   "source": [
    "dataset = 'mix'\n",
    "\n",
    "training_batch_from = 0\n",
    "training_batch_to = 3000\n",
    "val_batch_from = 3000\n",
    "val_batch_to = 3600\n",
    "\n",
    "testing_batch_from = 0\n",
    "testing_batch_to = 400\n",
    "\n",
    "# training_batch_from = 0\n",
    "# training_batch_to = 40\n",
    "# val_batch_from = 40\n",
    "# val_batch_to = 50\n",
    "\n",
    "# testing_batch_from = 0\n",
    "# testing_batch_to = 8"
   ]
  },
  {
   "cell_type": "code",
   "execution_count": 4,
   "metadata": {},
   "outputs": [
    {
     "name": "stdout",
     "output_type": "stream",
     "text": [
      "ok\n"
     ]
    }
   ],
   "source": [
    "device = 'cpu'\n",
    "if torch.cuda.is_available():\n",
    "  device = 'cuda:0'\n",
    "  print('ok')"
   ]
  },
  {
   "cell_type": "code",
   "execution_count": 5,
   "metadata": {},
   "outputs": [],
   "source": [
    "X_train = util.load_vector(os.path.join(cwd, '../data/vectorize/384/mix/training_set'), training_batch_from, training_batch_to)\n",
    "y_train = util.load_label(os.path.join(cwd, '../data/raw/mix/training_set'), training_batch_from, training_batch_to)\n",
    "\n",
    "X_val = util.load_vector(os.path.join(cwd, '../data/vectorize/384/mix/training_set'), val_batch_from, val_batch_to)\n",
    "y_val = util.load_label(os.path.join(cwd, '../data/raw/mix/training_set'), val_batch_from, val_batch_to)\n",
    "\n",
    "X_test = util.load_vector(os.path.join(cwd, '../data/vectorize/384/mix/testing_set'), testing_batch_from, testing_batch_to)\n",
    "y_test = util.load_label(os.path.join(cwd, '../data/raw/mix/testing_set'), testing_batch_from, testing_batch_to)"
   ]
  },
  {
   "cell_type": "code",
   "execution_count": 6,
   "metadata": {},
   "outputs": [
    {
     "data": {
      "text/plain": [
       "(3000000, 384)"
      ]
     },
     "execution_count": 6,
     "metadata": {},
     "output_type": "execute_result"
    }
   ],
   "source": [
    "X_train.shape"
   ]
  },
  {
   "cell_type": "code",
   "execution_count": 7,
   "metadata": {},
   "outputs": [],
   "source": [
    "epochs = 200\n",
    "trigger = 1\n",
    "early_stopping_round = 20\n",
    "\n",
    "input_dim = 384\n",
    "# input_dim = 768\n",
    "output_dim = 1\n",
    "learning_rate = 0.1"
   ]
  },
  {
   "cell_type": "code",
   "execution_count": 8,
   "metadata": {},
   "outputs": [],
   "source": [
    "class Softmax(nn.Module):\n",
    "  def __init__(self, input_dim, output_dim):\n",
    "    super(Softmax, self).__init__()\n",
    "    # hidden layer \n",
    "    self.linear_1 = torch.nn.Linear(input_dim, 128, bias=True)\n",
    "    self.linear_2 = torch.nn.Linear(128, 64, bias=True) \n",
    "    self.linear_3 = torch.nn.Linear(64, output_dim) \n",
    "    # defining layers as attributes\n",
    "    self.layer_in = None\n",
    "    self.act = None\n",
    "    self.layer_out = None\n",
    "  def forward(self, x):\n",
    "    self.layer_in_1 = self.linear_1(x)\n",
    "    self.act_1 = torch.relu(self.layer_in_1)\n",
    "    self.layer_in_2 = self.linear_2(self.act_1)\n",
    "    self.act_2 = torch.relu(self.layer_in_2)\n",
    "    self.layer_out = self.linear_3(self.act_2)\n",
    "    y_pred = torch.sigmoid(self.linear_3(self.act_2))\n",
    "    return y_pred"
   ]
  },
  {
   "cell_type": "code",
   "execution_count": 9,
   "metadata": {},
   "outputs": [
    {
     "data": {
      "text/plain": [
       "Softmax(\n",
       "  (linear_1): Linear(in_features=384, out_features=128, bias=True)\n",
       "  (linear_2): Linear(in_features=128, out_features=64, bias=True)\n",
       "  (linear_3): Linear(in_features=64, out_features=1, bias=True)\n",
       ")"
      ]
     },
     "execution_count": 9,
     "metadata": {},
     "output_type": "execute_result"
    }
   ],
   "source": [
    "model = Softmax(input_dim, output_dim)\n",
    "model.to(device)"
   ]
  },
  {
   "cell_type": "code",
   "execution_count": 10,
   "metadata": {},
   "outputs": [],
   "source": [
    "criterion = nn.BCELoss()\n",
    "optimizer = optim.SGD(model.parameters(), lr=learning_rate)"
   ]
  },
  {
   "cell_type": "code",
   "execution_count": 11,
   "metadata": {},
   "outputs": [],
   "source": [
    "# X_gpu_train = torch.tensor(X_train, dtype=torch.float32).to(device)\n",
    "# y_gpu_train = torch.flatten(torch.tensor(y_train).type(torch.float32)).to(device)\n",
    "X_gpu_val = torch.tensor(X_val, dtype=torch.float32).to(device)\n",
    "y_gpu_val = torch.flatten(torch.tensor(y_val).type(torch.float32)).to(device)\n",
    "X_gpu_test = torch.tensor(X_test, dtype=torch.float32).to(device)\n",
    "y_gpu_test = torch.flatten(torch.tensor(y_test).type(torch.float32)).to(device)"
   ]
  },
  {
   "cell_type": "code",
   "execution_count": 12,
   "metadata": {},
   "outputs": [
    {
     "name": "stderr",
     "output_type": "stream",
     "text": [
      "Training Epochs:   0%|          | 1/200 [00:04<14:45,  4.45s/it]"
     ]
    },
    {
     "name": "stdout",
     "output_type": "stream",
     "text": [
      "Iteration: 1. \n",
      "Val - Loss: 0.32605963945388794. Accuracy: 86.14099884033203\n",
      "\tBetter accuracy: 86.14099884033203\n"
     ]
    },
    {
     "name": "stderr",
     "output_type": "stream",
     "text": [
      "Training Epochs:   1%|          | 2/200 [00:08<13:42,  4.15s/it]"
     ]
    },
    {
     "name": "stdout",
     "output_type": "stream",
     "text": [
      "Iteration: 2. \n",
      "Val - Loss: 0.32135477662086487. Accuracy: 86.28199768066406\n",
      "\tBetter accuracy: 86.28199768066406\n"
     ]
    },
    {
     "name": "stderr",
     "output_type": "stream",
     "text": [
      "Training Epochs:   2%|▏         | 3/200 [00:12<13:23,  4.08s/it]"
     ]
    },
    {
     "name": "stdout",
     "output_type": "stream",
     "text": [
      "Iteration: 3. \n",
      "Val - Loss: 0.30167436599731445. Accuracy: 87.24266815185547\n",
      "\tBetter accuracy: 87.24266815185547\n"
     ]
    },
    {
     "name": "stderr",
     "output_type": "stream",
     "text": [
      "Training Epochs:   2%|▏         | 4/200 [00:16<13:03,  4.00s/it]"
     ]
    },
    {
     "name": "stdout",
     "output_type": "stream",
     "text": [
      "Iteration: 4. \n",
      "Val - Loss: 0.3032003939151764. Accuracy: 87.11016845703125\n"
     ]
    },
    {
     "name": "stderr",
     "output_type": "stream",
     "text": [
      "Training Epochs:   2%|▎         | 5/200 [00:20<12:53,  3.97s/it]"
     ]
    },
    {
     "name": "stdout",
     "output_type": "stream",
     "text": [
      "Iteration: 5. \n",
      "Val - Loss: 0.28466054797172546. Accuracy: 88.05750274658203\n",
      "\tBetter accuracy: 88.05750274658203\n"
     ]
    },
    {
     "name": "stderr",
     "output_type": "stream",
     "text": [
      "Training Epochs:   3%|▎         | 6/200 [00:24<12:43,  3.94s/it]"
     ]
    },
    {
     "name": "stdout",
     "output_type": "stream",
     "text": [
      "Iteration: 6. \n",
      "Val - Loss: 0.29990503191947937. Accuracy: 87.31199645996094\n"
     ]
    },
    {
     "name": "stderr",
     "output_type": "stream",
     "text": [
      "Training Epochs:   4%|▎         | 7/200 [00:27<12:32,  3.90s/it]"
     ]
    },
    {
     "name": "stdout",
     "output_type": "stream",
     "text": [
      "Iteration: 7. \n",
      "Val - Loss: 0.27387937903404236. Accuracy: 88.62433624267578\n",
      "\tBetter accuracy: 88.62433624267578\n"
     ]
    },
    {
     "name": "stderr",
     "output_type": "stream",
     "text": [
      "Training Epochs:   4%|▍         | 8/200 [00:31<12:31,  3.91s/it]"
     ]
    },
    {
     "name": "stdout",
     "output_type": "stream",
     "text": [
      "Iteration: 8. \n",
      "Val - Loss: 0.278176486492157. Accuracy: 88.4001693725586\n"
     ]
    },
    {
     "name": "stderr",
     "output_type": "stream",
     "text": [
      "Training Epochs:   4%|▍         | 9/200 [00:35<12:24,  3.90s/it]"
     ]
    },
    {
     "name": "stdout",
     "output_type": "stream",
     "text": [
      "Iteration: 9. \n",
      "Val - Loss: 0.2698928117752075. Accuracy: 88.80699920654297\n",
      "\tBetter accuracy: 88.80699920654297\n"
     ]
    },
    {
     "name": "stderr",
     "output_type": "stream",
     "text": [
      "Training Epochs:   5%|▌         | 10/200 [00:39<12:20,  3.90s/it]"
     ]
    },
    {
     "name": "stdout",
     "output_type": "stream",
     "text": [
      "Iteration: 10. \n",
      "Val - Loss: 0.27579689025878906. Accuracy: 88.48233032226562\n"
     ]
    },
    {
     "name": "stderr",
     "output_type": "stream",
     "text": [
      "Training Epochs:   6%|▌         | 11/200 [00:43<12:15,  3.89s/it]"
     ]
    },
    {
     "name": "stdout",
     "output_type": "stream",
     "text": [
      "Iteration: 11. \n",
      "Val - Loss: 0.2661820352077484. Accuracy: 88.9991683959961\n",
      "\tBetter accuracy: 88.9991683959961\n"
     ]
    },
    {
     "name": "stderr",
     "output_type": "stream",
     "text": [
      "Training Epochs:   6%|▌         | 12/200 [00:47<12:14,  3.91s/it]"
     ]
    },
    {
     "name": "stdout",
     "output_type": "stream",
     "text": [
      "Iteration: 12. \n",
      "Val - Loss: 0.2635338604450226. Accuracy: 89.11483001708984\n",
      "\tBetter accuracy: 89.11483001708984\n"
     ]
    },
    {
     "name": "stderr",
     "output_type": "stream",
     "text": [
      "Training Epochs:   6%|▋         | 13/200 [00:51<12:18,  3.95s/it]"
     ]
    },
    {
     "name": "stdout",
     "output_type": "stream",
     "text": [
      "Iteration: 13. \n",
      "Val - Loss: 0.2625837028026581. Accuracy: 89.13533020019531\n",
      "\tBetter accuracy: 89.13533020019531\n"
     ]
    },
    {
     "name": "stderr",
     "output_type": "stream",
     "text": [
      "Training Epochs:   7%|▋         | 14/200 [00:55<12:20,  3.98s/it]"
     ]
    },
    {
     "name": "stdout",
     "output_type": "stream",
     "text": [
      "Iteration: 14. \n",
      "Val - Loss: 0.26209816336631775. Accuracy: 89.16100311279297\n",
      "\tBetter accuracy: 89.16100311279297\n"
     ]
    },
    {
     "name": "stderr",
     "output_type": "stream",
     "text": [
      "Training Epochs:   8%|▊         | 15/200 [00:59<12:10,  3.95s/it]"
     ]
    },
    {
     "name": "stdout",
     "output_type": "stream",
     "text": [
      "Iteration: 15. \n",
      "Val - Loss: 0.26045772433280945. Accuracy: 89.25150299072266\n",
      "\tBetter accuracy: 89.25150299072266\n"
     ]
    },
    {
     "name": "stderr",
     "output_type": "stream",
     "text": [
      "Training Epochs:   8%|▊         | 16/200 [01:03<12:05,  3.94s/it]"
     ]
    },
    {
     "name": "stdout",
     "output_type": "stream",
     "text": [
      "Iteration: 16. \n",
      "Val - Loss: 0.27125194668769836. Accuracy: 88.74366760253906\n"
     ]
    },
    {
     "name": "stderr",
     "output_type": "stream",
     "text": [
      "Training Epochs:   8%|▊         | 17/200 [01:07<12:05,  3.96s/it]"
     ]
    },
    {
     "name": "stdout",
     "output_type": "stream",
     "text": [
      "Iteration: 17. \n",
      "Val - Loss: 0.2600844204425812. Accuracy: 89.2665023803711\n",
      "\tBetter accuracy: 89.2665023803711\n"
     ]
    },
    {
     "name": "stderr",
     "output_type": "stream",
     "text": [
      "Training Epochs:   9%|▉         | 18/200 [01:11<12:07,  4.00s/it]"
     ]
    },
    {
     "name": "stdout",
     "output_type": "stream",
     "text": [
      "Iteration: 18. \n",
      "Val - Loss: 0.25763311982154846. Accuracy: 89.38416290283203\n",
      "\tBetter accuracy: 89.38416290283203\n"
     ]
    },
    {
     "name": "stderr",
     "output_type": "stream",
     "text": [
      "Training Epochs:  10%|▉         | 19/200 [01:15<12:10,  4.04s/it]"
     ]
    },
    {
     "name": "stdout",
     "output_type": "stream",
     "text": [
      "Iteration: 19. \n",
      "Val - Loss: 0.2631020247936249. Accuracy: 89.10616302490234\n"
     ]
    },
    {
     "name": "stderr",
     "output_type": "stream",
     "text": [
      "Training Epochs:  10%|█         | 20/200 [01:19<12:08,  4.05s/it]"
     ]
    },
    {
     "name": "stdout",
     "output_type": "stream",
     "text": [
      "Iteration: 20. \n",
      "Val - Loss: 0.25905320048332214. Accuracy: 89.30633544921875\n"
     ]
    },
    {
     "name": "stderr",
     "output_type": "stream",
     "text": [
      "Training Epochs:  10%|█         | 21/200 [01:23<12:02,  4.03s/it]"
     ]
    },
    {
     "name": "stdout",
     "output_type": "stream",
     "text": [
      "Iteration: 21. \n",
      "Val - Loss: 0.2647426426410675. Accuracy: 89.00533294677734\n"
     ]
    },
    {
     "name": "stderr",
     "output_type": "stream",
     "text": [
      "Training Epochs:  11%|█         | 22/200 [01:27<11:55,  4.02s/it]"
     ]
    },
    {
     "name": "stdout",
     "output_type": "stream",
     "text": [
      "Iteration: 22. \n",
      "Val - Loss: 0.25613531470298767. Accuracy: 89.45133209228516\n",
      "\tBetter accuracy: 89.45133209228516\n"
     ]
    },
    {
     "name": "stderr",
     "output_type": "stream",
     "text": [
      "Training Epochs:  12%|█▏        | 23/200 [01:31<11:53,  4.03s/it]"
     ]
    },
    {
     "name": "stdout",
     "output_type": "stream",
     "text": [
      "Iteration: 23. \n",
      "Val - Loss: 0.2556065320968628. Accuracy: 89.47249603271484\n",
      "\tBetter accuracy: 89.47249603271484\n"
     ]
    },
    {
     "name": "stderr",
     "output_type": "stream",
     "text": [
      "Training Epochs:  12%|█▏        | 24/200 [01:35<11:50,  4.04s/it]"
     ]
    },
    {
     "name": "stdout",
     "output_type": "stream",
     "text": [
      "Iteration: 24. \n",
      "Val - Loss: 0.2553374171257019. Accuracy: 89.48683166503906\n",
      "\tBetter accuracy: 89.48683166503906\n"
     ]
    },
    {
     "name": "stderr",
     "output_type": "stream",
     "text": [
      "Training Epochs:  12%|█▎        | 25/200 [01:39<11:39,  4.00s/it]"
     ]
    },
    {
     "name": "stdout",
     "output_type": "stream",
     "text": [
      "Iteration: 25. \n",
      "Val - Loss: 0.2540169358253479. Accuracy: 89.55316925048828\n",
      "\tBetter accuracy: 89.55316925048828\n"
     ]
    },
    {
     "name": "stderr",
     "output_type": "stream",
     "text": [
      "Training Epochs:  13%|█▎        | 26/200 [01:43<11:35,  4.00s/it]"
     ]
    },
    {
     "name": "stdout",
     "output_type": "stream",
     "text": [
      "Iteration: 26. \n",
      "Val - Loss: 0.2542573809623718. Accuracy: 89.517333984375\n"
     ]
    },
    {
     "name": "stderr",
     "output_type": "stream",
     "text": [
      "Training Epochs:  14%|█▎        | 27/200 [01:47<11:29,  3.98s/it]"
     ]
    },
    {
     "name": "stdout",
     "output_type": "stream",
     "text": [
      "Iteration: 27. \n",
      "Val - Loss: 0.2591032385826111. Accuracy: 89.28299713134766\n"
     ]
    },
    {
     "name": "stderr",
     "output_type": "stream",
     "text": [
      "Training Epochs:  14%|█▍        | 28/200 [01:51<11:21,  3.96s/it]"
     ]
    },
    {
     "name": "stdout",
     "output_type": "stream",
     "text": [
      "Iteration: 28. \n",
      "Val - Loss: 0.25358808040618896. Accuracy: 89.54850006103516\n"
     ]
    },
    {
     "name": "stderr",
     "output_type": "stream",
     "text": [
      "Training Epochs:  14%|█▍        | 29/200 [01:55<11:19,  3.97s/it]"
     ]
    },
    {
     "name": "stdout",
     "output_type": "stream",
     "text": [
      "Iteration: 29. \n",
      "Val - Loss: 0.2563914954662323. Accuracy: 89.41383361816406\n"
     ]
    },
    {
     "name": "stderr",
     "output_type": "stream",
     "text": [
      "Training Epochs:  15%|█▌        | 30/200 [01:59<11:18,  3.99s/it]"
     ]
    },
    {
     "name": "stdout",
     "output_type": "stream",
     "text": [
      "Iteration: 30. \n",
      "Val - Loss: 0.25305724143981934. Accuracy: 89.5634994506836\n",
      "\tBetter accuracy: 89.5634994506836\n"
     ]
    },
    {
     "name": "stderr",
     "output_type": "stream",
     "text": [
      "Training Epochs:  16%|█▌        | 31/200 [02:03<11:20,  4.02s/it]"
     ]
    },
    {
     "name": "stdout",
     "output_type": "stream",
     "text": [
      "Iteration: 31. \n",
      "Val - Loss: 0.25264912843704224. Accuracy: 89.6050033569336\n",
      "\tBetter accuracy: 89.6050033569336\n"
     ]
    },
    {
     "name": "stderr",
     "output_type": "stream",
     "text": [
      "Training Epochs:  16%|█▌        | 32/200 [02:07<11:10,  3.99s/it]"
     ]
    },
    {
     "name": "stdout",
     "output_type": "stream",
     "text": [
      "Iteration: 32. \n",
      "Val - Loss: 0.25219738483428955. Accuracy: 89.60832977294922\n",
      "\tBetter accuracy: 89.60832977294922\n"
     ]
    },
    {
     "name": "stderr",
     "output_type": "stream",
     "text": [
      "Training Epochs:  16%|█▋        | 33/200 [02:11<11:10,  4.02s/it]"
     ]
    },
    {
     "name": "stdout",
     "output_type": "stream",
     "text": [
      "Iteration: 33. \n",
      "Val - Loss: 0.2521316707134247. Accuracy: 89.61083221435547\n",
      "\tBetter accuracy: 89.61083221435547\n"
     ]
    },
    {
     "name": "stderr",
     "output_type": "stream",
     "text": [
      "Training Epochs:  17%|█▋        | 34/200 [02:15<11:05,  4.01s/it]"
     ]
    },
    {
     "name": "stdout",
     "output_type": "stream",
     "text": [
      "Iteration: 34. \n",
      "Val - Loss: 0.2551056146621704. Accuracy: 89.4905014038086\n"
     ]
    },
    {
     "name": "stderr",
     "output_type": "stream",
     "text": [
      "Training Epochs:  18%|█▊        | 35/200 [02:19<11:02,  4.01s/it]"
     ]
    },
    {
     "name": "stdout",
     "output_type": "stream",
     "text": [
      "Iteration: 35. \n",
      "Val - Loss: 0.25193506479263306. Accuracy: 89.6318359375\n",
      "\tBetter accuracy: 89.6318359375\n"
     ]
    },
    {
     "name": "stderr",
     "output_type": "stream",
     "text": [
      "Training Epochs:  18%|█▊        | 36/200 [02:23<11:03,  4.05s/it]"
     ]
    },
    {
     "name": "stdout",
     "output_type": "stream",
     "text": [
      "Iteration: 36. \n",
      "Val - Loss: 0.25152748823165894. Accuracy: 89.63999938964844\n",
      "\tBetter accuracy: 89.63999938964844\n"
     ]
    },
    {
     "name": "stderr",
     "output_type": "stream",
     "text": [
      "Training Epochs:  18%|█▊        | 37/200 [02:27<10:57,  4.03s/it]"
     ]
    },
    {
     "name": "stdout",
     "output_type": "stream",
     "text": [
      "Iteration: 37. \n",
      "Val - Loss: 0.25456151366233826. Accuracy: 89.51433563232422\n"
     ]
    },
    {
     "name": "stderr",
     "output_type": "stream",
     "text": [
      "Training Epochs:  19%|█▉        | 38/200 [02:31<10:57,  4.06s/it]"
     ]
    },
    {
     "name": "stdout",
     "output_type": "stream",
     "text": [
      "Iteration: 38. \n",
      "Val - Loss: 0.2537849545478821. Accuracy: 89.53600311279297\n"
     ]
    },
    {
     "name": "stderr",
     "output_type": "stream",
     "text": [
      "Training Epochs:  20%|█▉        | 39/200 [02:35<10:49,  4.04s/it]"
     ]
    },
    {
     "name": "stdout",
     "output_type": "stream",
     "text": [
      "Iteration: 39. \n",
      "Val - Loss: 0.25122493505477905. Accuracy: 89.65916442871094\n",
      "\tBetter accuracy: 89.65916442871094\n"
     ]
    },
    {
     "name": "stderr",
     "output_type": "stream",
     "text": [
      "Training Epochs:  20%|██        | 40/200 [02:39<10:45,  4.03s/it]"
     ]
    },
    {
     "name": "stdout",
     "output_type": "stream",
     "text": [
      "Iteration: 40. \n",
      "Val - Loss: 0.25230562686920166. Accuracy: 89.60449981689453\n"
     ]
    },
    {
     "name": "stderr",
     "output_type": "stream",
     "text": [
      "Training Epochs:  20%|██        | 41/200 [02:43<10:37,  4.01s/it]"
     ]
    },
    {
     "name": "stdout",
     "output_type": "stream",
     "text": [
      "Iteration: 41. \n",
      "Val - Loss: 0.2512228190898895. Accuracy: 89.65066528320312\n"
     ]
    },
    {
     "name": "stderr",
     "output_type": "stream",
     "text": [
      "Training Epochs:  21%|██        | 42/200 [02:47<10:30,  3.99s/it]"
     ]
    },
    {
     "name": "stdout",
     "output_type": "stream",
     "text": [
      "Iteration: 42. \n",
      "Val - Loss: 0.2509702742099762. Accuracy: 89.64833068847656\n"
     ]
    },
    {
     "name": "stderr",
     "output_type": "stream",
     "text": [
      "Training Epochs:  22%|██▏       | 43/200 [02:51<10:28,  4.01s/it]"
     ]
    },
    {
     "name": "stdout",
     "output_type": "stream",
     "text": [
      "Iteration: 43. \n",
      "Val - Loss: 0.2512896656990051. Accuracy: 89.65483093261719\n"
     ]
    },
    {
     "name": "stderr",
     "output_type": "stream",
     "text": [
      "Training Epochs:  22%|██▏       | 44/200 [02:55<10:21,  3.98s/it]"
     ]
    },
    {
     "name": "stdout",
     "output_type": "stream",
     "text": [
      "Iteration: 44. \n",
      "Val - Loss: 0.2529250383377075. Accuracy: 89.57266998291016\n"
     ]
    },
    {
     "name": "stderr",
     "output_type": "stream",
     "text": [
      "Training Epochs:  22%|██▎       | 45/200 [02:59<10:20,  4.00s/it]"
     ]
    },
    {
     "name": "stdout",
     "output_type": "stream",
     "text": [
      "Iteration: 45. \n",
      "Val - Loss: 0.2527945935726166. Accuracy: 89.57416534423828\n"
     ]
    },
    {
     "name": "stderr",
     "output_type": "stream",
     "text": [
      "Training Epochs:  23%|██▎       | 46/200 [03:03<10:11,  3.97s/it]"
     ]
    },
    {
     "name": "stdout",
     "output_type": "stream",
     "text": [
      "Iteration: 46. \n",
      "Val - Loss: 0.2518870234489441. Accuracy: 89.63616943359375\n"
     ]
    },
    {
     "name": "stderr",
     "output_type": "stream",
     "text": [
      "Training Epochs:  24%|██▎       | 47/200 [03:07<10:14,  4.02s/it]"
     ]
    },
    {
     "name": "stdout",
     "output_type": "stream",
     "text": [
      "Iteration: 47. \n",
      "Val - Loss: 0.2504787743091583. Accuracy: 89.69983673095703\n",
      "\tBetter accuracy: 89.69983673095703\n"
     ]
    },
    {
     "name": "stderr",
     "output_type": "stream",
     "text": [
      "Training Epochs:  24%|██▍       | 48/200 [03:11<10:07,  3.99s/it]"
     ]
    },
    {
     "name": "stdout",
     "output_type": "stream",
     "text": [
      "Iteration: 48. \n",
      "Val - Loss: 0.2510899305343628. Accuracy: 89.67250061035156\n"
     ]
    },
    {
     "name": "stderr",
     "output_type": "stream",
     "text": [
      "Training Epochs:  24%|██▍       | 49/200 [03:15<10:06,  4.02s/it]"
     ]
    },
    {
     "name": "stdout",
     "output_type": "stream",
     "text": [
      "Iteration: 49. \n",
      "Val - Loss: 0.2511955797672272. Accuracy: 89.65166473388672\n"
     ]
    },
    {
     "name": "stderr",
     "output_type": "stream",
     "text": [
      "Training Epochs:  25%|██▌       | 50/200 [03:19<10:01,  4.01s/it]"
     ]
    },
    {
     "name": "stdout",
     "output_type": "stream",
     "text": [
      "Iteration: 50. \n",
      "Val - Loss: 0.2511483430862427. Accuracy: 89.66283416748047\n"
     ]
    },
    {
     "name": "stderr",
     "output_type": "stream",
     "text": [
      "Training Epochs:  26%|██▌       | 51/200 [03:23<09:59,  4.03s/it]"
     ]
    },
    {
     "name": "stdout",
     "output_type": "stream",
     "text": [
      "Iteration: 51. \n",
      "Val - Loss: 0.259573370218277. Accuracy: 89.24783325195312\n"
     ]
    },
    {
     "name": "stderr",
     "output_type": "stream",
     "text": [
      "Training Epochs:  26%|██▌       | 52/200 [03:27<09:54,  4.02s/it]"
     ]
    },
    {
     "name": "stdout",
     "output_type": "stream",
     "text": [
      "Iteration: 52. \n",
      "Val - Loss: 0.2503040134906769. Accuracy: 89.69232940673828\n"
     ]
    },
    {
     "name": "stderr",
     "output_type": "stream",
     "text": [
      "Training Epochs:  26%|██▋       | 53/200 [03:31<09:50,  4.02s/it]"
     ]
    },
    {
     "name": "stdout",
     "output_type": "stream",
     "text": [
      "Iteration: 53. \n",
      "Val - Loss: 0.2507931888103485. Accuracy: 89.66400146484375\n"
     ]
    },
    {
     "name": "stderr",
     "output_type": "stream",
     "text": [
      "Training Epochs:  27%|██▋       | 54/200 [03:35<09:46,  4.02s/it]"
     ]
    },
    {
     "name": "stdout",
     "output_type": "stream",
     "text": [
      "Iteration: 54. \n",
      "Val - Loss: 0.250173956155777. Accuracy: 89.6951675415039\n"
     ]
    },
    {
     "name": "stderr",
     "output_type": "stream",
     "text": [
      "Training Epochs:  28%|██▊       | 55/200 [03:39<09:45,  4.04s/it]"
     ]
    },
    {
     "name": "stdout",
     "output_type": "stream",
     "text": [
      "Iteration: 55. \n",
      "Val - Loss: 0.2524120807647705. Accuracy: 89.60700225830078\n"
     ]
    },
    {
     "name": "stderr",
     "output_type": "stream",
     "text": [
      "Training Epochs:  28%|██▊       | 56/200 [03:43<09:37,  4.01s/it]"
     ]
    },
    {
     "name": "stdout",
     "output_type": "stream",
     "text": [
      "Iteration: 56. \n",
      "Val - Loss: 0.2590895891189575. Accuracy: 89.27083587646484\n"
     ]
    },
    {
     "name": "stderr",
     "output_type": "stream",
     "text": [
      "Training Epochs:  28%|██▊       | 57/200 [03:47<09:35,  4.02s/it]"
     ]
    },
    {
     "name": "stdout",
     "output_type": "stream",
     "text": [
      "Iteration: 57. \n",
      "Val - Loss: 0.25424203276634216. Accuracy: 89.54833221435547\n"
     ]
    },
    {
     "name": "stderr",
     "output_type": "stream",
     "text": [
      "Training Epochs:  29%|██▉       | 58/200 [03:52<09:33,  4.04s/it]"
     ]
    },
    {
     "name": "stdout",
     "output_type": "stream",
     "text": [
      "Iteration: 58. \n",
      "Val - Loss: 0.24997517466545105. Accuracy: 89.68766784667969\n"
     ]
    },
    {
     "name": "stderr",
     "output_type": "stream",
     "text": [
      "Training Epochs:  30%|██▉       | 59/200 [03:55<09:26,  4.02s/it]"
     ]
    },
    {
     "name": "stdout",
     "output_type": "stream",
     "text": [
      "Iteration: 59. \n",
      "Val - Loss: 0.252078652381897. Accuracy: 89.61683654785156\n"
     ]
    },
    {
     "name": "stderr",
     "output_type": "stream",
     "text": [
      "Training Epochs:  30%|███       | 60/200 [03:59<09:14,  3.96s/it]"
     ]
    },
    {
     "name": "stdout",
     "output_type": "stream",
     "text": [
      "Iteration: 60. \n",
      "Val - Loss: 0.24976056814193726. Accuracy: 89.7040023803711\n",
      "\tBetter accuracy: 89.7040023803711\n"
     ]
    },
    {
     "name": "stderr",
     "output_type": "stream",
     "text": [
      "Training Epochs:  30%|███       | 61/200 [04:03<09:17,  4.01s/it]"
     ]
    },
    {
     "name": "stdout",
     "output_type": "stream",
     "text": [
      "Iteration: 61. \n",
      "Val - Loss: 0.25014930963516235. Accuracy: 89.68367004394531\n"
     ]
    },
    {
     "name": "stderr",
     "output_type": "stream",
     "text": [
      "Training Epochs:  31%|███       | 62/200 [04:08<09:15,  4.02s/it]"
     ]
    },
    {
     "name": "stdout",
     "output_type": "stream",
     "text": [
      "Iteration: 62. \n",
      "Val - Loss: 0.25037890672683716. Accuracy: 89.66283416748047\n"
     ]
    },
    {
     "name": "stderr",
     "output_type": "stream",
     "text": [
      "Training Epochs:  32%|███▏      | 63/200 [04:12<09:14,  4.05s/it]"
     ]
    },
    {
     "name": "stdout",
     "output_type": "stream",
     "text": [
      "Iteration: 63. \n",
      "Val - Loss: 0.24983958899974823. Accuracy: 89.69249725341797\n"
     ]
    },
    {
     "name": "stderr",
     "output_type": "stream",
     "text": [
      "Training Epochs:  32%|███▏      | 64/200 [04:16<09:08,  4.03s/it]"
     ]
    },
    {
     "name": "stdout",
     "output_type": "stream",
     "text": [
      "Iteration: 64. \n",
      "Val - Loss: 0.25089845061302185. Accuracy: 89.71033477783203\n",
      "\tBetter accuracy: 89.71033477783203\n"
     ]
    },
    {
     "name": "stderr",
     "output_type": "stream",
     "text": [
      "Training Epochs:  32%|███▎      | 65/200 [04:20<08:58,  3.99s/it]"
     ]
    },
    {
     "name": "stdout",
     "output_type": "stream",
     "text": [
      "Iteration: 65. \n",
      "Val - Loss: 0.263507604598999. Accuracy: 89.1181640625\n"
     ]
    },
    {
     "name": "stderr",
     "output_type": "stream",
     "text": [
      "Training Epochs:  33%|███▎      | 66/200 [04:24<08:58,  4.02s/it]"
     ]
    },
    {
     "name": "stdout",
     "output_type": "stream",
     "text": [
      "Iteration: 66. \n",
      "Val - Loss: 0.25240424275398254. Accuracy: 89.59449768066406\n"
     ]
    },
    {
     "name": "stderr",
     "output_type": "stream",
     "text": [
      "Training Epochs:  34%|███▎      | 67/200 [04:27<08:49,  3.98s/it]"
     ]
    },
    {
     "name": "stdout",
     "output_type": "stream",
     "text": [
      "Iteration: 67. \n",
      "Val - Loss: 0.24990087747573853. Accuracy: 89.72383117675781\n",
      "\tBetter accuracy: 89.72383117675781\n"
     ]
    },
    {
     "name": "stderr",
     "output_type": "stream",
     "text": [
      "Training Epochs:  34%|███▍      | 68/200 [04:32<08:48,  4.00s/it]"
     ]
    },
    {
     "name": "stdout",
     "output_type": "stream",
     "text": [
      "Iteration: 68. \n",
      "Val - Loss: 0.24971911311149597. Accuracy: 89.704833984375\n"
     ]
    },
    {
     "name": "stderr",
     "output_type": "stream",
     "text": [
      "Training Epochs:  34%|███▍      | 69/200 [04:36<08:46,  4.02s/it]"
     ]
    },
    {
     "name": "stdout",
     "output_type": "stream",
     "text": [
      "Iteration: 69. \n",
      "Val - Loss: 0.2501501441001892. Accuracy: 89.70933532714844\n"
     ]
    },
    {
     "name": "stderr",
     "output_type": "stream",
     "text": [
      "Training Epochs:  35%|███▌      | 70/200 [04:40<08:39,  4.00s/it]"
     ]
    },
    {
     "name": "stdout",
     "output_type": "stream",
     "text": [
      "Iteration: 70. \n",
      "Val - Loss: 0.25007644295692444. Accuracy: 89.72083282470703\n"
     ]
    },
    {
     "name": "stderr",
     "output_type": "stream",
     "text": [
      "Training Epochs:  36%|███▌      | 71/200 [04:44<08:36,  4.01s/it]"
     ]
    },
    {
     "name": "stdout",
     "output_type": "stream",
     "text": [
      "Iteration: 71. \n",
      "Val - Loss: 0.2498674988746643. Accuracy: 89.7038345336914\n"
     ]
    },
    {
     "name": "stderr",
     "output_type": "stream",
     "text": [
      "Training Epochs:  36%|███▌      | 72/200 [04:48<08:33,  4.01s/it]"
     ]
    },
    {
     "name": "stdout",
     "output_type": "stream",
     "text": [
      "Iteration: 72. \n",
      "Val - Loss: 0.25094926357269287. Accuracy: 89.65833282470703\n"
     ]
    },
    {
     "name": "stderr",
     "output_type": "stream",
     "text": [
      "Training Epochs:  36%|███▋      | 73/200 [04:52<08:27,  4.00s/it]"
     ]
    },
    {
     "name": "stdout",
     "output_type": "stream",
     "text": [
      "Iteration: 73. \n",
      "Val - Loss: 0.25336208939552307. Accuracy: 89.58866882324219\n"
     ]
    },
    {
     "name": "stderr",
     "output_type": "stream",
     "text": [
      "Training Epochs:  37%|███▋      | 74/200 [04:56<08:24,  4.01s/it]"
     ]
    },
    {
     "name": "stdout",
     "output_type": "stream",
     "text": [
      "Iteration: 74. \n",
      "Val - Loss: 0.2491445243358612. Accuracy: 89.75516510009766\n",
      "\tBetter accuracy: 89.75516510009766\n"
     ]
    },
    {
     "name": "stderr",
     "output_type": "stream",
     "text": [
      "Training Epochs:  38%|███▊      | 75/200 [04:59<08:12,  3.94s/it]"
     ]
    },
    {
     "name": "stdout",
     "output_type": "stream",
     "text": [
      "Iteration: 75. \n",
      "Val - Loss: 0.25654926896095276. Accuracy: 89.43450164794922\n"
     ]
    },
    {
     "name": "stderr",
     "output_type": "stream",
     "text": [
      "Training Epochs:  38%|███▊      | 76/200 [05:03<08:10,  3.96s/it]"
     ]
    },
    {
     "name": "stdout",
     "output_type": "stream",
     "text": [
      "Iteration: 76. \n",
      "Val - Loss: 0.26578572392463684. Accuracy: 88.90433502197266\n"
     ]
    },
    {
     "name": "stderr",
     "output_type": "stream",
     "text": [
      "Training Epochs:  38%|███▊      | 77/200 [05:07<07:58,  3.89s/it]"
     ]
    },
    {
     "name": "stdout",
     "output_type": "stream",
     "text": [
      "Iteration: 77. \n",
      "Val - Loss: 0.250822514295578. Accuracy: 89.69132995605469\n"
     ]
    },
    {
     "name": "stderr",
     "output_type": "stream",
     "text": [
      "Training Epochs:  39%|███▉      | 78/200 [05:11<07:52,  3.88s/it]"
     ]
    },
    {
     "name": "stdout",
     "output_type": "stream",
     "text": [
      "Iteration: 78. \n",
      "Val - Loss: 0.24950917065143585. Accuracy: 89.73899841308594\n"
     ]
    },
    {
     "name": "stderr",
     "output_type": "stream",
     "text": [
      "Training Epochs:  40%|███▉      | 79/200 [05:15<07:51,  3.89s/it]"
     ]
    },
    {
     "name": "stdout",
     "output_type": "stream",
     "text": [
      "Iteration: 79. \n",
      "Val - Loss: 0.24917931854724884. Accuracy: 89.75166320800781\n"
     ]
    },
    {
     "name": "stderr",
     "output_type": "stream",
     "text": [
      "Training Epochs:  40%|████      | 80/200 [05:19<07:52,  3.94s/it]"
     ]
    },
    {
     "name": "stdout",
     "output_type": "stream",
     "text": [
      "Iteration: 80. \n",
      "Val - Loss: 0.25170040130615234. Accuracy: 89.62166595458984\n"
     ]
    },
    {
     "name": "stderr",
     "output_type": "stream",
     "text": [
      "Training Epochs:  40%|████      | 81/200 [05:23<07:50,  3.96s/it]"
     ]
    },
    {
     "name": "stdout",
     "output_type": "stream",
     "text": [
      "Iteration: 81. \n",
      "Val - Loss: 0.2509586811065674. Accuracy: 89.63833618164062\n"
     ]
    },
    {
     "name": "stderr",
     "output_type": "stream",
     "text": [
      "Training Epochs:  41%|████      | 82/200 [05:27<07:48,  3.97s/it]"
     ]
    },
    {
     "name": "stdout",
     "output_type": "stream",
     "text": [
      "Iteration: 82. \n",
      "Val - Loss: 0.25412923097610474. Accuracy: 89.51333618164062\n"
     ]
    },
    {
     "name": "stderr",
     "output_type": "stream",
     "text": [
      "Training Epochs:  42%|████▏     | 83/200 [05:31<07:49,  4.02s/it]"
     ]
    },
    {
     "name": "stdout",
     "output_type": "stream",
     "text": [
      "Iteration: 83. \n",
      "Val - Loss: 0.2548966109752655. Accuracy: 89.42416381835938\n"
     ]
    },
    {
     "name": "stderr",
     "output_type": "stream",
     "text": [
      "Training Epochs:  42%|████▏     | 84/200 [05:35<07:45,  4.01s/it]"
     ]
    },
    {
     "name": "stdout",
     "output_type": "stream",
     "text": [
      "Iteration: 84. \n",
      "Val - Loss: 0.25006693601608276. Accuracy: 89.69416809082031\n"
     ]
    },
    {
     "name": "stderr",
     "output_type": "stream",
     "text": [
      "Training Epochs:  42%|████▎     | 85/200 [05:39<07:40,  4.00s/it]"
     ]
    },
    {
     "name": "stdout",
     "output_type": "stream",
     "text": [
      "Iteration: 85. \n",
      "Val - Loss: 0.2494649738073349. Accuracy: 89.76100158691406\n",
      "\tBetter accuracy: 89.76100158691406\n"
     ]
    },
    {
     "name": "stderr",
     "output_type": "stream",
     "text": [
      "Training Epochs:  43%|████▎     | 86/200 [05:43<07:34,  3.99s/it]"
     ]
    },
    {
     "name": "stdout",
     "output_type": "stream",
     "text": [
      "Iteration: 86. \n",
      "Val - Loss: 0.24878567457199097. Accuracy: 89.7614974975586\n",
      "\tBetter accuracy: 89.7614974975586\n"
     ]
    },
    {
     "name": "stderr",
     "output_type": "stream",
     "text": [
      "Training Epochs:  44%|████▎     | 87/200 [05:47<07:32,  4.01s/it]"
     ]
    },
    {
     "name": "stdout",
     "output_type": "stream",
     "text": [
      "Iteration: 87. \n",
      "Val - Loss: 0.25026100873947144. Accuracy: 89.69733428955078\n"
     ]
    },
    {
     "name": "stderr",
     "output_type": "stream",
     "text": [
      "Training Epochs:  44%|████▍     | 88/200 [05:51<07:26,  3.99s/it]"
     ]
    },
    {
     "name": "stdout",
     "output_type": "stream",
     "text": [
      "Iteration: 88. \n",
      "Val - Loss: 0.24891796708106995. Accuracy: 89.77733612060547\n",
      "\tBetter accuracy: 89.77733612060547\n"
     ]
    },
    {
     "name": "stderr",
     "output_type": "stream",
     "text": [
      "Training Epochs:  44%|████▍     | 89/200 [05:55<07:26,  4.02s/it]"
     ]
    },
    {
     "name": "stdout",
     "output_type": "stream",
     "text": [
      "Iteration: 89. \n",
      "Val - Loss: 0.24978215992450714. Accuracy: 89.7308349609375\n"
     ]
    },
    {
     "name": "stderr",
     "output_type": "stream",
     "text": [
      "Training Epochs:  45%|████▌     | 90/200 [05:59<07:20,  4.00s/it]"
     ]
    },
    {
     "name": "stdout",
     "output_type": "stream",
     "text": [
      "Iteration: 90. \n",
      "Val - Loss: 0.24907515943050385. Accuracy: 89.73433685302734\n"
     ]
    },
    {
     "name": "stderr",
     "output_type": "stream",
     "text": [
      "Training Epochs:  46%|████▌     | 91/200 [06:03<07:15,  4.00s/it]"
     ]
    },
    {
     "name": "stdout",
     "output_type": "stream",
     "text": [
      "Iteration: 91. \n",
      "Val - Loss: 0.2503302991390228. Accuracy: 89.72333526611328\n"
     ]
    },
    {
     "name": "stderr",
     "output_type": "stream",
     "text": [
      "Training Epochs:  46%|████▌     | 92/200 [06:07<07:12,  4.01s/it]"
     ]
    },
    {
     "name": "stdout",
     "output_type": "stream",
     "text": [
      "Iteration: 92. \n",
      "Val - Loss: 0.25414520502090454. Accuracy: 89.52083587646484\n"
     ]
    },
    {
     "name": "stderr",
     "output_type": "stream",
     "text": [
      "Training Epochs:  46%|████▋     | 93/200 [06:11<07:08,  4.00s/it]"
     ]
    },
    {
     "name": "stdout",
     "output_type": "stream",
     "text": [
      "Iteration: 93. \n",
      "Val - Loss: 0.2506175637245178. Accuracy: 89.70849609375\n"
     ]
    },
    {
     "name": "stderr",
     "output_type": "stream",
     "text": [
      "Training Epochs:  47%|████▋     | 94/200 [06:15<07:03,  4.00s/it]"
     ]
    },
    {
     "name": "stdout",
     "output_type": "stream",
     "text": [
      "Iteration: 94. \n",
      "Val - Loss: 0.24913842976093292. Accuracy: 89.74983215332031\n"
     ]
    },
    {
     "name": "stderr",
     "output_type": "stream",
     "text": [
      "Training Epochs:  48%|████▊     | 95/200 [06:19<06:59,  3.99s/it]"
     ]
    },
    {
     "name": "stdout",
     "output_type": "stream",
     "text": [
      "Iteration: 95. \n",
      "Val - Loss: 0.24933403730392456. Accuracy: 89.74366760253906\n"
     ]
    },
    {
     "name": "stderr",
     "output_type": "stream",
     "text": [
      "Training Epochs:  48%|████▊     | 96/200 [06:23<06:51,  3.96s/it]"
     ]
    },
    {
     "name": "stdout",
     "output_type": "stream",
     "text": [
      "Iteration: 96. \n",
      "Val - Loss: 0.25098949670791626. Accuracy: 89.6760025024414\n"
     ]
    },
    {
     "name": "stderr",
     "output_type": "stream",
     "text": [
      "Training Epochs:  48%|████▊     | 97/200 [06:27<06:52,  4.01s/it]"
     ]
    },
    {
     "name": "stdout",
     "output_type": "stream",
     "text": [
      "Iteration: 97. \n",
      "Val - Loss: 0.2491435408592224. Accuracy: 89.75316619873047\n"
     ]
    },
    {
     "name": "stderr",
     "output_type": "stream",
     "text": [
      "Training Epochs:  49%|████▉     | 98/200 [06:31<06:47,  3.99s/it]"
     ]
    },
    {
     "name": "stdout",
     "output_type": "stream",
     "text": [
      "Iteration: 98. \n",
      "Val - Loss: 0.25615194439888. Accuracy: 89.4471664428711\n"
     ]
    },
    {
     "name": "stderr",
     "output_type": "stream",
     "text": [
      "Training Epochs:  50%|████▉     | 99/200 [06:35<06:44,  4.00s/it]"
     ]
    },
    {
     "name": "stdout",
     "output_type": "stream",
     "text": [
      "Iteration: 99. \n",
      "Val - Loss: 0.2502605617046356. Accuracy: 89.71800231933594\n"
     ]
    },
    {
     "name": "stderr",
     "output_type": "stream",
     "text": [
      "Training Epochs:  50%|█████     | 100/200 [06:39<06:39,  4.00s/it]"
     ]
    },
    {
     "name": "stdout",
     "output_type": "stream",
     "text": [
      "Iteration: 100. \n",
      "Val - Loss: 0.2507915496826172. Accuracy: 89.70266723632812\n"
     ]
    },
    {
     "name": "stderr",
     "output_type": "stream",
     "text": [
      "Training Epochs:  50%|█████     | 101/200 [06:43<06:37,  4.01s/it]"
     ]
    },
    {
     "name": "stdout",
     "output_type": "stream",
     "text": [
      "Iteration: 101. \n",
      "Val - Loss: 0.24924997985363007. Accuracy: 89.75833129882812\n"
     ]
    },
    {
     "name": "stderr",
     "output_type": "stream",
     "text": [
      "Training Epochs:  51%|█████     | 102/200 [06:47<06:32,  4.00s/it]"
     ]
    },
    {
     "name": "stdout",
     "output_type": "stream",
     "text": [
      "Iteration: 102. \n",
      "Val - Loss: 0.2519865036010742. Accuracy: 89.62200164794922\n"
     ]
    },
    {
     "name": "stderr",
     "output_type": "stream",
     "text": [
      "Training Epochs:  52%|█████▏    | 103/200 [06:51<06:28,  4.00s/it]"
     ]
    },
    {
     "name": "stdout",
     "output_type": "stream",
     "text": [
      "Iteration: 103. \n",
      "Val - Loss: 0.2518075108528137. Accuracy: 89.62516784667969\n"
     ]
    },
    {
     "name": "stderr",
     "output_type": "stream",
     "text": [
      "Training Epochs:  52%|█████▏    | 104/200 [06:55<06:27,  4.03s/it]"
     ]
    },
    {
     "name": "stdout",
     "output_type": "stream",
     "text": [
      "Iteration: 104. \n",
      "Val - Loss: 0.24931947886943817. Accuracy: 89.732666015625\n"
     ]
    },
    {
     "name": "stderr",
     "output_type": "stream",
     "text": [
      "Training Epochs:  52%|█████▎    | 105/200 [06:59<06:25,  4.06s/it]"
     ]
    },
    {
     "name": "stdout",
     "output_type": "stream",
     "text": [
      "Iteration: 105. \n",
      "Val - Loss: 0.24933800101280212. Accuracy: 89.73916625976562\n"
     ]
    },
    {
     "name": "stderr",
     "output_type": "stream",
     "text": [
      "Training Epochs:  53%|█████▎    | 106/200 [07:03<06:21,  4.05s/it]"
     ]
    },
    {
     "name": "stdout",
     "output_type": "stream",
     "text": [
      "Iteration: 106. \n",
      "Val - Loss: 0.24865669012069702. Accuracy: 89.77166748046875\n"
     ]
    },
    {
     "name": "stderr",
     "output_type": "stream",
     "text": [
      "Training Epochs:  54%|█████▎    | 107/200 [07:07<06:13,  4.02s/it]"
     ]
    },
    {
     "name": "stdout",
     "output_type": "stream",
     "text": [
      "Iteration: 107. \n",
      "Val - Loss: 0.24861693382263184. Accuracy: 89.760498046875\n"
     ]
    },
    {
     "name": "stderr",
     "output_type": "stream",
     "text": [
      "Training Epochs:  54%|█████▍    | 108/200 [07:11<06:07,  4.00s/it]"
     ]
    },
    {
     "name": "stdout",
     "output_type": "stream",
     "text": [
      "Iteration: 108. \n",
      "Val - Loss: 0.2531580328941345. Accuracy: 89.5770034790039\n"
     ]
    },
    {
     "name": "stderr",
     "output_type": "stream",
     "text": [
      "Training Epochs:  55%|█████▍    | 109/200 [07:15<06:02,  3.99s/it]"
     ]
    },
    {
     "name": "stdout",
     "output_type": "stream",
     "text": [
      "Iteration: 109. \n",
      "Val - Loss: 0.24936576187610626. Accuracy: 89.75450134277344\n"
     ]
    },
    {
     "name": "stderr",
     "output_type": "stream",
     "text": [
      "Training Epochs:  55%|█████▌    | 110/200 [07:19<06:00,  4.00s/it]"
     ]
    },
    {
     "name": "stdout",
     "output_type": "stream",
     "text": [
      "Iteration: 110. \n",
      "Val - Loss: 0.2490788996219635. Accuracy: 89.75166320800781\n"
     ]
    },
    {
     "name": "stderr",
     "output_type": "stream",
     "text": [
      "Training Epochs:  56%|█████▌    | 111/200 [07:23<05:54,  3.98s/it]"
     ]
    },
    {
     "name": "stdout",
     "output_type": "stream",
     "text": [
      "Iteration: 111. \n",
      "Val - Loss: 0.2509289085865021. Accuracy: 89.70883178710938\n"
     ]
    },
    {
     "name": "stderr",
     "output_type": "stream",
     "text": [
      "Training Epochs:  56%|█████▌    | 112/200 [07:27<05:49,  3.97s/it]"
     ]
    },
    {
     "name": "stdout",
     "output_type": "stream",
     "text": [
      "Iteration: 112. \n",
      "Val - Loss: 0.24956181645393372. Accuracy: 89.74533081054688\n"
     ]
    },
    {
     "name": "stderr",
     "output_type": "stream",
     "text": [
      "Training Epochs:  56%|█████▋    | 113/200 [07:31<05:44,  3.96s/it]"
     ]
    },
    {
     "name": "stdout",
     "output_type": "stream",
     "text": [
      "Iteration: 113. \n",
      "Val - Loss: 0.2501535415649414. Accuracy: 89.74983215332031\n"
     ]
    },
    {
     "name": "stderr",
     "output_type": "stream",
     "text": [
      "Training Epochs:  57%|█████▋    | 114/200 [07:35<05:41,  3.97s/it]"
     ]
    },
    {
     "name": "stdout",
     "output_type": "stream",
     "text": [
      "Iteration: 114. \n",
      "Val - Loss: 0.24878369271755219. Accuracy: 89.77383422851562\n"
     ]
    },
    {
     "name": "stderr",
     "output_type": "stream",
     "text": [
      "Training Epochs:  57%|█████▊    | 115/200 [07:39<05:36,  3.96s/it]"
     ]
    },
    {
     "name": "stdout",
     "output_type": "stream",
     "text": [
      "Iteration: 115. \n",
      "Val - Loss: 0.250095933675766. Accuracy: 89.7403335571289\n"
     ]
    },
    {
     "name": "stderr",
     "output_type": "stream",
     "text": [
      "Training Epochs:  58%|█████▊    | 116/200 [07:43<05:31,  3.95s/it]"
     ]
    },
    {
     "name": "stdout",
     "output_type": "stream",
     "text": [
      "Iteration: 116. \n",
      "Val - Loss: 0.24998942017555237. Accuracy: 89.70133209228516\n"
     ]
    },
    {
     "name": "stderr",
     "output_type": "stream",
     "text": [
      "Training Epochs:  58%|█████▊    | 117/200 [07:47<05:26,  3.94s/it]"
     ]
    },
    {
     "name": "stdout",
     "output_type": "stream",
     "text": [
      "Iteration: 117. \n",
      "Val - Loss: 0.2503008246421814. Accuracy: 89.70833587646484\n"
     ]
    },
    {
     "name": "stderr",
     "output_type": "stream",
     "text": [
      "Training Epochs:  59%|█████▉    | 118/200 [07:51<05:24,  3.96s/it]"
     ]
    },
    {
     "name": "stdout",
     "output_type": "stream",
     "text": [
      "Iteration: 118. \n",
      "Val - Loss: 0.2508842349052429. Accuracy: 89.69816589355469\n"
     ]
    },
    {
     "name": "stderr",
     "output_type": "stream",
     "text": [
      "Training Epochs:  60%|█████▉    | 119/200 [07:55<05:23,  3.99s/it]"
     ]
    },
    {
     "name": "stdout",
     "output_type": "stream",
     "text": [
      "Iteration: 119. \n",
      "Val - Loss: 0.24890562891960144. Accuracy: 89.7681655883789\n"
     ]
    },
    {
     "name": "stderr",
     "output_type": "stream",
     "text": [
      "Training Epochs:  60%|██████    | 120/200 [07:59<05:19,  4.00s/it]"
     ]
    },
    {
     "name": "stdout",
     "output_type": "stream",
     "text": [
      "Iteration: 120. \n",
      "Val - Loss: 0.25017428398132324. Accuracy: 89.72566986083984\n"
     ]
    },
    {
     "name": "stderr",
     "output_type": "stream",
     "text": [
      "Training Epochs:  60%|██████    | 121/200 [08:03<05:19,  4.04s/it]"
     ]
    },
    {
     "name": "stdout",
     "output_type": "stream",
     "text": [
      "Iteration: 121. \n",
      "Val - Loss: 0.249628484249115. Accuracy: 89.7403335571289\n"
     ]
    },
    {
     "name": "stderr",
     "output_type": "stream",
     "text": [
      "Training Epochs:  61%|██████    | 122/200 [08:07<05:14,  4.03s/it]"
     ]
    },
    {
     "name": "stdout",
     "output_type": "stream",
     "text": [
      "Iteration: 122. \n",
      "Val - Loss: 0.2516126334667206. Accuracy: 89.63883209228516\n"
     ]
    },
    {
     "name": "stderr",
     "output_type": "stream",
     "text": [
      "Training Epochs:  62%|██████▏   | 123/200 [08:11<05:10,  4.03s/it]"
     ]
    },
    {
     "name": "stdout",
     "output_type": "stream",
     "text": [
      "Iteration: 123. \n",
      "Val - Loss: 0.25105053186416626. Accuracy: 89.70016479492188\n"
     ]
    },
    {
     "name": "stderr",
     "output_type": "stream",
     "text": [
      "Training Epochs:  62%|██████▏   | 124/200 [08:15<05:06,  4.04s/it]"
     ]
    },
    {
     "name": "stdout",
     "output_type": "stream",
     "text": [
      "Iteration: 124. \n",
      "Val - Loss: 0.24976135790348053. Accuracy: 89.73533630371094\n"
     ]
    },
    {
     "name": "stderr",
     "output_type": "stream",
     "text": [
      "Training Epochs:  62%|██████▎   | 125/200 [08:19<05:03,  4.04s/it]"
     ]
    },
    {
     "name": "stdout",
     "output_type": "stream",
     "text": [
      "Iteration: 125. \n",
      "Val - Loss: 0.2489204704761505. Accuracy: 89.76416778564453\n"
     ]
    },
    {
     "name": "stderr",
     "output_type": "stream",
     "text": [
      "Training Epochs:  63%|██████▎   | 126/200 [08:23<04:58,  4.03s/it]"
     ]
    },
    {
     "name": "stdout",
     "output_type": "stream",
     "text": [
      "Iteration: 126. \n",
      "Val - Loss: 0.25073209404945374. Accuracy: 89.65733337402344\n"
     ]
    },
    {
     "name": "stderr",
     "output_type": "stream",
     "text": [
      "Training Epochs:  64%|██████▎   | 127/200 [08:27<04:52,  4.01s/it]"
     ]
    },
    {
     "name": "stdout",
     "output_type": "stream",
     "text": [
      "Iteration: 127. \n",
      "Val - Loss: 0.25150683522224426. Accuracy: 89.68250274658203\n"
     ]
    },
    {
     "name": "stderr",
     "output_type": "stream",
     "text": [
      "Training Epochs:  64%|██████▍   | 128/200 [08:31<04:46,  3.98s/it]"
     ]
    },
    {
     "name": "stdout",
     "output_type": "stream",
     "text": [
      "Iteration: 128. \n",
      "Val - Loss: 0.2490362524986267. Accuracy: 89.77149963378906\n"
     ]
    },
    {
     "name": "stderr",
     "output_type": "stream",
     "text": [
      "Training Epochs:  64%|██████▍   | 129/200 [08:35<04:44,  4.01s/it]"
     ]
    },
    {
     "name": "stdout",
     "output_type": "stream",
     "text": [
      "Iteration: 129. \n",
      "Val - Loss: 0.2495478093624115. Accuracy: 89.72949981689453\n"
     ]
    },
    {
     "name": "stderr",
     "output_type": "stream",
     "text": [
      "Training Epochs:  65%|██████▌   | 130/200 [08:39<04:42,  4.03s/it]"
     ]
    },
    {
     "name": "stdout",
     "output_type": "stream",
     "text": [
      "Iteration: 130. \n",
      "Val - Loss: 0.2533223330974579. Accuracy: 89.5556640625\n"
     ]
    },
    {
     "name": "stderr",
     "output_type": "stream",
     "text": [
      "Training Epochs:  66%|██████▌   | 131/200 [08:43<04:37,  4.01s/it]"
     ]
    },
    {
     "name": "stdout",
     "output_type": "stream",
     "text": [
      "Iteration: 131. \n",
      "Val - Loss: 0.24987578392028809. Accuracy: 89.71333312988281\n"
     ]
    },
    {
     "name": "stderr",
     "output_type": "stream",
     "text": [
      "Training Epochs:  66%|██████▌   | 132/200 [08:47<04:30,  3.98s/it]"
     ]
    },
    {
     "name": "stdout",
     "output_type": "stream",
     "text": [
      "Iteration: 132. \n",
      "Val - Loss: 0.251529335975647. Accuracy: 89.69200134277344\n"
     ]
    },
    {
     "name": "stderr",
     "output_type": "stream",
     "text": [
      "Training Epochs:  66%|██████▋   | 133/200 [08:51<04:27,  3.99s/it]"
     ]
    },
    {
     "name": "stdout",
     "output_type": "stream",
     "text": [
      "Iteration: 133. \n",
      "Val - Loss: 0.2498571276664734. Accuracy: 89.69933319091797\n"
     ]
    },
    {
     "name": "stderr",
     "output_type": "stream",
     "text": [
      "Training Epochs:  67%|██████▋   | 134/200 [08:55<04:22,  3.98s/it]"
     ]
    },
    {
     "name": "stdout",
     "output_type": "stream",
     "text": [
      "Iteration: 134. \n",
      "Val - Loss: 0.24990218877792358. Accuracy: 89.74633026123047\n"
     ]
    },
    {
     "name": "stderr",
     "output_type": "stream",
     "text": [
      "Training Epochs:  68%|██████▊   | 135/200 [08:59<04:17,  3.96s/it]"
     ]
    },
    {
     "name": "stdout",
     "output_type": "stream",
     "text": [
      "Iteration: 135. \n",
      "Val - Loss: 0.25115227699279785. Accuracy: 89.70316314697266\n"
     ]
    },
    {
     "name": "stderr",
     "output_type": "stream",
     "text": [
      "Training Epochs:  68%|██████▊   | 136/200 [09:03<04:13,  3.96s/it]"
     ]
    },
    {
     "name": "stdout",
     "output_type": "stream",
     "text": [
      "Iteration: 136. \n",
      "Val - Loss: 0.24925369024276733. Accuracy: 89.72149658203125\n"
     ]
    },
    {
     "name": "stderr",
     "output_type": "stream",
     "text": [
      "Training Epochs:  68%|██████▊   | 137/200 [09:07<04:09,  3.96s/it]"
     ]
    },
    {
     "name": "stdout",
     "output_type": "stream",
     "text": [
      "Iteration: 137. \n",
      "Val - Loss: 0.2507518529891968. Accuracy: 89.66699981689453\n"
     ]
    },
    {
     "name": "stderr",
     "output_type": "stream",
     "text": [
      "Training Epochs:  69%|██████▉   | 138/200 [09:11<04:08,  4.00s/it]"
     ]
    },
    {
     "name": "stdout",
     "output_type": "stream",
     "text": [
      "Iteration: 138. \n",
      "Val - Loss: 0.25035369396209717. Accuracy: 89.68733215332031\n"
     ]
    },
    {
     "name": "stderr",
     "output_type": "stream",
     "text": [
      "Training Epochs:  70%|██████▉   | 139/200 [09:15<04:04,  4.01s/it]"
     ]
    },
    {
     "name": "stdout",
     "output_type": "stream",
     "text": [
      "Iteration: 139. \n",
      "Val - Loss: 0.24962568283081055. Accuracy: 89.76016998291016\n"
     ]
    },
    {
     "name": "stderr",
     "output_type": "stream",
     "text": [
      "Training Epochs:  70%|███████   | 140/200 [09:19<03:59,  3.99s/it]"
     ]
    },
    {
     "name": "stdout",
     "output_type": "stream",
     "text": [
      "Iteration: 140. \n",
      "Val - Loss: 0.24958431720733643. Accuracy: 89.7471694946289\n"
     ]
    },
    {
     "name": "stderr",
     "output_type": "stream",
     "text": [
      "Training Epochs:  70%|███████   | 141/200 [09:23<03:55,  3.99s/it]"
     ]
    },
    {
     "name": "stdout",
     "output_type": "stream",
     "text": [
      "Iteration: 141. \n",
      "Val - Loss: 0.24942314624786377. Accuracy: 89.73200225830078\n"
     ]
    },
    {
     "name": "stderr",
     "output_type": "stream",
     "text": [
      "Training Epochs:  71%|███████   | 142/200 [09:27<03:51,  3.99s/it]"
     ]
    },
    {
     "name": "stdout",
     "output_type": "stream",
     "text": [
      "Iteration: 142. \n",
      "Val - Loss: 0.25017276406288147. Accuracy: 89.72416687011719\n"
     ]
    },
    {
     "name": "stderr",
     "output_type": "stream",
     "text": [
      "Training Epochs:  72%|███████▏  | 143/200 [09:31<03:45,  3.96s/it]"
     ]
    },
    {
     "name": "stdout",
     "output_type": "stream",
     "text": [
      "Iteration: 143. \n",
      "Val - Loss: 0.2502796947956085. Accuracy: 89.73750305175781\n"
     ]
    },
    {
     "name": "stderr",
     "output_type": "stream",
     "text": [
      "Training Epochs:  72%|███████▏  | 144/200 [09:35<03:43,  3.99s/it]"
     ]
    },
    {
     "name": "stdout",
     "output_type": "stream",
     "text": [
      "Iteration: 144. \n",
      "Val - Loss: 0.2502272129058838. Accuracy: 89.68583679199219\n"
     ]
    },
    {
     "name": "stderr",
     "output_type": "stream",
     "text": [
      "Training Epochs:  72%|███████▎  | 145/200 [09:39<03:36,  3.94s/it]"
     ]
    },
    {
     "name": "stdout",
     "output_type": "stream",
     "text": [
      "Iteration: 145. \n",
      "Val - Loss: 0.2519797086715698. Accuracy: 89.61316680908203\n"
     ]
    },
    {
     "name": "stderr",
     "output_type": "stream",
     "text": [
      "Training Epochs:  73%|███████▎  | 146/200 [09:43<03:32,  3.93s/it]"
     ]
    },
    {
     "name": "stdout",
     "output_type": "stream",
     "text": [
      "Iteration: 146. \n",
      "Val - Loss: 0.2500264644622803. Accuracy: 89.70983123779297\n"
     ]
    },
    {
     "name": "stderr",
     "output_type": "stream",
     "text": [
      "Training Epochs:  74%|███████▎  | 147/200 [09:47<03:30,  3.97s/it]"
     ]
    },
    {
     "name": "stdout",
     "output_type": "stream",
     "text": [
      "Iteration: 147. \n",
      "Val - Loss: 0.2507758140563965. Accuracy: 89.76249694824219\n"
     ]
    },
    {
     "name": "stderr",
     "output_type": "stream",
     "text": [
      "Training Epochs:  74%|███████▍  | 148/200 [09:50<03:23,  3.92s/it]"
     ]
    },
    {
     "name": "stdout",
     "output_type": "stream",
     "text": [
      "Iteration: 148. \n",
      "Val - Loss: 0.25441160798072815. Accuracy: 89.55833435058594\n"
     ]
    },
    {
     "name": "stderr",
     "output_type": "stream",
     "text": [
      "Training Epochs:  74%|███████▍  | 149/200 [09:54<03:19,  3.91s/it]"
     ]
    },
    {
     "name": "stdout",
     "output_type": "stream",
     "text": [
      "Iteration: 149. \n",
      "Val - Loss: 0.2503223419189453. Accuracy: 89.75516510009766\n"
     ]
    },
    {
     "name": "stderr",
     "output_type": "stream",
     "text": [
      "Training Epochs:  75%|███████▌  | 150/200 [09:58<03:16,  3.93s/it]"
     ]
    },
    {
     "name": "stdout",
     "output_type": "stream",
     "text": [
      "Iteration: 150. \n",
      "Val - Loss: 0.25245165824890137. Accuracy: 89.62733459472656\n"
     ]
    },
    {
     "name": "stderr",
     "output_type": "stream",
     "text": [
      "Training Epochs:  76%|███████▌  | 151/200 [10:02<03:11,  3.91s/it]"
     ]
    },
    {
     "name": "stdout",
     "output_type": "stream",
     "text": [
      "Iteration: 151. \n",
      "Val - Loss: 0.2492862045764923. Accuracy: 89.77183532714844\n"
     ]
    },
    {
     "name": "stderr",
     "output_type": "stream",
     "text": [
      "Training Epochs:  76%|███████▌  | 152/200 [10:06<03:08,  3.93s/it]"
     ]
    },
    {
     "name": "stdout",
     "output_type": "stream",
     "text": [
      "Iteration: 152. \n",
      "Val - Loss: 0.24937166273593903. Accuracy: 89.7786636352539\n",
      "\tBetter accuracy: 89.7786636352539\n"
     ]
    },
    {
     "name": "stderr",
     "output_type": "stream",
     "text": [
      "Training Epochs:  76%|███████▋  | 153/200 [10:10<03:06,  3.97s/it]"
     ]
    },
    {
     "name": "stdout",
     "output_type": "stream",
     "text": [
      "Iteration: 153. \n",
      "Val - Loss: 0.2509613633155823. Accuracy: 89.69833374023438\n"
     ]
    },
    {
     "name": "stderr",
     "output_type": "stream",
     "text": [
      "Training Epochs:  77%|███████▋  | 154/200 [10:14<03:02,  3.96s/it]"
     ]
    },
    {
     "name": "stdout",
     "output_type": "stream",
     "text": [
      "Iteration: 154. \n",
      "Val - Loss: 0.24946853518486023. Accuracy: 89.73566436767578\n"
     ]
    },
    {
     "name": "stderr",
     "output_type": "stream",
     "text": [
      "Training Epochs:  78%|███████▊  | 155/200 [10:18<02:55,  3.90s/it]"
     ]
    },
    {
     "name": "stdout",
     "output_type": "stream",
     "text": [
      "Iteration: 155. \n",
      "Val - Loss: 0.24953415989875793. Accuracy: 89.75299835205078\n"
     ]
    },
    {
     "name": "stderr",
     "output_type": "stream",
     "text": [
      "Training Epochs:  78%|███████▊  | 156/200 [10:22<02:52,  3.93s/it]"
     ]
    },
    {
     "name": "stdout",
     "output_type": "stream",
     "text": [
      "Iteration: 156. \n",
      "Val - Loss: 0.25333085656166077. Accuracy: 89.5739974975586\n"
     ]
    },
    {
     "name": "stderr",
     "output_type": "stream",
     "text": [
      "Training Epochs:  78%|███████▊  | 157/200 [10:26<02:48,  3.91s/it]"
     ]
    },
    {
     "name": "stdout",
     "output_type": "stream",
     "text": [
      "Iteration: 157. \n",
      "Val - Loss: 0.2505640983581543. Accuracy: 89.66033172607422\n"
     ]
    },
    {
     "name": "stderr",
     "output_type": "stream",
     "text": [
      "Training Epochs:  79%|███████▉  | 158/200 [10:30<02:44,  3.93s/it]"
     ]
    },
    {
     "name": "stdout",
     "output_type": "stream",
     "text": [
      "Iteration: 158. \n",
      "Val - Loss: 0.2497950792312622. Accuracy: 89.767333984375\n"
     ]
    },
    {
     "name": "stderr",
     "output_type": "stream",
     "text": [
      "Training Epochs:  80%|███████▉  | 159/200 [10:34<02:42,  3.95s/it]"
     ]
    },
    {
     "name": "stdout",
     "output_type": "stream",
     "text": [
      "Iteration: 159. \n",
      "Val - Loss: 0.25186318159103394. Accuracy: 89.66766357421875\n"
     ]
    },
    {
     "name": "stderr",
     "output_type": "stream",
     "text": [
      "Training Epochs:  80%|████████  | 160/200 [10:38<02:37,  3.95s/it]"
     ]
    },
    {
     "name": "stdout",
     "output_type": "stream",
     "text": [
      "Iteration: 160. \n",
      "Val - Loss: 0.25037500262260437. Accuracy: 89.67433166503906\n"
     ]
    },
    {
     "name": "stderr",
     "output_type": "stream",
     "text": [
      "Training Epochs:  80%|████████  | 161/200 [10:42<02:35,  3.99s/it]"
     ]
    },
    {
     "name": "stdout",
     "output_type": "stream",
     "text": [
      "Iteration: 161. \n",
      "Val - Loss: 0.2510179579257965. Accuracy: 89.63600158691406\n"
     ]
    },
    {
     "name": "stderr",
     "output_type": "stream",
     "text": [
      "Training Epochs:  81%|████████  | 162/200 [10:46<02:31,  4.00s/it]"
     ]
    },
    {
     "name": "stdout",
     "output_type": "stream",
     "text": [
      "Iteration: 162. \n",
      "Val - Loss: 0.2489379644393921. Accuracy: 89.75433349609375\n"
     ]
    },
    {
     "name": "stderr",
     "output_type": "stream",
     "text": [
      "Training Epochs:  82%|████████▏ | 163/200 [10:50<02:26,  3.96s/it]"
     ]
    },
    {
     "name": "stdout",
     "output_type": "stream",
     "text": [
      "Iteration: 163. \n",
      "Val - Loss: 0.25049057602882385. Accuracy: 89.68633270263672\n"
     ]
    },
    {
     "name": "stderr",
     "output_type": "stream",
     "text": [
      "Training Epochs:  82%|████████▏ | 164/200 [10:54<02:23,  3.98s/it]"
     ]
    },
    {
     "name": "stdout",
     "output_type": "stream",
     "text": [
      "Iteration: 164. \n",
      "Val - Loss: 0.2525738477706909. Accuracy: 89.64083099365234\n"
     ]
    },
    {
     "name": "stderr",
     "output_type": "stream",
     "text": [
      "Training Epochs:  82%|████████▎ | 165/200 [10:58<02:18,  3.97s/it]"
     ]
    },
    {
     "name": "stdout",
     "output_type": "stream",
     "text": [
      "Iteration: 165. \n",
      "Val - Loss: 0.2501288056373596. Accuracy: 89.774169921875\n"
     ]
    },
    {
     "name": "stderr",
     "output_type": "stream",
     "text": [
      "Training Epochs:  83%|████████▎ | 166/200 [11:02<02:15,  3.98s/it]"
     ]
    },
    {
     "name": "stdout",
     "output_type": "stream",
     "text": [
      "Iteration: 166. \n",
      "Val - Loss: 0.24979427456855774. Accuracy: 89.77149963378906\n"
     ]
    },
    {
     "name": "stderr",
     "output_type": "stream",
     "text": [
      "Training Epochs:  84%|████████▎ | 167/200 [11:05<02:10,  3.94s/it]"
     ]
    },
    {
     "name": "stdout",
     "output_type": "stream",
     "text": [
      "Iteration: 167. \n",
      "Val - Loss: 0.2542296051979065. Accuracy: 89.58399963378906\n"
     ]
    },
    {
     "name": "stderr",
     "output_type": "stream",
     "text": [
      "Training Epochs:  84%|████████▍ | 168/200 [11:09<02:06,  3.96s/it]"
     ]
    },
    {
     "name": "stdout",
     "output_type": "stream",
     "text": [
      "Iteration: 168. \n",
      "Val - Loss: 0.24902768433094025. Accuracy: 89.78499603271484\n",
      "\tBetter accuracy: 89.78499603271484\n"
     ]
    },
    {
     "name": "stderr",
     "output_type": "stream",
     "text": [
      "Training Epochs:  84%|████████▍ | 169/200 [11:13<02:02,  3.96s/it]"
     ]
    },
    {
     "name": "stdout",
     "output_type": "stream",
     "text": [
      "Iteration: 169. \n",
      "Val - Loss: 0.24895867705345154. Accuracy: 89.78900146484375\n",
      "\tBetter accuracy: 89.78900146484375\n"
     ]
    },
    {
     "name": "stderr",
     "output_type": "stream",
     "text": [
      "Training Epochs:  85%|████████▌ | 170/200 [11:17<01:59,  3.97s/it]"
     ]
    },
    {
     "name": "stdout",
     "output_type": "stream",
     "text": [
      "Iteration: 170. \n",
      "Val - Loss: 0.25001052021980286. Accuracy: 89.76433563232422\n"
     ]
    },
    {
     "name": "stderr",
     "output_type": "stream",
     "text": [
      "Training Epochs:  86%|████████▌ | 171/200 [11:21<01:54,  3.94s/it]"
     ]
    },
    {
     "name": "stdout",
     "output_type": "stream",
     "text": [
      "Iteration: 171. \n",
      "Val - Loss: 0.24969176948070526. Accuracy: 89.74333190917969\n"
     ]
    },
    {
     "name": "stderr",
     "output_type": "stream",
     "text": [
      "Training Epochs:  86%|████████▌ | 172/200 [11:25<01:50,  3.93s/it]"
     ]
    },
    {
     "name": "stdout",
     "output_type": "stream",
     "text": [
      "Iteration: 172. \n",
      "Val - Loss: 0.2518523037433624. Accuracy: 89.67749786376953\n"
     ]
    },
    {
     "name": "stderr",
     "output_type": "stream",
     "text": [
      "Training Epochs:  86%|████████▋ | 173/200 [11:29<01:46,  3.95s/it]"
     ]
    },
    {
     "name": "stdout",
     "output_type": "stream",
     "text": [
      "Iteration: 173. \n",
      "Val - Loss: 0.2501349151134491. Accuracy: 89.71649932861328\n"
     ]
    },
    {
     "name": "stderr",
     "output_type": "stream",
     "text": [
      "Training Epochs:  87%|████████▋ | 174/200 [11:33<01:41,  3.92s/it]"
     ]
    },
    {
     "name": "stdout",
     "output_type": "stream",
     "text": [
      "Iteration: 174. \n",
      "Val - Loss: 0.24995732307434082. Accuracy: 89.7125015258789\n"
     ]
    },
    {
     "name": "stderr",
     "output_type": "stream",
     "text": [
      "Training Epochs:  88%|████████▊ | 175/200 [11:37<01:38,  3.93s/it]"
     ]
    },
    {
     "name": "stdout",
     "output_type": "stream",
     "text": [
      "Iteration: 175. \n",
      "Val - Loss: 0.2496861219406128. Accuracy: 89.7508316040039\n"
     ]
    },
    {
     "name": "stderr",
     "output_type": "stream",
     "text": [
      "Training Epochs:  88%|████████▊ | 176/200 [11:41<01:33,  3.91s/it]"
     ]
    },
    {
     "name": "stdout",
     "output_type": "stream",
     "text": [
      "Iteration: 176. \n",
      "Val - Loss: 0.25475525856018066. Accuracy: 89.58216857910156\n"
     ]
    },
    {
     "name": "stderr",
     "output_type": "stream",
     "text": [
      "Training Epochs:  88%|████████▊ | 177/200 [11:45<01:30,  3.93s/it]"
     ]
    },
    {
     "name": "stdout",
     "output_type": "stream",
     "text": [
      "Iteration: 177. \n",
      "Val - Loss: 0.2519175410270691. Accuracy: 89.67949676513672\n"
     ]
    },
    {
     "name": "stderr",
     "output_type": "stream",
     "text": [
      "Training Epochs:  89%|████████▉ | 178/200 [11:49<01:26,  3.95s/it]"
     ]
    },
    {
     "name": "stdout",
     "output_type": "stream",
     "text": [
      "Iteration: 178. \n",
      "Val - Loss: 0.25154373049736023. Accuracy: 89.6364974975586\n"
     ]
    },
    {
     "name": "stderr",
     "output_type": "stream",
     "text": [
      "Training Epochs:  90%|████████▉ | 179/200 [11:53<01:23,  3.97s/it]"
     ]
    },
    {
     "name": "stdout",
     "output_type": "stream",
     "text": [
      "Iteration: 179. \n",
      "Val - Loss: 0.2515718936920166. Accuracy: 89.65899658203125\n"
     ]
    },
    {
     "name": "stderr",
     "output_type": "stream",
     "text": [
      "Training Epochs:  90%|█████████ | 180/200 [11:57<01:19,  3.98s/it]"
     ]
    },
    {
     "name": "stdout",
     "output_type": "stream",
     "text": [
      "Iteration: 180. \n",
      "Val - Loss: 0.24981214106082916. Accuracy: 89.74366760253906\n"
     ]
    },
    {
     "name": "stderr",
     "output_type": "stream",
     "text": [
      "Training Epochs:  90%|█████████ | 181/200 [12:01<01:16,  4.00s/it]"
     ]
    },
    {
     "name": "stdout",
     "output_type": "stream",
     "text": [
      "Iteration: 181. \n",
      "Val - Loss: 0.2493882030248642. Accuracy: 89.75333404541016\n"
     ]
    },
    {
     "name": "stderr",
     "output_type": "stream",
     "text": [
      "Training Epochs:  91%|█████████ | 182/200 [12:05<01:11,  4.00s/it]"
     ]
    },
    {
     "name": "stdout",
     "output_type": "stream",
     "text": [
      "Iteration: 182. \n",
      "Val - Loss: 0.25105348229408264. Accuracy: 89.68367004394531\n"
     ]
    },
    {
     "name": "stderr",
     "output_type": "stream",
     "text": [
      "Training Epochs:  92%|█████████▏| 183/200 [12:09<01:07,  3.95s/it]"
     ]
    },
    {
     "name": "stdout",
     "output_type": "stream",
     "text": [
      "Iteration: 183. \n",
      "Val - Loss: 0.25014790892601013. Accuracy: 89.73533630371094\n"
     ]
    },
    {
     "name": "stderr",
     "output_type": "stream",
     "text": [
      "Training Epochs:  92%|█████████▏| 184/200 [12:13<01:03,  3.95s/it]"
     ]
    },
    {
     "name": "stdout",
     "output_type": "stream",
     "text": [
      "Iteration: 184. \n",
      "Val - Loss: 0.2497074007987976. Accuracy: 89.7509994506836\n"
     ]
    },
    {
     "name": "stderr",
     "output_type": "stream",
     "text": [
      "Training Epochs:  92%|█████████▎| 185/200 [12:17<00:59,  3.97s/it]"
     ]
    },
    {
     "name": "stdout",
     "output_type": "stream",
     "text": [
      "Iteration: 185. \n",
      "Val - Loss: 0.251444935798645. Accuracy: 89.66633605957031\n"
     ]
    },
    {
     "name": "stderr",
     "output_type": "stream",
     "text": [
      "Training Epochs:  93%|█████████▎| 186/200 [12:21<00:55,  3.96s/it]"
     ]
    },
    {
     "name": "stdout",
     "output_type": "stream",
     "text": [
      "Iteration: 186. \n",
      "Val - Loss: 0.25042104721069336. Accuracy: 89.71983337402344\n"
     ]
    },
    {
     "name": "stderr",
     "output_type": "stream",
     "text": [
      "Training Epochs:  94%|█████████▎| 187/200 [12:25<00:51,  3.97s/it]"
     ]
    },
    {
     "name": "stdout",
     "output_type": "stream",
     "text": [
      "Iteration: 187. \n",
      "Val - Loss: 0.2501632869243622. Accuracy: 89.67350006103516\n"
     ]
    },
    {
     "name": "stderr",
     "output_type": "stream",
     "text": [
      "Training Epochs:  94%|█████████▍| 188/200 [12:29<00:47,  3.95s/it]"
     ]
    },
    {
     "name": "stdout",
     "output_type": "stream",
     "text": [
      "Iteration: 188. \n",
      "Val - Loss: 0.25089162588119507. Accuracy: 89.67166900634766\n"
     ]
    },
    {
     "name": "stderr",
     "output_type": "stream",
     "text": [
      "Training Epochs:  94%|█████████▍| 189/200 [12:33<00:43,  3.99s/it]"
     ]
    },
    {
     "name": "stdout",
     "output_type": "stream",
     "text": [
      "Iteration: 189. \n",
      "Val - Loss: 0.24975168704986572. Accuracy: 89.74583435058594\n"
     ]
    },
    {
     "name": "stderr",
     "output_type": "stream",
     "text": [
      "Training Epochs:  95%|█████████▌| 190/200 [12:37<00:39,  3.96s/it]"
     ]
    },
    {
     "name": "stdout",
     "output_type": "stream",
     "text": [
      "Iteration: 190. \n",
      "Val - Loss: 0.25272423028945923. Accuracy: 89.5770034790039\n"
     ]
    },
    {
     "name": "stderr",
     "output_type": "stream",
     "text": [
      "Training Epochs:  96%|█████████▌| 191/200 [12:40<00:35,  3.96s/it]"
     ]
    },
    {
     "name": "stdout",
     "output_type": "stream",
     "text": [
      "Iteration: 191. \n",
      "Val - Loss: 0.24972307682037354. Accuracy: 89.76300048828125\n"
     ]
    },
    {
     "name": "stderr",
     "output_type": "stream",
     "text": [
      "Training Epochs:  96%|█████████▌| 192/200 [12:44<00:31,  3.94s/it]"
     ]
    },
    {
     "name": "stdout",
     "output_type": "stream",
     "text": [
      "Iteration: 192. \n",
      "Val - Loss: 0.25065121054649353. Accuracy: 89.711669921875\n"
     ]
    },
    {
     "name": "stderr",
     "output_type": "stream",
     "text": [
      "Training Epochs:  96%|█████████▋| 193/200 [12:48<00:27,  3.91s/it]"
     ]
    },
    {
     "name": "stdout",
     "output_type": "stream",
     "text": [
      "Iteration: 193. \n",
      "Val - Loss: 0.2511436939239502. Accuracy: 89.7040023803711\n"
     ]
    },
    {
     "name": "stderr",
     "output_type": "stream",
     "text": [
      "Training Epochs:  97%|█████████▋| 194/200 [12:52<00:23,  3.87s/it]"
     ]
    },
    {
     "name": "stdout",
     "output_type": "stream",
     "text": [
      "Iteration: 194. \n",
      "Val - Loss: 0.24964244663715363. Accuracy: 89.75166320800781\n"
     ]
    },
    {
     "name": "stderr",
     "output_type": "stream",
     "text": [
      "Training Epochs:  98%|█████████▊| 195/200 [12:56<00:19,  3.88s/it]"
     ]
    },
    {
     "name": "stdout",
     "output_type": "stream",
     "text": [
      "Iteration: 195. \n",
      "Val - Loss: 0.2493802011013031. Accuracy: 89.7750015258789\n"
     ]
    },
    {
     "name": "stderr",
     "output_type": "stream",
     "text": [
      "Training Epochs:  98%|█████████▊| 196/200 [13:00<00:15,  3.91s/it]"
     ]
    },
    {
     "name": "stdout",
     "output_type": "stream",
     "text": [
      "Iteration: 196. \n",
      "Val - Loss: 0.2500230073928833. Accuracy: 89.7336654663086\n"
     ]
    },
    {
     "name": "stderr",
     "output_type": "stream",
     "text": [
      "Training Epochs:  98%|█████████▊| 197/200 [13:04<00:11,  3.95s/it]"
     ]
    },
    {
     "name": "stdout",
     "output_type": "stream",
     "text": [
      "Iteration: 197. \n",
      "Val - Loss: 0.24972385168075562. Accuracy: 89.75900268554688\n"
     ]
    },
    {
     "name": "stderr",
     "output_type": "stream",
     "text": [
      "Training Epochs:  99%|█████████▉| 198/200 [13:08<00:07,  3.96s/it]"
     ]
    },
    {
     "name": "stdout",
     "output_type": "stream",
     "text": [
      "Iteration: 198. \n",
      "Val - Loss: 0.2514822781085968. Accuracy: 89.66716766357422\n"
     ]
    },
    {
     "name": "stderr",
     "output_type": "stream",
     "text": [
      "Training Epochs: 100%|█████████▉| 199/200 [13:12<00:04,  4.01s/it]"
     ]
    },
    {
     "name": "stdout",
     "output_type": "stream",
     "text": [
      "Iteration: 199. \n",
      "Val - Loss: 0.24946708977222443. Accuracy: 89.73133087158203\n"
     ]
    },
    {
     "name": "stderr",
     "output_type": "stream",
     "text": [
      "Training Epochs: 100%|██████████| 200/200 [13:16<00:00,  3.98s/it]"
     ]
    },
    {
     "name": "stdout",
     "output_type": "stream",
     "text": [
      "Iteration: 200. \n",
      "Val - Loss: 0.24987293779850006. Accuracy: 89.76349639892578\n"
     ]
    },
    {
     "name": "stderr",
     "output_type": "stream",
     "text": [
      "\n"
     ]
    }
   ],
   "source": [
    "import time\n",
    "tol_acc = 2\n",
    "warming = 20\n",
    "losses = []\n",
    "losses_val = []\n",
    "acc_train = []\n",
    "acc_val = []\n",
    "Iterations = []\n",
    "best_loss = torch.tensor(np.inf).to(device)\n",
    "best_acc = 0\n",
    "best_weights = None\n",
    "iter = 0\n",
    "early = 0\n",
    "start = time.time()\n",
    "mini_batch_size = 1024\n",
    "num_mini_batch = int(X_train.shape[0] / mini_batch_size)\n",
    "# X_gpu_train_shuffle = X_gpu_train\n",
    "for epoch in tqdm.tqdm(range(int(epochs)),desc='Training Epochs'):\n",
    "    \n",
    "    for bid in range(num_mini_batch):\n",
    "        idx = np.random.randint(X_train.shape[0], size=mini_batch_size)\n",
    "        X_train_batch = X_train[idx, :]\n",
    "        x = torch.tensor(X_train_batch, dtype=torch.float32).to(device)\n",
    "        # indices = torch.randperm(X_gpu_train.shape[0])[:mini_batch_size]\n",
    "        # x = X_gpu_train[indices]\n",
    "    \n",
    "        # start = time.time()\n",
    "        # x = X_gpu_train\n",
    "        # labels = y_gpu_train[indices]\n",
    "        y_train_batch = y_train[idx]\n",
    "        labels = torch.flatten(torch.tensor(y_train_batch).type(torch.float32)).to(device)\n",
    "        optimizer.zero_grad() # Setting our stored gradients equal to zero\n",
    "        outputs = model(x)\n",
    "        loss = criterion(torch.squeeze(outputs), labels) \n",
    "\n",
    "        loss.backward() # Computes the gradient of the given tensor w.r.t. the weights/bias\n",
    "\n",
    "        optimizer.step() # Updates weights and biases with the optimizer (SGD)\n",
    "        \n",
    "        # print(f\"Train -  Loss: {loss.item()}, batch: {bid}\")\n",
    "    \n",
    "    iter+=1\n",
    "    early+=1\n",
    "    if iter%trigger==0:\n",
    "        early+=1\n",
    "        with torch.no_grad():\n",
    "            # Calculating the loss and accuracy for the val dataset\n",
    "            correct_val = 0\n",
    "            total_val = 0\n",
    "            outputs_val = torch.squeeze(model(X_gpu_val))\n",
    "            loss_val = criterion(outputs_val, y_gpu_val)\n",
    "            \n",
    "            # predicted_val = outputs_val.round()\n",
    "            total_val += y_gpu_val.size(0)\n",
    "            correct_val += torch.eq(outputs_val.round(), y_gpu_val).sum()\n",
    "            accuracy_val = 100 * correct_val/total_val\n",
    "            losses_val.append(loss_val.item())\n",
    "            acc_val.append(accuracy_val.item())\n",
    "            \n",
    "            # Calculating the loss and accuracy for the train dataset\n",
    "            # total = 0\n",
    "            # correct = 0\n",
    "            # total += y_gpu_train.size(0)\n",
    "            # # correct += np.sum(torch.squeeze(outputs).round().detach().numpy() == y_gpu_train.detach().numpy())\n",
    "            # correct += torch.eq(torch.squeeze(outputs).round(), y_gpu_train).sum()\n",
    "            # accuracy = 100 * correct/total\n",
    "            # losses.append(loss.item())\n",
    "            Iterations.append(iter)\n",
    "            \n",
    "            print(f\"Iteration: {iter}. \\nVal - Loss: {loss_val.item()}. Accuracy: {accuracy_val}\")\n",
    "            # print(f\"Train -  Loss: {loss.item()}. Accuracy: {accuracy}\\n\")\n",
    "            \n",
    "            if accuracy_val > best_acc:\n",
    "                print(f'\\tBetter accuracy: {accuracy_val}')\n",
    "                best_acc = accuracy_val\n",
    "                best_weights = copy.deepcopy(model.state_dict())\n",
    "            elif epoch > warming and (best_acc - accuracy_val) > tol_acc:\n",
    "                print(f'early stopping, current accuracy: {accuracy_val}')\n",
    "                break    \n",
    "\n",
    "            # if (early%early_stopping_round == 0) and (loss_val > torch.min(torch.tensor(losses_val[-4:-1]))):\n",
    "            #     print(f'Early stopping, loss val: {loss_val}')\n",
    "            #     break\n",
    "            \n",
    "end = time.time()\n",
    "total_time = round(end - start, 3)\n"
   ]
  },
  {
   "cell_type": "code",
   "execution_count": 13,
   "metadata": {},
   "outputs": [
    {
     "name": "stdout",
     "output_type": "stream",
     "text": [
      "total training time: 796.365\n"
     ]
    }
   ],
   "source": [
    "time_str = \"{:.3f}\".format(total_time)\n",
    "print(f'total training time: {time_str}')"
   ]
  },
  {
   "cell_type": "code",
   "execution_count": 14,
   "metadata": {},
   "outputs": [
    {
     "data": {
      "image/png": "[encoded data removed]",
      "text/plain": [
       "<Figure size 640x480 with 1 Axes>"
      ]
     },
     "metadata": {},
     "output_type": "display_data"
    }
   ],
   "source": [
    "import matplotlib.pyplot as plt\n",
    "\n",
    "fig = plt.figure()\n",
    "ax = fig.add_subplot(1, 1, 1)\n",
    "\n",
    "ax.plot(Iterations, losses_val, color='tab:orange')\n",
    "\n",
    "\n",
    "plt.xlabel('epoch')\n",
    "plt.ylabel('loss')\n",
    "plt.title('loss by epoch')\n",
    "plt.show()"
   ]
  },
  {
   "cell_type": "code",
   "execution_count": 15,
   "metadata": {},
   "outputs": [
    {
     "data": {
      "image/png": "[encoded data removed]",
      "text/plain": [
       "<Figure size 640x480 with 1 Axes>"
      ]
     },
     "metadata": {},
     "output_type": "display_data"
    }
   ],
   "source": [
    "import matplotlib.pyplot as plt\n",
    "\n",
    "fig = plt.figure()\n",
    "ax = fig.add_subplot(1, 1, 1)\n",
    "\n",
    "ax.plot(Iterations, acc_val, color='tab:orange')\n",
    "\n",
    "\n",
    "plt.xlabel('epoch')\n",
    "plt.ylabel('accuraccy (%)')\n",
    "plt.title('Accuracy by epoch')\n",
    "plt.show()"
   ]
  },
  {
   "cell_type": "code",
   "execution_count": 16,
   "metadata": {},
   "outputs": [],
   "source": [
    "model.load_state_dict(best_weights)\n",
    "\n",
    "correct_test = 0\n",
    "total_test = 0\n",
    "outputs_test = torch.squeeze(model(X_gpu_test))\n",
    "loss_test = criterion(outputs_test, y_gpu_test)\n",
    "\n",
    "total_test += y_gpu_test.size(0)\n",
    "correct_test += torch.eq(outputs_test.round(), y_gpu_test).sum()\n",
    "accuracy_test = 100 * correct_test/total_test"
   ]
  },
  {
   "cell_type": "code",
   "execution_count": 17,
   "metadata": {},
   "outputs": [
    {
     "data": {
      "text/plain": [
       "89.729248046875"
      ]
     },
     "execution_count": 17,
     "metadata": {},
     "output_type": "execute_result"
    }
   ],
   "source": [
    "accuracy_test.item()"
   ]
  },
  {
   "cell_type": "code",
   "execution_count": 18,
   "metadata": {},
   "outputs": [],
   "source": [
    "# model_path = '../model/torch_softmax_sgd_384'\n",
    "# torch.save(model.state_dict(), model_path)"
   ]
  },
  {
   "cell_type": "code",
   "execution_count": 26,
   "metadata": {},
   "outputs": [],
   "source": [
    "from torcheval.metrics import BinaryAUROC"
   ]
  },
  {
   "cell_type": "code",
   "execution_count": 28,
   "metadata": {},
   "outputs": [
    {
     "data": {
      "text/plain": [
       "<torcheval.metrics.classification.auroc.BinaryAUROC at 0x7f82c2c8cf70>"
      ]
     },
     "execution_count": 28,
     "metadata": {},
     "output_type": "execute_result"
    }
   ],
   "source": [
    "metric = BinaryAUROC()\n",
    "metric.update(outputs_test, y_gpu_test)"
   ]
  },
  {
   "cell_type": "code",
   "execution_count": 30,
   "metadata": {},
   "outputs": [
    {
     "data": {
      "text/plain": [
       "0.9619949044125"
      ]
     },
     "execution_count": 30,
     "metadata": {},
     "output_type": "execute_result"
    }
   ],
   "source": [
    "metric.compute().item()"
   ]
  }
 ],
 "metadata": {
  "kernelspec": {
   "display_name": ".venv",
   "language": "python",
   "name": "python3"
  },
  "language_info": {
   "codemirror_mode": {
    "name": "ipython",
    "version": 3
   },
   "file_extension": ".py",
   "mimetype": "text/x-python",
   "name": "python",
   "nbconvert_exporter": "python",
   "pygments_lexer": "ipython3",
   "version": "3.10.12"
  },
  "orig_nbformat": 4
 },
 "nbformat": 4,
 "nbformat_minor": 2
}
