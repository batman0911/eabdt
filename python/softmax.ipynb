{
 "cells": [
  {
   "cell_type": "code",
   "execution_count": 1,
   "metadata": {},
   "outputs": [],
   "source": [
    "import pandas as pd\n",
    "import numpy as np\n",
    "from sklearn.model_selection import train_test_split\n",
    "\n",
    "import torch \n",
    "import torch.nn as nn \n",
    "import torch.optim as optim\n",
    "\n",
    "import copy\n",
    "import tqdm\n",
    "\n",
    "import util\n",
    "import os "
   ]
  },
  {
   "cell_type": "code",
   "execution_count": 2,
   "metadata": {},
   "outputs": [
    {
     "name": "stdout",
     "output_type": "stream",
     "text": [
      "/home/linhnm/msc_code/big_data_mining/eabdt/python\n"
     ]
    }
   ],
   "source": [
    "cwd = os.getcwd()\n",
    "print(cwd)"
   ]
  },
  {
   "cell_type": "code",
   "execution_count": 3,
   "metadata": {},
   "outputs": [],
   "source": [
    "dataset = 'mix'\n",
    "\n",
    "training_batch_from = 0\n",
    "training_batch_to = 1500\n",
    "val_batch_from = 3000\n",
    "val_batch_to = 3600\n",
    "\n",
    "testing_batch_from = 0\n",
    "testing_batch_to = 400"
   ]
  },
  {
   "cell_type": "code",
   "execution_count": 4,
   "metadata": {},
   "outputs": [
    {
     "name": "stdout",
     "output_type": "stream",
     "text": [
      "ok\n"
     ]
    }
   ],
   "source": [
    "device = 'cpu'\n",
    "if torch.cuda.is_available():\n",
    "  device = 'cuda:0'\n",
    "  print('ok')"
   ]
  },
  {
   "cell_type": "code",
   "execution_count": 5,
   "metadata": {},
   "outputs": [],
   "source": [
    "X_train = util.load_vector(os.path.join(cwd, '../data/vectorize/mix/training_set'), training_batch_from, training_batch_to)\n",
    "y_train = util.load_label(os.path.join(cwd, '../data/raw/mix/training_set'), training_batch_from, training_batch_to)\n",
    "\n",
    "X_val = util.load_vector(os.path.join(cwd, '../data/vectorize/mix/training_set'), val_batch_from, val_batch_to)\n",
    "y_val = util.load_label(os.path.join(cwd, '../data/raw/mix/training_set'), val_batch_from, val_batch_to)\n",
    "\n",
    "X_test = util.load_vector(os.path.join(cwd, '../data/vectorize/mix/testing_set'), testing_batch_from, testing_batch_to)\n",
    "y_test = util.load_label(os.path.join(cwd, '../data/raw/mix/testing_set'), testing_batch_from, testing_batch_to)"
   ]
  },
  {
   "cell_type": "code",
   "execution_count": 6,
   "metadata": {},
   "outputs": [],
   "source": [
    "epochs = 10000\n",
    "trigger = 500\n",
    "early_stopping_round = 20\n",
    "\n",
    "input_dim = 384\n",
    "output_dim = 1\n",
    "learning_rate = 0.01"
   ]
  },
  {
   "cell_type": "code",
   "execution_count": 7,
   "metadata": {},
   "outputs": [],
   "source": [
    "class Softmax(nn.Module):\n",
    "  def __init__(self, input_dim, output_dim):\n",
    "    super(Softmax, self).__init__()\n",
    "    # hidden layer \n",
    "    self.linear_one = torch.nn.Linear(input_dim, 64)\n",
    "    self.linear_two = torch.nn.Linear(64, output_dim) \n",
    "    # defining layers as attributes\n",
    "    self.layer_in = None\n",
    "    self.act = None\n",
    "    self.layer_out = None\n",
    "  def forward(self, x):\n",
    "    self.layer_in = self.linear_one(x)\n",
    "    self.act = torch.sigmoid(self.layer_in)\n",
    "    self.layer_out = self.linear_two(self.act)\n",
    "    y_pred = torch.sigmoid(self.linear_two(self.act))\n",
    "    return y_pred"
   ]
  },
  {
   "cell_type": "code",
   "execution_count": 8,
   "metadata": {},
   "outputs": [
    {
     "data": {
      "text/plain": [
       "Softmax(\n",
       "  (linear_one): Linear(in_features=384, out_features=64, bias=True)\n",
       "  (linear_two): Linear(in_features=64, out_features=1, bias=True)\n",
       ")"
      ]
     },
     "execution_count": 8,
     "metadata": {},
     "output_type": "execute_result"
    }
   ],
   "source": [
    "model = Softmax(input_dim, output_dim)\n",
    "model.to(device)"
   ]
  },
  {
   "cell_type": "code",
   "execution_count": 9,
   "metadata": {},
   "outputs": [],
   "source": [
    "criterion = nn.BCELoss()\n",
    "optimizer = optim.Adam(model.parameters(), lr=0.01)"
   ]
  },
  {
   "cell_type": "code",
   "execution_count": 10,
   "metadata": {},
   "outputs": [],
   "source": [
    "X_gpu_train = torch.tensor(X_train, dtype=torch.float32).to(device)\n",
    "y_gpu_train = torch.flatten(torch.tensor(y_train).type(torch.float32)).to(device)\n",
    "X_gpu_val = torch.tensor(X_val, dtype=torch.float32).to(device)\n",
    "y_gpu_val = torch.flatten(torch.tensor(y_val).type(torch.float32)).to(device)\n",
    "X_gpu_test = torch.tensor(X_test, dtype=torch.float32).to(device)\n",
    "y_gpu_test = torch.flatten(torch.tensor(y_test).type(torch.float32)).to(device)"
   ]
  },
  {
   "cell_type": "code",
   "execution_count": 11,
   "metadata": {},
   "outputs": [
    {
     "name": "stderr",
     "output_type": "stream",
     "text": [
      "Training Epochs:   5%|▌         | 535/10000 [00:12<03:08, 50.34it/s]"
     ]
    },
    {
     "name": "stdout",
     "output_type": "stream",
     "text": [
      "Iteration: 500. \n",
      "val - Loss: 0.30707064270973206. Accuracy: 87.06600189208984\n",
      "Train -  Loss: 0.30928945541381836. Accuracy: 86.92353057861328\n",
      "\n"
     ]
    },
    {
     "name": "stderr",
     "output_type": "stream",
     "text": [
      "Training Epochs:  10%|█         | 1035/10000 [00:25<02:58, 50.15it/s]"
     ]
    },
    {
     "name": "stdout",
     "output_type": "stream",
     "text": [
      "Iteration: 1000. \n",
      "val - Loss: 0.2761704623699188. Accuracy: 88.51782989501953\n",
      "Train -  Loss: 0.27632492780685425. Accuracy: 88.51326751708984\n",
      "\n"
     ]
    },
    {
     "name": "stderr",
     "output_type": "stream",
     "text": [
      "Training Epochs:  15%|█▌        | 1535/10000 [00:37<02:48, 50.15it/s]"
     ]
    },
    {
     "name": "stdout",
     "output_type": "stream",
     "text": [
      "Iteration: 1500. \n",
      "val - Loss: 0.2667580842971802. Accuracy: 88.96099853515625\n",
      "Train -  Loss: 0.26307639479637146. Accuracy: 89.16639709472656\n",
      "\n"
     ]
    },
    {
     "name": "stderr",
     "output_type": "stream",
     "text": [
      "Training Epochs:  20%|██        | 2035/10000 [00:49<02:39, 50.03it/s]"
     ]
    },
    {
     "name": "stdout",
     "output_type": "stream",
     "text": [
      "Iteration: 2000. \n",
      "val - Loss: 0.2616509795188904. Accuracy: 89.21849822998047\n",
      "Train -  Loss: 0.2542162537574768. Accuracy: 89.57132720947266\n",
      "\n"
     ]
    },
    {
     "name": "stderr",
     "output_type": "stream",
     "text": [
      "Training Epochs:  25%|██▌       | 2535/10000 [01:01<02:30, 49.64it/s]"
     ]
    },
    {
     "name": "stdout",
     "output_type": "stream",
     "text": [
      "Iteration: 2500. \n",
      "val - Loss: 0.25942859053611755. Accuracy: 89.3066635131836\n",
      "Train -  Loss: 0.2484610676765442. Accuracy: 89.810791015625\n",
      "\n"
     ]
    },
    {
     "name": "stderr",
     "output_type": "stream",
     "text": [
      "Training Epochs:  30%|███       | 3035/10000 [01:14<02:18, 50.32it/s]"
     ]
    },
    {
     "name": "stdout",
     "output_type": "stream",
     "text": [
      "Iteration: 3000. \n",
      "val - Loss: 0.2587560713291168. Accuracy: 89.33149719238281\n",
      "Train -  Loss: 0.2445172220468521. Accuracy: 89.99353790283203\n",
      "\n"
     ]
    },
    {
     "name": "stderr",
     "output_type": "stream",
     "text": [
      "Training Epochs:  35%|███▌      | 3535/10000 [01:26<02:09, 49.81it/s]"
     ]
    },
    {
     "name": "stdout",
     "output_type": "stream",
     "text": [
      "Iteration: 3500. \n",
      "val - Loss: 0.25871825218200684. Accuracy: 89.32749938964844\n",
      "Train -  Loss: 0.2421727031469345. Accuracy: 90.10353088378906\n",
      "\n"
     ]
    },
    {
     "name": "stderr",
     "output_type": "stream",
     "text": [
      "Training Epochs:  40%|████      | 4035/10000 [01:38<01:58, 50.25it/s]"
     ]
    },
    {
     "name": "stdout",
     "output_type": "stream",
     "text": [
      "Iteration: 4000. \n",
      "val - Loss: 0.2587558925151825. Accuracy: 89.33599853515625\n",
      "Train -  Loss: 0.24069912731647491. Accuracy: 90.18506622314453\n",
      "\n"
     ]
    },
    {
     "name": "stderr",
     "output_type": "stream",
     "text": [
      "Training Epochs:  45%|████▌     | 4535/10000 [01:51<01:49, 50.13it/s]"
     ]
    },
    {
     "name": "stdout",
     "output_type": "stream",
     "text": [
      "Iteration: 4500. \n",
      "val - Loss: 0.25883930921554565. Accuracy: 89.35383605957031\n",
      "Train -  Loss: 0.2396741658449173. Accuracy: 90.2316665649414\n",
      "\n"
     ]
    },
    {
     "name": "stderr",
     "output_type": "stream",
     "text": [
      "Training Epochs:  50%|█████     | 5034/10000 [02:03<01:38, 50.39it/s]"
     ]
    },
    {
     "name": "stdout",
     "output_type": "stream",
     "text": [
      "Iteration: 5000. \n",
      "val - Loss: 0.25890934467315674. Accuracy: 89.34749603271484\n",
      "Train -  Loss: 0.23891253769397736. Accuracy: 90.27220153808594\n",
      "\n"
     ]
    },
    {
     "name": "stderr",
     "output_type": "stream",
     "text": [
      "Training Epochs:  55%|█████▌    | 5534/10000 [02:16<01:30, 49.12it/s]"
     ]
    },
    {
     "name": "stdout",
     "output_type": "stream",
     "text": [
      "Iteration: 5500. \n",
      "val - Loss: 0.258998304605484. Accuracy: 89.36133575439453\n",
      "Train -  Loss: 0.23831991851329803. Accuracy: 90.29446411132812\n",
      "\n"
     ]
    },
    {
     "name": "stderr",
     "output_type": "stream",
     "text": [
      "Training Epochs:  60%|██████    | 6035/10000 [02:28<01:19, 49.98it/s]"
     ]
    },
    {
     "name": "stdout",
     "output_type": "stream",
     "text": [
      "Iteration: 6000. \n",
      "val - Loss: 0.2590787410736084. Accuracy: 89.36433410644531\n",
      "Train -  Loss: 0.23783616721630096. Accuracy: 90.31913757324219\n",
      "\n"
     ]
    },
    {
     "name": "stderr",
     "output_type": "stream",
     "text": [
      "Training Epochs:  65%|██████▌   | 6535/10000 [02:41<01:09, 49.92it/s]"
     ]
    },
    {
     "name": "stdout",
     "output_type": "stream",
     "text": [
      "Iteration: 6500. \n",
      "val - Loss: 0.2591463029384613. Accuracy: 89.35050201416016\n",
      "Train -  Loss: 0.23743529617786407. Accuracy: 90.33985900878906\n",
      "\n"
     ]
    },
    {
     "name": "stderr",
     "output_type": "stream",
     "text": [
      "Training Epochs:  70%|███████   | 7035/10000 [02:53<00:59, 49.59it/s]"
     ]
    },
    {
     "name": "stdout",
     "output_type": "stream",
     "text": [
      "Iteration: 7000. \n",
      "val - Loss: 0.25919896364212036. Accuracy: 89.3479995727539\n",
      "Train -  Loss: 0.2370932549238205. Accuracy: 90.34773254394531\n",
      "\n"
     ]
    },
    {
     "name": "stderr",
     "output_type": "stream",
     "text": [
      "Training Epochs:  75%|███████▌  | 7535/10000 [03:05<00:49, 49.39it/s]"
     ]
    },
    {
     "name": "stdout",
     "output_type": "stream",
     "text": [
      "Iteration: 7500. \n",
      "val - Loss: 0.2592492401599884. Accuracy: 89.34300231933594\n",
      "Train -  Loss: 0.23679617047309875. Accuracy: 90.35852813720703\n",
      "\n"
     ]
    },
    {
     "name": "stderr",
     "output_type": "stream",
     "text": [
      "Training Epochs:  80%|████████  | 8035/10000 [03:18<00:39, 50.06it/s]"
     ]
    },
    {
     "name": "stdout",
     "output_type": "stream",
     "text": [
      "Iteration: 8000. \n",
      "val - Loss: 0.25932735204696655. Accuracy: 89.3326644897461\n",
      "Train -  Loss: 0.23655004799365997. Accuracy: 90.36993408203125\n",
      "\n"
     ]
    },
    {
     "name": "stderr",
     "output_type": "stream",
     "text": [
      "Training Epochs:  85%|████████▌ | 8535/10000 [03:30<00:29, 49.44it/s]"
     ]
    },
    {
     "name": "stdout",
     "output_type": "stream",
     "text": [
      "Iteration: 8500. \n",
      "val - Loss: 0.2593201994895935. Accuracy: 89.3326644897461\n",
      "Train -  Loss: 0.23630467057228088. Accuracy: 90.38299560546875\n",
      "\n"
     ]
    },
    {
     "name": "stderr",
     "output_type": "stream",
     "text": [
      "Training Epochs:  90%|█████████ | 9035/10000 [03:43<00:19, 48.90it/s]"
     ]
    },
    {
     "name": "stdout",
     "output_type": "stream",
     "text": [
      "Iteration: 9000. \n",
      "val - Loss: 0.2593497931957245. Accuracy: 89.33966827392578\n",
      "Train -  Loss: 0.23609808087348938. Accuracy: 90.39046478271484\n",
      "\n"
     ]
    },
    {
     "name": "stderr",
     "output_type": "stream",
     "text": [
      "Training Epochs:  95%|█████████▌| 9535/10000 [03:55<00:09, 49.32it/s]"
     ]
    },
    {
     "name": "stdout",
     "output_type": "stream",
     "text": [
      "Iteration: 9500. \n",
      "val - Loss: 0.25937676429748535. Accuracy: 89.33733367919922\n",
      "Train -  Loss: 0.23591181635856628. Accuracy: 90.39973449707031\n",
      "\n"
     ]
    },
    {
     "name": "stderr",
     "output_type": "stream",
     "text": [
      "Training Epochs: 100%|██████████| 10000/10000 [04:08<00:00, 40.30it/s]"
     ]
    },
    {
     "name": "stdout",
     "output_type": "stream",
     "text": [
      "Iteration: 10000. \n",
      "val - Loss: 0.25940316915512085. Accuracy: 89.34966278076172\n",
      "Train -  Loss: 0.23574185371398926. Accuracy: 90.4101333618164\n",
      "\n"
     ]
    },
    {
     "name": "stderr",
     "output_type": "stream",
     "text": [
      "\n"
     ]
    }
   ],
   "source": [
    "import time\n",
    "losses = []\n",
    "losses_val = []\n",
    "acc_train = []\n",
    "acc_val = []\n",
    "Iterations = []\n",
    "best_loss = torch.tensor(np.inf).to(device)\n",
    "best_acc = 0\n",
    "best_weights = None\n",
    "iter = 0\n",
    "early = 0\n",
    "start = time.time()\n",
    "for epoch in tqdm.tqdm(range(int(epochs)),desc='Training Epochs'):\n",
    "    # start = time.time()\n",
    "    x = X_gpu_train\n",
    "    labels = y_gpu_train\n",
    "    optimizer.zero_grad() # Setting our stored gradients equal to zero\n",
    "    outputs = model(X_gpu_train)\n",
    "    loss = criterion(torch.squeeze(outputs), labels) \n",
    "\n",
    "    loss.backward() # Computes the gradient of the given tensor w.r.t. the weights/bias\n",
    "\n",
    "    optimizer.step() # Updates weights and biases with the optimizer (SGD)\n",
    "\n",
    "    iter+=1\n",
    "    early+=1\n",
    "    if iter%trigger==0:\n",
    "        early+=1\n",
    "        with torch.no_grad():\n",
    "            # Calculating the loss and accuracy for the val dataset\n",
    "            correct_val = 0\n",
    "            total_val = 0\n",
    "            outputs_val = torch.squeeze(model(X_gpu_val))\n",
    "            loss_val = criterion(outputs_val, y_gpu_val)\n",
    "            \n",
    "            # predicted_val = outputs_val.round()\n",
    "            total_val += y_gpu_val.size(0)\n",
    "            correct_val += torch.eq(outputs_val.round(), y_gpu_val).sum()\n",
    "            accuracy_val = 100 * correct_val/total_val\n",
    "            losses_val.append(loss_val.item())\n",
    "            \n",
    "            # Calculating the loss and accuracy for the train dataset\n",
    "            total = 0\n",
    "            correct = 0\n",
    "            total += y_gpu_train.size(0)\n",
    "            # correct += np.sum(torch.squeeze(outputs).round().detach().numpy() == y_gpu_train.detach().numpy())\n",
    "            correct += torch.eq(torch.squeeze(outputs).round(), y_gpu_train).sum()\n",
    "            accuracy = 100 * correct/total\n",
    "            losses.append(loss.item())\n",
    "            Iterations.append(iter)\n",
    "            \n",
    "            print(f\"Iteration: {iter}. \\nval - Loss: {loss_val.item()}. Accuracy: {accuracy_val}\")\n",
    "            print(f\"Train -  Loss: {loss.item()}. Accuracy: {accuracy}\\n\")\n",
    "            \n",
    "            if accuracy_val > best_acc:\n",
    "                best_weights = copy.deepcopy(model.state_dict())\n",
    "            \n",
    "            # if (early%early_stopping_round == 0) and (loss_val > torch.min(torch.tensor(losses_val[-4:-1]))):\n",
    "            #     print(f'Early stopping, loss val: {loss_val}')\n",
    "            #     break\n",
    "            \n",
    "end = time.time()\n",
    "total_time = round(end - start, 3)\n"
   ]
  },
  {
   "cell_type": "code",
   "execution_count": 12,
   "metadata": {},
   "outputs": [
    {
     "name": "stdout",
     "output_type": "stream",
     "text": [
      "total training time: 248.110\n"
     ]
    }
   ],
   "source": [
    "time_str = \"{:.3f}\".format(total_time)\n",
    "print(f'total training time: {time_str}')"
   ]
  },
  {
   "cell_type": "code",
   "execution_count": 13,
   "metadata": {},
   "outputs": [
    {
     "data": {
      "image/png": "[encoded data removed]",
      "text/plain": [
       "<Figure size 640x480 with 1 Axes>"
      ]
     },
     "metadata": {},
     "output_type": "display_data"
    }
   ],
   "source": [
    "import matplotlib.pyplot as plt\n",
    "\n",
    "fig = plt.figure()\n",
    "ax = fig.add_subplot(1, 1, 1)\n",
    "\n",
    "ax.plot(Iterations, losses, color='tab:blue')\n",
    "ax.plot(Iterations, losses_val, color='tab:orange')\n",
    "\n",
    "\n",
    "plt.xlabel('epoch')\n",
    "plt.ylabel('loss')\n",
    "plt.title('loss by epoch')\n",
    "plt.show()"
   ]
  },
  {
   "cell_type": "code",
   "execution_count": 17,
   "metadata": {},
   "outputs": [],
   "source": [
    "model.load_state_dict(best_weights)\n",
    "\n",
    "correct_test = 0\n",
    "total_test = 0\n",
    "outputs_test = torch.squeeze(model(X_gpu_test))\n",
    "loss_test = criterion(outputs_test, y_gpu_test)\n",
    "\n",
    "total_test += y_gpu_test.size(0)\n",
    "correct_test += torch.eq(outputs_test.round(), y_gpu_test).sum()\n",
    "accuracy_test = 100 * correct_test/total_test"
   ]
  },
  {
   "cell_type": "code",
   "execution_count": 18,
   "metadata": {},
   "outputs": [
    {
     "data": {
      "text/plain": [
       "89.29824829101562"
      ]
     },
     "execution_count": 18,
     "metadata": {},
     "output_type": "execute_result"
    }
   ],
   "source": [
    "accuracy_test.item()"
   ]
  },
  {
   "cell_type": "code",
   "execution_count": null,
   "metadata": {},
   "outputs": [],
   "source": [
    "model_path = '../model/torch_softmax'\n",
    "torch.save(model.state_dict(), model_path)"
   ]
  }
 ],
 "metadata": {
  "kernelspec": {
   "display_name": ".venv",
   "language": "python",
   "name": "python3"
  },
  "language_info": {
   "codemirror_mode": {
    "name": "ipython",
    "version": 3
   },
   "file_extension": ".py",
   "mimetype": "text/x-python",
   "name": "python",
   "nbconvert_exporter": "python",
   "pygments_lexer": "ipython3",
   "version": "3.10.12"
  },
  "orig_nbformat": 4
 },
 "nbformat": 4,
 "nbformat_minor": 2
}
