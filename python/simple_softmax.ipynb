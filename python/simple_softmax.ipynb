{
 "cells": [
  {
   "cell_type": "code",
   "execution_count": 1,
   "metadata": {},
   "outputs": [],
   "source": [
    "import pandas as pd\n",
    "import numpy as np\n",
    "from sklearn.model_selection import train_test_split\n",
    "\n",
    "import torch \n",
    "import torch.nn as nn \n",
    "import torch.optim as optim\n",
    "\n",
    "import copy\n",
    "import tqdm\n",
    "\n",
    "import util\n",
    "import os "
   ]
  },
  {
   "cell_type": "code",
   "execution_count": 2,
   "metadata": {},
   "outputs": [
    {
     "name": "stdout",
     "output_type": "stream",
     "text": [
      "/home/linhnm/msc_code/big_data_mining/eabdt/python\n"
     ]
    }
   ],
   "source": [
    "cwd = os.getcwd()\n",
    "print(cwd)"
   ]
  },
  {
   "cell_type": "code",
   "execution_count": 3,
   "metadata": {},
   "outputs": [],
   "source": [
    "dataset = 'mix'\n",
    "\n",
    "training_batch_from = 0\n",
    "training_batch_to = 3000\n",
    "val_batch_from = 3000\n",
    "val_batch_to = 3600\n",
    "\n",
    "testing_batch_from = 0\n",
    "testing_batch_to = 400\n",
    "\n",
    "# training_batch_from = 0\n",
    "# training_batch_to = 40\n",
    "# val_batch_from = 40\n",
    "# val_batch_to = 50\n",
    "\n",
    "# testing_batch_from = 0\n",
    "# testing_batch_to = 8"
   ]
  },
  {
   "cell_type": "code",
   "execution_count": 4,
   "metadata": {},
   "outputs": [
    {
     "name": "stdout",
     "output_type": "stream",
     "text": [
      "ok\n"
     ]
    }
   ],
   "source": [
    "device = 'cpu'\n",
    "if torch.cuda.is_available():\n",
    "  device = 'cuda:0'\n",
    "  print('ok')"
   ]
  },
  {
   "cell_type": "code",
   "execution_count": 5,
   "metadata": {},
   "outputs": [],
   "source": [
    "X_train = util.load_vector(os.path.join(cwd, '../data/vectorize/384/mix/training_set'), training_batch_from, training_batch_to)\n",
    "y_train = util.load_label(os.path.join(cwd, '../data/raw/mix/training_set'), training_batch_from, training_batch_to)\n",
    "\n",
    "X_val = util.load_vector(os.path.join(cwd, '../data/vectorize/384/mix/training_set'), val_batch_from, val_batch_to)\n",
    "y_val = util.load_label(os.path.join(cwd, '../data/raw/mix/training_set'), val_batch_from, val_batch_to)\n",
    "\n",
    "X_test = util.load_vector(os.path.join(cwd, '../data/vectorize/384/mix/testing_set'), testing_batch_from, testing_batch_to)\n",
    "y_test = util.load_label(os.path.join(cwd, '../data/raw/mix/testing_set'), testing_batch_from, testing_batch_to)"
   ]
  },
  {
   "cell_type": "code",
   "execution_count": 6,
   "metadata": {},
   "outputs": [
    {
     "data": {
      "text/plain": [
       "(3000000, 384)"
      ]
     },
     "execution_count": 6,
     "metadata": {},
     "output_type": "execute_result"
    }
   ],
   "source": [
    "X_train.shape"
   ]
  },
  {
   "cell_type": "code",
   "execution_count": 7,
   "metadata": {},
   "outputs": [],
   "source": [
    "epochs = 200\n",
    "trigger = 1\n",
    "early_stopping_round = 20\n",
    "\n",
    "input_dim = 384\n",
    "# input_dim = 768\n",
    "output_dim = 1\n",
    "learning_rate = 0.1"
   ]
  },
  {
   "cell_type": "code",
   "execution_count": 8,
   "metadata": {},
   "outputs": [],
   "source": [
    "class SimpleSoftmax(nn.Module):\n",
    "  # Constructor\n",
    "  def __init__(self, input_size, hidden_neurons, output_size):\n",
    "    super(SimpleSoftmax, self).__init__()\n",
    "    # hidden layer \n",
    "    self.linear_one = torch.nn.Linear(input_size, hidden_neurons, bias=True)\n",
    "    self.linear_two = torch.nn.Linear(hidden_neurons, output_size, bias=True) \n",
    "    # defining layers as attributes\n",
    "    self.layer_in = None\n",
    "    self.act = None\n",
    "    self.layer_out = None\n",
    "  # prediction function\n",
    "  def forward(self, x):\n",
    "    self.layer_in = self.linear_one(x)\n",
    "    self.act = torch.sigmoid(self.layer_in)\n",
    "    self.layer_out = self.linear_two(self.act)\n",
    "    y_pred = torch.sigmoid(self.linear_two(self.act))\n",
    "    return y_pred"
   ]
  },
  {
   "cell_type": "code",
   "execution_count": 9,
   "metadata": {},
   "outputs": [
    {
     "data": {
      "text/plain": [
       "SimpleSoftmax(\n",
       "  (linear_one): Linear(in_features=384, out_features=64, bias=True)\n",
       "  (linear_two): Linear(in_features=64, out_features=1, bias=True)\n",
       ")"
      ]
     },
     "execution_count": 9,
     "metadata": {},
     "output_type": "execute_result"
    }
   ],
   "source": [
    "model = SimpleSoftmax(input_dim, 64, output_dim)\n",
    "model.to(device)"
   ]
  },
  {
   "cell_type": "code",
   "execution_count": 10,
   "metadata": {},
   "outputs": [],
   "source": [
    "criterion = nn.BCELoss()\n",
    "optimizer = optim.SGD(model.parameters(), lr=learning_rate)"
   ]
  },
  {
   "cell_type": "code",
   "execution_count": 11,
   "metadata": {},
   "outputs": [],
   "source": [
    "# X_gpu_train = torch.tensor(X_train, dtype=torch.float32).to(device)\n",
    "# y_gpu_train = torch.flatten(torch.tensor(y_train).type(torch.float32)).to(device)\n",
    "X_gpu_val = torch.tensor(X_val, dtype=torch.float32).to(device)\n",
    "y_gpu_val = torch.flatten(torch.tensor(y_val).type(torch.float32)).to(device)\n",
    "X_gpu_test = torch.tensor(X_test, dtype=torch.float32).to(device)\n",
    "y_gpu_test = torch.flatten(torch.tensor(y_test).type(torch.float32)).to(device)"
   ]
  },
  {
   "cell_type": "code",
   "execution_count": 12,
   "metadata": {},
   "outputs": [
    {
     "name": "stderr",
     "output_type": "stream",
     "text": [
      "Training Epochs:   0%|          | 1/200 [00:04<13:43,  4.14s/it]"
     ]
    },
    {
     "name": "stdout",
     "output_type": "stream",
     "text": [
      "Iteration: 1. \n",
      "Val - Loss: 0.5170267820358276. Accuracy: 80.74516296386719\n",
      "\tBetter accuracy: 80.74516296386719\n"
     ]
    },
    {
     "name": "stderr",
     "output_type": "stream",
     "text": [
      "Training Epochs:   1%|          | 2/200 [00:07<12:14,  3.71s/it]"
     ]
    },
    {
     "name": "stdout",
     "output_type": "stream",
     "text": [
      "Iteration: 2. \n",
      "Val - Loss: 0.37214356660842896. Accuracy: 84.12633514404297\n",
      "\tBetter accuracy: 84.12633514404297\n"
     ]
    },
    {
     "name": "stderr",
     "output_type": "stream",
     "text": [
      "Training Epochs:   2%|▏         | 3/200 [00:11<11:51,  3.61s/it]"
     ]
    },
    {
     "name": "stdout",
     "output_type": "stream",
     "text": [
      "Iteration: 3. \n",
      "Val - Loss: 0.3486553728580475. Accuracy: 85.1181640625\n",
      "\tBetter accuracy: 85.1181640625\n"
     ]
    },
    {
     "name": "stderr",
     "output_type": "stream",
     "text": [
      "Training Epochs:   2%|▏         | 4/200 [00:14<11:37,  3.56s/it]"
     ]
    },
    {
     "name": "stdout",
     "output_type": "stream",
     "text": [
      "Iteration: 4. \n",
      "Val - Loss: 0.33990368247032166. Accuracy: 85.50516510009766\n",
      "\tBetter accuracy: 85.50516510009766\n"
     ]
    },
    {
     "name": "stderr",
     "output_type": "stream",
     "text": [
      "Training Epochs:   2%|▎         | 5/200 [00:18<11:37,  3.57s/it]"
     ]
    },
    {
     "name": "stdout",
     "output_type": "stream",
     "text": [
      "Iteration: 5. \n",
      "Val - Loss: 0.3355334401130676. Accuracy: 85.72283172607422\n",
      "\tBetter accuracy: 85.72283172607422\n"
     ]
    },
    {
     "name": "stderr",
     "output_type": "stream",
     "text": [
      "Training Epochs:   3%|▎         | 6/200 [00:21<11:25,  3.54s/it]"
     ]
    },
    {
     "name": "stdout",
     "output_type": "stream",
     "text": [
      "Iteration: 6. \n",
      "Val - Loss: 0.3329738676548004. Accuracy: 85.82366943359375\n",
      "\tBetter accuracy: 85.82366943359375\n"
     ]
    },
    {
     "name": "stderr",
     "output_type": "stream",
     "text": [
      "Training Epochs:   4%|▎         | 7/200 [00:24<11:13,  3.49s/it]"
     ]
    },
    {
     "name": "stdout",
     "output_type": "stream",
     "text": [
      "Iteration: 7. \n",
      "Val - Loss: 0.3310285806655884. Accuracy: 85.92683410644531\n",
      "\tBetter accuracy: 85.92683410644531\n"
     ]
    },
    {
     "name": "stderr",
     "output_type": "stream",
     "text": [
      "Training Epochs:   4%|▍         | 8/200 [00:28<11:01,  3.44s/it]"
     ]
    },
    {
     "name": "stdout",
     "output_type": "stream",
     "text": [
      "Iteration: 8. \n",
      "Val - Loss: 0.3295973837375641. Accuracy: 85.99250030517578\n",
      "\tBetter accuracy: 85.99250030517578\n"
     ]
    },
    {
     "name": "stderr",
     "output_type": "stream",
     "text": [
      "Training Epochs:   4%|▍         | 9/200 [00:31<10:54,  3.43s/it]"
     ]
    },
    {
     "name": "stdout",
     "output_type": "stream",
     "text": [
      "Iteration: 9. \n",
      "Val - Loss: 0.3284662067890167. Accuracy: 86.05116271972656\n",
      "\tBetter accuracy: 86.05116271972656\n"
     ]
    },
    {
     "name": "stderr",
     "output_type": "stream",
     "text": [
      "Training Epochs:   5%|▌         | 10/200 [00:35<10:49,  3.42s/it]"
     ]
    },
    {
     "name": "stdout",
     "output_type": "stream",
     "text": [
      "Iteration: 10. \n",
      "Val - Loss: 0.3276553153991699. Accuracy: 86.08633422851562\n",
      "\tBetter accuracy: 86.08633422851562\n"
     ]
    },
    {
     "name": "stderr",
     "output_type": "stream",
     "text": [
      "Training Epochs:   6%|▌         | 11/200 [00:38<10:40,  3.39s/it]"
     ]
    },
    {
     "name": "stdout",
     "output_type": "stream",
     "text": [
      "Iteration: 11. \n",
      "Val - Loss: 0.32688602805137634. Accuracy: 86.11883544921875\n",
      "\tBetter accuracy: 86.11883544921875\n"
     ]
    },
    {
     "name": "stderr",
     "output_type": "stream",
     "text": [
      "Training Epochs:   6%|▌         | 12/200 [00:41<10:28,  3.34s/it]"
     ]
    },
    {
     "name": "stdout",
     "output_type": "stream",
     "text": [
      "Iteration: 12. \n",
      "Val - Loss: 0.32608500123023987. Accuracy: 86.17583465576172\n",
      "\tBetter accuracy: 86.17583465576172\n"
     ]
    },
    {
     "name": "stderr",
     "output_type": "stream",
     "text": [
      "Training Epochs:   6%|▋         | 13/200 [00:45<10:30,  3.37s/it]"
     ]
    },
    {
     "name": "stdout",
     "output_type": "stream",
     "text": [
      "Iteration: 13. \n",
      "Val - Loss: 0.32595062255859375. Accuracy: 86.16500091552734\n"
     ]
    },
    {
     "name": "stderr",
     "output_type": "stream",
     "text": [
      "Training Epochs:   7%|▋         | 14/200 [00:48<10:28,  3.38s/it]"
     ]
    },
    {
     "name": "stdout",
     "output_type": "stream",
     "text": [
      "Iteration: 14. \n",
      "Val - Loss: 0.32533079385757446. Accuracy: 86.19416809082031\n",
      "\tBetter accuracy: 86.19416809082031\n"
     ]
    },
    {
     "name": "stderr",
     "output_type": "stream",
     "text": [
      "Training Epochs:   8%|▊         | 15/200 [00:51<10:12,  3.31s/it]"
     ]
    },
    {
     "name": "stdout",
     "output_type": "stream",
     "text": [
      "Iteration: 15. \n",
      "Val - Loss: 0.3247804045677185. Accuracy: 86.22550201416016\n",
      "\tBetter accuracy: 86.22550201416016\n"
     ]
    },
    {
     "name": "stderr",
     "output_type": "stream",
     "text": [
      "Training Epochs:   8%|▊         | 16/200 [00:55<10:19,  3.37s/it]"
     ]
    },
    {
     "name": "stdout",
     "output_type": "stream",
     "text": [
      "Iteration: 16. \n",
      "Val - Loss: 0.32441818714141846. Accuracy: 86.23866271972656\n",
      "\tBetter accuracy: 86.23866271972656\n"
     ]
    },
    {
     "name": "stderr",
     "output_type": "stream",
     "text": [
      "Training Epochs:   8%|▊         | 17/200 [00:58<10:21,  3.39s/it]"
     ]
    },
    {
     "name": "stdout",
     "output_type": "stream",
     "text": [
      "Iteration: 17. \n",
      "Val - Loss: 0.3238334655761719. Accuracy: 86.2770004272461\n",
      "\tBetter accuracy: 86.2770004272461\n"
     ]
    },
    {
     "name": "stderr",
     "output_type": "stream",
     "text": [
      "Training Epochs:   9%|▉         | 18/200 [01:02<10:20,  3.41s/it]"
     ]
    },
    {
     "name": "stdout",
     "output_type": "stream",
     "text": [
      "Iteration: 18. \n",
      "Val - Loss: 0.3234654664993286. Accuracy: 86.29366302490234\n",
      "\tBetter accuracy: 86.29366302490234\n"
     ]
    },
    {
     "name": "stderr",
     "output_type": "stream",
     "text": [
      "Training Epochs:  10%|▉         | 19/200 [01:05<10:12,  3.39s/it]"
     ]
    },
    {
     "name": "stdout",
     "output_type": "stream",
     "text": [
      "Iteration: 19. \n",
      "Val - Loss: 0.32327812910079956. Accuracy: 86.29366302490234\n"
     ]
    },
    {
     "name": "stderr",
     "output_type": "stream",
     "text": [
      "Training Epochs:  10%|█         | 20/200 [01:08<10:06,  3.37s/it]"
     ]
    },
    {
     "name": "stdout",
     "output_type": "stream",
     "text": [
      "Iteration: 20. \n",
      "Val - Loss: 0.32295721769332886. Accuracy: 86.32050323486328\n",
      "\tBetter accuracy: 86.32050323486328\n"
     ]
    },
    {
     "name": "stderr",
     "output_type": "stream",
     "text": [
      "Training Epochs:  10%|█         | 21/200 [01:12<10:01,  3.36s/it]"
     ]
    },
    {
     "name": "stdout",
     "output_type": "stream",
     "text": [
      "Iteration: 21. \n",
      "Val - Loss: 0.3229927718639374. Accuracy: 86.29983520507812\n"
     ]
    },
    {
     "name": "stderr",
     "output_type": "stream",
     "text": [
      "Training Epochs:  11%|█         | 22/200 [01:15<10:03,  3.39s/it]"
     ]
    },
    {
     "name": "stdout",
     "output_type": "stream",
     "text": [
      "Iteration: 22. \n",
      "Val - Loss: 0.3225105106830597. Accuracy: 86.33983612060547\n",
      "\tBetter accuracy: 86.33983612060547\n"
     ]
    },
    {
     "name": "stderr",
     "output_type": "stream",
     "text": [
      "Training Epochs:  12%|█▏        | 23/200 [01:18<09:57,  3.38s/it]"
     ]
    },
    {
     "name": "stdout",
     "output_type": "stream",
     "text": [
      "Iteration: 23. \n",
      "Val - Loss: 0.3223254084587097. Accuracy: 86.3550033569336\n",
      "\tBetter accuracy: 86.3550033569336\n"
     ]
    },
    {
     "name": "stderr",
     "output_type": "stream",
     "text": [
      "Training Epochs:  12%|█▏        | 24/200 [01:22<09:56,  3.39s/it]"
     ]
    },
    {
     "name": "stdout",
     "output_type": "stream",
     "text": [
      "Iteration: 24. \n",
      "Val - Loss: 0.3228435516357422. Accuracy: 86.3066635131836\n"
     ]
    },
    {
     "name": "stderr",
     "output_type": "stream",
     "text": [
      "Training Epochs:  12%|█▎        | 25/200 [01:25<09:52,  3.39s/it]"
     ]
    },
    {
     "name": "stdout",
     "output_type": "stream",
     "text": [
      "Iteration: 25. \n",
      "Val - Loss: 0.3219894468784332. Accuracy: 86.35350036621094\n"
     ]
    },
    {
     "name": "stderr",
     "output_type": "stream",
     "text": [
      "Training Epochs:  13%|█▎        | 26/200 [01:29<09:57,  3.43s/it]"
     ]
    },
    {
     "name": "stdout",
     "output_type": "stream",
     "text": [
      "Iteration: 26. \n",
      "Val - Loss: 0.3219051957130432. Accuracy: 86.36100006103516\n",
      "\tBetter accuracy: 86.36100006103516\n"
     ]
    },
    {
     "name": "stderr",
     "output_type": "stream",
     "text": [
      "Training Epochs:  14%|█▎        | 27/200 [01:32<09:52,  3.42s/it]"
     ]
    },
    {
     "name": "stdout",
     "output_type": "stream",
     "text": [
      "Iteration: 27. \n",
      "Val - Loss: 0.321730375289917. Accuracy: 86.37616729736328\n",
      "\tBetter accuracy: 86.37616729736328\n"
     ]
    },
    {
     "name": "stderr",
     "output_type": "stream",
     "text": [
      "Training Epochs:  14%|█▍        | 28/200 [01:36<09:55,  3.46s/it]"
     ]
    },
    {
     "name": "stdout",
     "output_type": "stream",
     "text": [
      "Iteration: 28. \n",
      "Val - Loss: 0.3216872811317444. Accuracy: 86.36799621582031\n"
     ]
    },
    {
     "name": "stderr",
     "output_type": "stream",
     "text": [
      "Training Epochs:  14%|█▍        | 29/200 [01:39<09:50,  3.45s/it]"
     ]
    },
    {
     "name": "stdout",
     "output_type": "stream",
     "text": [
      "Iteration: 29. \n",
      "Val - Loss: 0.3216463327407837. Accuracy: 86.3673324584961\n"
     ]
    },
    {
     "name": "stderr",
     "output_type": "stream",
     "text": [
      "Training Epochs:  15%|█▌        | 30/200 [01:43<09:48,  3.46s/it]"
     ]
    },
    {
     "name": "stdout",
     "output_type": "stream",
     "text": [
      "Iteration: 30. \n",
      "Val - Loss: 0.3215330243110657. Accuracy: 86.39700317382812\n",
      "\tBetter accuracy: 86.39700317382812\n"
     ]
    },
    {
     "name": "stderr",
     "output_type": "stream",
     "text": [
      "Training Epochs:  16%|█▌        | 31/200 [01:46<09:43,  3.45s/it]"
     ]
    },
    {
     "name": "stdout",
     "output_type": "stream",
     "text": [
      "Iteration: 31. \n",
      "Val - Loss: 0.32133784890174866. Accuracy: 86.38800048828125\n"
     ]
    },
    {
     "name": "stderr",
     "output_type": "stream",
     "text": [
      "Training Epochs:  16%|█▌        | 32/200 [01:49<09:40,  3.46s/it]"
     ]
    },
    {
     "name": "stdout",
     "output_type": "stream",
     "text": [
      "Iteration: 32. \n",
      "Val - Loss: 0.3212474584579468. Accuracy: 86.39533233642578\n"
     ]
    },
    {
     "name": "stderr",
     "output_type": "stream",
     "text": [
      "Training Epochs:  16%|█▋        | 33/200 [01:53<09:33,  3.44s/it]"
     ]
    },
    {
     "name": "stdout",
     "output_type": "stream",
     "text": [
      "Iteration: 33. \n",
      "Val - Loss: 0.32121536135673523. Accuracy: 86.38849639892578\n"
     ]
    },
    {
     "name": "stderr",
     "output_type": "stream",
     "text": [
      "Training Epochs:  17%|█▋        | 34/200 [01:56<09:29,  3.43s/it]"
     ]
    },
    {
     "name": "stdout",
     "output_type": "stream",
     "text": [
      "Iteration: 34. \n",
      "Val - Loss: 0.3212971091270447. Accuracy: 86.38383483886719\n"
     ]
    },
    {
     "name": "stderr",
     "output_type": "stream",
     "text": [
      "Training Epochs:  18%|█▊        | 35/200 [02:00<09:24,  3.42s/it]"
     ]
    },
    {
     "name": "stdout",
     "output_type": "stream",
     "text": [
      "Iteration: 35. \n",
      "Val - Loss: 0.3210054337978363. Accuracy: 86.399169921875\n",
      "\tBetter accuracy: 86.399169921875\n"
     ]
    },
    {
     "name": "stderr",
     "output_type": "stream",
     "text": [
      "Training Epochs:  18%|█▊        | 36/200 [02:03<09:15,  3.39s/it]"
     ]
    },
    {
     "name": "stdout",
     "output_type": "stream",
     "text": [
      "Iteration: 36. \n",
      "Val - Loss: 0.32091259956359863. Accuracy: 86.4018325805664\n",
      "\tBetter accuracy: 86.4018325805664\n"
     ]
    },
    {
     "name": "stderr",
     "output_type": "stream",
     "text": [
      "Training Epochs:  18%|█▊        | 37/200 [02:07<09:20,  3.44s/it]"
     ]
    },
    {
     "name": "stdout",
     "output_type": "stream",
     "text": [
      "Iteration: 37. \n",
      "Val - Loss: 0.3210946321487427. Accuracy: 86.4020004272461\n",
      "\tBetter accuracy: 86.4020004272461\n"
     ]
    },
    {
     "name": "stderr",
     "output_type": "stream",
     "text": [
      "Training Epochs:  19%|█▉        | 38/200 [02:10<09:16,  3.44s/it]"
     ]
    },
    {
     "name": "stdout",
     "output_type": "stream",
     "text": [
      "Iteration: 38. \n",
      "Val - Loss: 0.3209996223449707. Accuracy: 86.4038314819336\n",
      "\tBetter accuracy: 86.4038314819336\n"
     ]
    },
    {
     "name": "stderr",
     "output_type": "stream",
     "text": [
      "Training Epochs:  20%|█▉        | 39/200 [02:13<09:10,  3.42s/it]"
     ]
    },
    {
     "name": "stdout",
     "output_type": "stream",
     "text": [
      "Iteration: 39. \n",
      "Val - Loss: 0.3208526074886322. Accuracy: 86.43266296386719\n",
      "\tBetter accuracy: 86.43266296386719\n"
     ]
    },
    {
     "name": "stderr",
     "output_type": "stream",
     "text": [
      "Training Epochs:  20%|██        | 40/200 [02:17<09:06,  3.42s/it]"
     ]
    },
    {
     "name": "stdout",
     "output_type": "stream",
     "text": [
      "Iteration: 40. \n",
      "Val - Loss: 0.32097816467285156. Accuracy: 86.41033172607422\n"
     ]
    },
    {
     "name": "stderr",
     "output_type": "stream",
     "text": [
      "Training Epochs:  20%|██        | 41/200 [02:20<09:11,  3.47s/it]"
     ]
    },
    {
     "name": "stdout",
     "output_type": "stream",
     "text": [
      "Iteration: 41. \n",
      "Val - Loss: 0.320872962474823. Accuracy: 86.41716766357422\n"
     ]
    },
    {
     "name": "stderr",
     "output_type": "stream",
     "text": [
      "Training Epochs:  21%|██        | 42/200 [02:24<09:03,  3.44s/it]"
     ]
    },
    {
     "name": "stdout",
     "output_type": "stream",
     "text": [
      "Iteration: 42. \n",
      "Val - Loss: 0.3206869065761566. Accuracy: 86.4384994506836\n",
      "\tBetter accuracy: 86.4384994506836\n"
     ]
    },
    {
     "name": "stderr",
     "output_type": "stream",
     "text": [
      "Training Epochs:  22%|██▏       | 43/200 [02:27<08:55,  3.41s/it]"
     ]
    },
    {
     "name": "stdout",
     "output_type": "stream",
     "text": [
      "Iteration: 43. \n",
      "Val - Loss: 0.32072827219963074. Accuracy: 86.42283630371094\n"
     ]
    },
    {
     "name": "stderr",
     "output_type": "stream",
     "text": [
      "Training Epochs:  22%|██▏       | 44/200 [02:31<08:56,  3.44s/it]"
     ]
    },
    {
     "name": "stdout",
     "output_type": "stream",
     "text": [
      "Iteration: 44. \n",
      "Val - Loss: 0.32058975100517273. Accuracy: 86.43083190917969\n"
     ]
    },
    {
     "name": "stderr",
     "output_type": "stream",
     "text": [
      "Training Epochs:  22%|██▎       | 45/200 [02:34<08:45,  3.39s/it]"
     ]
    },
    {
     "name": "stdout",
     "output_type": "stream",
     "text": [
      "Iteration: 45. \n",
      "Val - Loss: 0.32058480381965637. Accuracy: 86.42516326904297\n"
     ]
    },
    {
     "name": "stderr",
     "output_type": "stream",
     "text": [
      "Training Epochs:  23%|██▎       | 46/200 [02:37<08:41,  3.39s/it]"
     ]
    },
    {
     "name": "stdout",
     "output_type": "stream",
     "text": [
      "Iteration: 46. \n",
      "Val - Loss: 0.3206791579723358. Accuracy: 86.41866302490234\n"
     ]
    },
    {
     "name": "stderr",
     "output_type": "stream",
     "text": [
      "Training Epochs:  24%|██▎       | 47/200 [02:41<08:38,  3.39s/it]"
     ]
    },
    {
     "name": "stdout",
     "output_type": "stream",
     "text": [
      "Iteration: 47. \n",
      "Val - Loss: 0.3206847608089447. Accuracy: 86.42816925048828\n"
     ]
    },
    {
     "name": "stderr",
     "output_type": "stream",
     "text": [
      "Training Epochs:  24%|██▍       | 48/200 [02:44<08:40,  3.42s/it]"
     ]
    },
    {
     "name": "stdout",
     "output_type": "stream",
     "text": [
      "Iteration: 48. \n",
      "Val - Loss: 0.32050514221191406. Accuracy: 86.4366683959961\n"
     ]
    },
    {
     "name": "stderr",
     "output_type": "stream",
     "text": [
      "Training Epochs:  24%|██▍       | 49/200 [02:48<08:40,  3.45s/it]"
     ]
    },
    {
     "name": "stdout",
     "output_type": "stream",
     "text": [
      "Iteration: 49. \n",
      "Val - Loss: 0.3204019367694855. Accuracy: 86.45883178710938\n",
      "\tBetter accuracy: 86.45883178710938\n"
     ]
    },
    {
     "name": "stderr",
     "output_type": "stream",
     "text": [
      "Training Epochs:  25%|██▌       | 50/200 [02:51<08:34,  3.43s/it]"
     ]
    },
    {
     "name": "stdout",
     "output_type": "stream",
     "text": [
      "Iteration: 50. \n",
      "Val - Loss: 0.3205399513244629. Accuracy: 86.43783569335938\n"
     ]
    },
    {
     "name": "stderr",
     "output_type": "stream",
     "text": [
      "Training Epochs:  26%|██▌       | 51/200 [02:55<08:34,  3.45s/it]"
     ]
    },
    {
     "name": "stdout",
     "output_type": "stream",
     "text": [
      "Iteration: 51. \n",
      "Val - Loss: 0.32045286893844604. Accuracy: 86.46016693115234\n",
      "\tBetter accuracy: 86.46016693115234\n"
     ]
    },
    {
     "name": "stderr",
     "output_type": "stream",
     "text": [
      "Training Epochs:  26%|██▌       | 52/200 [02:58<08:33,  3.47s/it]"
     ]
    },
    {
     "name": "stdout",
     "output_type": "stream",
     "text": [
      "Iteration: 52. \n",
      "Val - Loss: 0.3203442692756653. Accuracy: 86.45500183105469\n"
     ]
    },
    {
     "name": "stderr",
     "output_type": "stream",
     "text": [
      "Training Epochs:  26%|██▋       | 53/200 [03:02<08:34,  3.50s/it]"
     ]
    },
    {
     "name": "stdout",
     "output_type": "stream",
     "text": [
      "Iteration: 53. \n",
      "Val - Loss: 0.3206689655780792. Accuracy: 86.4124984741211\n"
     ]
    },
    {
     "name": "stderr",
     "output_type": "stream",
     "text": [
      "Training Epochs:  27%|██▋       | 54/200 [03:05<08:34,  3.53s/it]"
     ]
    },
    {
     "name": "stdout",
     "output_type": "stream",
     "text": [
      "Iteration: 54. \n",
      "Val - Loss: 0.3203448951244354. Accuracy: 86.46066284179688\n",
      "\tBetter accuracy: 86.46066284179688\n"
     ]
    },
    {
     "name": "stderr",
     "output_type": "stream",
     "text": [
      "Training Epochs:  28%|██▊       | 55/200 [03:09<08:23,  3.47s/it]"
     ]
    },
    {
     "name": "stdout",
     "output_type": "stream",
     "text": [
      "Iteration: 55. \n",
      "Val - Loss: 0.3204824924468994. Accuracy: 86.43216705322266\n"
     ]
    },
    {
     "name": "stderr",
     "output_type": "stream",
     "text": [
      "Training Epochs:  28%|██▊       | 56/200 [03:12<08:21,  3.48s/it]"
     ]
    },
    {
     "name": "stdout",
     "output_type": "stream",
     "text": [
      "Iteration: 56. \n",
      "Val - Loss: 0.3202503025531769. Accuracy: 86.461669921875\n",
      "\tBetter accuracy: 86.461669921875\n"
     ]
    },
    {
     "name": "stderr",
     "output_type": "stream",
     "text": [
      "Training Epochs:  28%|██▊       | 57/200 [03:16<08:22,  3.51s/it]"
     ]
    },
    {
     "name": "stdout",
     "output_type": "stream",
     "text": [
      "Iteration: 57. \n",
      "Val - Loss: 0.32026615738868713. Accuracy: 86.46233367919922\n",
      "\tBetter accuracy: 86.46233367919922\n"
     ]
    },
    {
     "name": "stderr",
     "output_type": "stream",
     "text": [
      "Training Epochs:  29%|██▉       | 58/200 [03:19<08:05,  3.42s/it]"
     ]
    },
    {
     "name": "stdout",
     "output_type": "stream",
     "text": [
      "Iteration: 58. \n",
      "Val - Loss: 0.32032662630081177. Accuracy: 86.46233367919922\n"
     ]
    },
    {
     "name": "stderr",
     "output_type": "stream",
     "text": [
      "Training Epochs:  30%|██▉       | 59/200 [03:22<08:10,  3.48s/it]"
     ]
    },
    {
     "name": "stdout",
     "output_type": "stream",
     "text": [
      "Iteration: 59. \n",
      "Val - Loss: 0.3202046751976013. Accuracy: 86.46849822998047\n",
      "\tBetter accuracy: 86.46849822998047\n"
     ]
    },
    {
     "name": "stderr",
     "output_type": "stream",
     "text": [
      "Training Epochs:  30%|███       | 60/200 [03:26<08:00,  3.43s/it]"
     ]
    },
    {
     "name": "stdout",
     "output_type": "stream",
     "text": [
      "Iteration: 60. \n",
      "Val - Loss: 0.3201647996902466. Accuracy: 86.47049713134766\n",
      "\tBetter accuracy: 86.47049713134766\n"
     ]
    },
    {
     "name": "stderr",
     "output_type": "stream",
     "text": [
      "Training Epochs:  30%|███       | 61/200 [03:29<08:02,  3.47s/it]"
     ]
    },
    {
     "name": "stdout",
     "output_type": "stream",
     "text": [
      "Iteration: 61. \n",
      "Val - Loss: 0.32024258375167847. Accuracy: 86.46316528320312\n"
     ]
    },
    {
     "name": "stderr",
     "output_type": "stream",
     "text": [
      "Training Epochs:  31%|███       | 62/200 [03:33<07:53,  3.43s/it]"
     ]
    },
    {
     "name": "stdout",
     "output_type": "stream",
     "text": [
      "Iteration: 62. \n",
      "Val - Loss: 0.3203413784503937. Accuracy: 86.44349670410156\n"
     ]
    },
    {
     "name": "stderr",
     "output_type": "stream",
     "text": [
      "Training Epochs:  32%|███▏      | 63/200 [03:36<07:46,  3.40s/it]"
     ]
    },
    {
     "name": "stdout",
     "output_type": "stream",
     "text": [
      "Iteration: 63. \n",
      "Val - Loss: 0.3201293349266052. Accuracy: 86.4731674194336\n",
      "\tBetter accuracy: 86.4731674194336\n"
     ]
    },
    {
     "name": "stderr",
     "output_type": "stream",
     "text": [
      "Training Epochs:  32%|███▏      | 64/200 [03:39<07:45,  3.42s/it]"
     ]
    },
    {
     "name": "stdout",
     "output_type": "stream",
     "text": [
      "Iteration: 64. \n",
      "Val - Loss: 0.3200747072696686. Accuracy: 86.48899841308594\n",
      "\tBetter accuracy: 86.48899841308594\n"
     ]
    },
    {
     "name": "stderr",
     "output_type": "stream",
     "text": [
      "Training Epochs:  32%|███▎      | 65/200 [03:43<07:41,  3.42s/it]"
     ]
    },
    {
     "name": "stdout",
     "output_type": "stream",
     "text": [
      "Iteration: 65. \n",
      "Val - Loss: 0.3200504183769226. Accuracy: 86.47766876220703\n"
     ]
    },
    {
     "name": "stderr",
     "output_type": "stream",
     "text": [
      "Training Epochs:  33%|███▎      | 66/200 [03:46<07:38,  3.42s/it]"
     ]
    },
    {
     "name": "stdout",
     "output_type": "stream",
     "text": [
      "Iteration: 66. \n",
      "Val - Loss: 0.3201088011264801. Accuracy: 86.46900177001953\n"
     ]
    },
    {
     "name": "stderr",
     "output_type": "stream",
     "text": [
      "Training Epochs:  34%|███▎      | 67/200 [03:50<07:36,  3.43s/it]"
     ]
    },
    {
     "name": "stdout",
     "output_type": "stream",
     "text": [
      "Iteration: 67. \n",
      "Val - Loss: 0.32041436433792114. Accuracy: 86.43099975585938\n"
     ]
    },
    {
     "name": "stderr",
     "output_type": "stream",
     "text": [
      "Training Epochs:  34%|███▍      | 68/200 [03:53<07:30,  3.42s/it]"
     ]
    },
    {
     "name": "stdout",
     "output_type": "stream",
     "text": [
      "Iteration: 68. \n",
      "Val - Loss: 0.32000014185905457. Accuracy: 86.48100280761719\n"
     ]
    },
    {
     "name": "stderr",
     "output_type": "stream",
     "text": [
      "Training Epochs:  34%|███▍      | 69/200 [03:57<07:29,  3.43s/it]"
     ]
    },
    {
     "name": "stdout",
     "output_type": "stream",
     "text": [
      "Iteration: 69. \n",
      "Val - Loss: 0.3206188380718231. Accuracy: 86.40266418457031\n"
     ]
    },
    {
     "name": "stderr",
     "output_type": "stream",
     "text": [
      "Training Epochs:  35%|███▌      | 70/200 [04:00<07:27,  3.44s/it]"
     ]
    },
    {
     "name": "stdout",
     "output_type": "stream",
     "text": [
      "Iteration: 70. \n",
      "Val - Loss: 0.31994926929473877. Accuracy: 86.46966552734375\n"
     ]
    },
    {
     "name": "stderr",
     "output_type": "stream",
     "text": [
      "Training Epochs:  36%|███▌      | 71/200 [04:03<07:18,  3.40s/it]"
     ]
    },
    {
     "name": "stdout",
     "output_type": "stream",
     "text": [
      "Iteration: 71. \n",
      "Val - Loss: 0.31991490721702576. Accuracy: 86.47433471679688\n"
     ]
    },
    {
     "name": "stderr",
     "output_type": "stream",
     "text": [
      "Training Epochs:  36%|███▌      | 72/200 [04:07<07:14,  3.39s/it]"
     ]
    },
    {
     "name": "stdout",
     "output_type": "stream",
     "text": [
      "Iteration: 72. \n",
      "Val - Loss: 0.3198367655277252. Accuracy: 86.47699737548828\n"
     ]
    },
    {
     "name": "stderr",
     "output_type": "stream",
     "text": [
      "Training Epochs:  36%|███▋      | 73/200 [04:10<07:09,  3.38s/it]"
     ]
    },
    {
     "name": "stdout",
     "output_type": "stream",
     "text": [
      "Iteration: 73. \n",
      "Val - Loss: 0.32013005018234253. Accuracy: 86.44232940673828\n"
     ]
    },
    {
     "name": "stderr",
     "output_type": "stream",
     "text": [
      "Training Epochs:  37%|███▋      | 74/200 [04:14<07:08,  3.40s/it]"
     ]
    },
    {
     "name": "stdout",
     "output_type": "stream",
     "text": [
      "Iteration: 74. \n",
      "Val - Loss: 0.3197607398033142. Accuracy: 86.48833465576172\n"
     ]
    },
    {
     "name": "stderr",
     "output_type": "stream",
     "text": [
      "Training Epochs:  38%|███▊      | 75/200 [04:17<07:04,  3.40s/it]"
     ]
    },
    {
     "name": "stdout",
     "output_type": "stream",
     "text": [
      "Iteration: 75. \n",
      "Val - Loss: 0.31979453563690186. Accuracy: 86.489501953125\n",
      "\tBetter accuracy: 86.489501953125\n"
     ]
    },
    {
     "name": "stderr",
     "output_type": "stream",
     "text": [
      "Training Epochs:  38%|███▊      | 76/200 [04:20<07:00,  3.39s/it]"
     ]
    },
    {
     "name": "stdout",
     "output_type": "stream",
     "text": [
      "Iteration: 76. \n",
      "Val - Loss: 0.3197309672832489. Accuracy: 86.4854965209961\n"
     ]
    },
    {
     "name": "stderr",
     "output_type": "stream",
     "text": [
      "Training Epochs:  38%|███▊      | 77/200 [04:24<07:01,  3.43s/it]"
     ]
    },
    {
     "name": "stdout",
     "output_type": "stream",
     "text": [
      "Iteration: 77. \n",
      "Val - Loss: 0.3202558755874634. Accuracy: 86.42549896240234\n"
     ]
    },
    {
     "name": "stderr",
     "output_type": "stream",
     "text": [
      "Training Epochs:  39%|███▉      | 78/200 [04:27<07:01,  3.46s/it]"
     ]
    },
    {
     "name": "stdout",
     "output_type": "stream",
     "text": [
      "Iteration: 78. \n",
      "Val - Loss: 0.3198027014732361. Accuracy: 86.46183013916016\n"
     ]
    },
    {
     "name": "stderr",
     "output_type": "stream",
     "text": [
      "Training Epochs:  40%|███▉      | 79/200 [04:31<06:55,  3.43s/it]"
     ]
    },
    {
     "name": "stdout",
     "output_type": "stream",
     "text": [
      "Iteration: 79. \n",
      "Val - Loss: 0.3196190595626831. Accuracy: 86.48783111572266\n"
     ]
    },
    {
     "name": "stderr",
     "output_type": "stream",
     "text": [
      "Training Epochs:  40%|████      | 80/200 [04:34<06:53,  3.44s/it]"
     ]
    },
    {
     "name": "stdout",
     "output_type": "stream",
     "text": [
      "Iteration: 80. \n",
      "Val - Loss: 0.31954053044319153. Accuracy: 86.49116516113281\n",
      "\tBetter accuracy: 86.49116516113281\n"
     ]
    },
    {
     "name": "stderr",
     "output_type": "stream",
     "text": [
      "Training Epochs:  40%|████      | 81/200 [04:38<06:50,  3.45s/it]"
     ]
    },
    {
     "name": "stdout",
     "output_type": "stream",
     "text": [
      "Iteration: 81. \n",
      "Val - Loss: 0.3196185529232025. Accuracy: 86.47533416748047\n"
     ]
    },
    {
     "name": "stderr",
     "output_type": "stream",
     "text": [
      "Training Epochs:  41%|████      | 82/200 [04:41<06:44,  3.43s/it]"
     ]
    },
    {
     "name": "stdout",
     "output_type": "stream",
     "text": [
      "Iteration: 82. \n",
      "Val - Loss: 0.3194626569747925. Accuracy: 86.48383331298828\n"
     ]
    },
    {
     "name": "stderr",
     "output_type": "stream",
     "text": [
      "Training Epochs:  42%|████▏     | 83/200 [04:44<06:39,  3.42s/it]"
     ]
    },
    {
     "name": "stdout",
     "output_type": "stream",
     "text": [
      "Iteration: 83. \n",
      "Val - Loss: 0.3194844126701355. Accuracy: 86.47799682617188\n"
     ]
    },
    {
     "name": "stderr",
     "output_type": "stream",
     "text": [
      "Training Epochs:  42%|████▏     | 84/200 [04:48<06:35,  3.41s/it]"
     ]
    },
    {
     "name": "stdout",
     "output_type": "stream",
     "text": [
      "Iteration: 84. \n",
      "Val - Loss: 0.3194325566291809. Accuracy: 86.48217010498047\n"
     ]
    },
    {
     "name": "stderr",
     "output_type": "stream",
     "text": [
      "Training Epochs:  42%|████▎     | 85/200 [04:51<06:31,  3.41s/it]"
     ]
    },
    {
     "name": "stdout",
     "output_type": "stream",
     "text": [
      "Iteration: 85. \n",
      "Val - Loss: 0.31942349672317505. Accuracy: 86.46199798583984\n"
     ]
    },
    {
     "name": "stderr",
     "output_type": "stream",
     "text": [
      "Training Epochs:  43%|████▎     | 86/200 [04:55<06:30,  3.43s/it]"
     ]
    },
    {
     "name": "stdout",
     "output_type": "stream",
     "text": [
      "Iteration: 86. \n",
      "Val - Loss: 0.31933173537254333. Accuracy: 86.47049713134766\n"
     ]
    },
    {
     "name": "stderr",
     "output_type": "stream",
     "text": [
      "Training Epochs:  44%|████▎     | 87/200 [04:58<06:28,  3.43s/it]"
     ]
    },
    {
     "name": "stdout",
     "output_type": "stream",
     "text": [
      "Iteration: 87. \n",
      "Val - Loss: 0.3191361427307129. Accuracy: 86.50316619873047\n",
      "\tBetter accuracy: 86.50316619873047\n"
     ]
    },
    {
     "name": "stderr",
     "output_type": "stream",
     "text": [
      "Training Epochs:  44%|████▍     | 88/200 [05:01<06:20,  3.40s/it]"
     ]
    },
    {
     "name": "stdout",
     "output_type": "stream",
     "text": [
      "Iteration: 88. \n",
      "Val - Loss: 0.3191578984260559. Accuracy: 86.48383331298828\n"
     ]
    },
    {
     "name": "stderr",
     "output_type": "stream",
     "text": [
      "Training Epochs:  44%|████▍     | 89/200 [05:05<06:16,  3.40s/it]"
     ]
    },
    {
     "name": "stdout",
     "output_type": "stream",
     "text": [
      "Iteration: 89. \n",
      "Val - Loss: 0.31905171275138855. Accuracy: 86.48483276367188\n"
     ]
    },
    {
     "name": "stderr",
     "output_type": "stream",
     "text": [
      "Training Epochs:  45%|████▌     | 90/200 [05:08<06:18,  3.44s/it]"
     ]
    },
    {
     "name": "stdout",
     "output_type": "stream",
     "text": [
      "Iteration: 90. \n",
      "Val - Loss: 0.31911197304725647. Accuracy: 86.47850036621094\n"
     ]
    },
    {
     "name": "stderr",
     "output_type": "stream",
     "text": [
      "Training Epochs:  46%|████▌     | 91/200 [05:12<06:16,  3.46s/it]"
     ]
    },
    {
     "name": "stdout",
     "output_type": "stream",
     "text": [
      "Iteration: 91. \n",
      "Val - Loss: 0.31884822249412537. Accuracy: 86.5094985961914\n",
      "\tBetter accuracy: 86.5094985961914\n"
     ]
    },
    {
     "name": "stderr",
     "output_type": "stream",
     "text": [
      "Training Epochs:  46%|████▌     | 92/200 [05:15<06:14,  3.46s/it]"
     ]
    },
    {
     "name": "stdout",
     "output_type": "stream",
     "text": [
      "Iteration: 92. \n",
      "Val - Loss: 0.3187731206417084. Accuracy: 86.5201644897461\n",
      "\tBetter accuracy: 86.5201644897461\n"
     ]
    },
    {
     "name": "stderr",
     "output_type": "stream",
     "text": [
      "Training Epochs:  46%|████▋     | 93/200 [05:19<06:10,  3.46s/it]"
     ]
    },
    {
     "name": "stdout",
     "output_type": "stream",
     "text": [
      "Iteration: 93. \n",
      "Val - Loss: 0.31882137060165405. Accuracy: 86.49783325195312\n"
     ]
    },
    {
     "name": "stderr",
     "output_type": "stream",
     "text": [
      "Training Epochs:  47%|████▋     | 94/200 [05:22<06:10,  3.50s/it]"
     ]
    },
    {
     "name": "stdout",
     "output_type": "stream",
     "text": [
      "Iteration: 94. \n",
      "Val - Loss: 0.3186274468898773. Accuracy: 86.51183319091797\n"
     ]
    },
    {
     "name": "stderr",
     "output_type": "stream",
     "text": [
      "Training Epochs:  48%|████▊     | 95/200 [05:26<06:03,  3.46s/it]"
     ]
    },
    {
     "name": "stdout",
     "output_type": "stream",
     "text": [
      "Iteration: 95. \n",
      "Val - Loss: 0.31862425804138184. Accuracy: 86.50650024414062\n"
     ]
    },
    {
     "name": "stderr",
     "output_type": "stream",
     "text": [
      "Training Epochs:  48%|████▊     | 96/200 [05:29<05:58,  3.45s/it]"
     ]
    },
    {
     "name": "stdout",
     "output_type": "stream",
     "text": [
      "Iteration: 96. \n",
      "Val - Loss: 0.3184693157672882. Accuracy: 86.5270004272461\n",
      "\tBetter accuracy: 86.5270004272461\n"
     ]
    },
    {
     "name": "stderr",
     "output_type": "stream",
     "text": [
      "Training Epochs:  48%|████▊     | 97/200 [05:33<05:54,  3.44s/it]"
     ]
    },
    {
     "name": "stdout",
     "output_type": "stream",
     "text": [
      "Iteration: 97. \n",
      "Val - Loss: 0.31834959983825684. Accuracy: 86.5183334350586\n"
     ]
    },
    {
     "name": "stderr",
     "output_type": "stream",
     "text": [
      "Training Epochs:  49%|████▉     | 98/200 [05:36<06:00,  3.53s/it]"
     ]
    },
    {
     "name": "stdout",
     "output_type": "stream",
     "text": [
      "Iteration: 98. \n",
      "Val - Loss: 0.31833454966545105. Accuracy: 86.52532958984375\n"
     ]
    },
    {
     "name": "stderr",
     "output_type": "stream",
     "text": [
      "Training Epochs:  50%|████▉     | 99/200 [05:40<05:59,  3.56s/it]"
     ]
    },
    {
     "name": "stdout",
     "output_type": "stream",
     "text": [
      "Iteration: 99. \n",
      "Val - Loss: 0.3182319402694702. Accuracy: 86.54000091552734\n",
      "\tBetter accuracy: 86.54000091552734\n"
     ]
    },
    {
     "name": "stderr",
     "output_type": "stream",
     "text": [
      "Training Epochs:  50%|█████     | 100/200 [05:44<05:57,  3.58s/it]"
     ]
    },
    {
     "name": "stdout",
     "output_type": "stream",
     "text": [
      "Iteration: 100. \n",
      "Val - Loss: 0.3182096779346466. Accuracy: 86.5183334350586\n"
     ]
    },
    {
     "name": "stderr",
     "output_type": "stream",
     "text": [
      "Training Epochs:  50%|█████     | 101/200 [05:47<05:45,  3.49s/it]"
     ]
    },
    {
     "name": "stdout",
     "output_type": "stream",
     "text": [
      "Iteration: 101. \n",
      "Val - Loss: 0.3180603086948395. Accuracy: 86.52466583251953\n"
     ]
    },
    {
     "name": "stderr",
     "output_type": "stream",
     "text": [
      "Training Epochs:  51%|█████     | 102/200 [05:50<05:30,  3.38s/it]"
     ]
    },
    {
     "name": "stdout",
     "output_type": "stream",
     "text": [
      "Iteration: 102. \n",
      "Val - Loss: 0.31791436672210693. Accuracy: 86.52433013916016\n"
     ]
    },
    {
     "name": "stderr",
     "output_type": "stream",
     "text": [
      "Training Epochs:  52%|█████▏    | 103/200 [05:53<05:26,  3.37s/it]"
     ]
    },
    {
     "name": "stdout",
     "output_type": "stream",
     "text": [
      "Iteration: 103. \n",
      "Val - Loss: 0.31788915395736694. Accuracy: 86.54350280761719\n",
      "\tBetter accuracy: 86.54350280761719\n"
     ]
    },
    {
     "name": "stderr",
     "output_type": "stream",
     "text": [
      "Training Epochs:  52%|█████▏    | 104/200 [05:57<05:17,  3.30s/it]"
     ]
    },
    {
     "name": "stdout",
     "output_type": "stream",
     "text": [
      "Iteration: 104. \n",
      "Val - Loss: 0.3177671730518341. Accuracy: 86.53050231933594\n"
     ]
    },
    {
     "name": "stderr",
     "output_type": "stream",
     "text": [
      "Training Epochs:  52%|█████▎    | 105/200 [06:00<05:18,  3.35s/it]"
     ]
    },
    {
     "name": "stdout",
     "output_type": "stream",
     "text": [
      "Iteration: 105. \n",
      "Val - Loss: 0.3176611065864563. Accuracy: 86.53849792480469\n"
     ]
    },
    {
     "name": "stderr",
     "output_type": "stream",
     "text": [
      "Training Epochs:  53%|█████▎    | 106/200 [06:03<05:12,  3.33s/it]"
     ]
    },
    {
     "name": "stdout",
     "output_type": "stream",
     "text": [
      "Iteration: 106. \n",
      "Val - Loss: 0.3175404667854309. Accuracy: 86.54983520507812\n",
      "\tBetter accuracy: 86.54983520507812\n"
     ]
    },
    {
     "name": "stderr",
     "output_type": "stream",
     "text": [
      "Training Epochs:  54%|█████▎    | 107/200 [06:07<05:07,  3.31s/it]"
     ]
    },
    {
     "name": "stdout",
     "output_type": "stream",
     "text": [
      "Iteration: 107. \n",
      "Val - Loss: 0.3175045847892761. Accuracy: 86.5459976196289\n"
     ]
    },
    {
     "name": "stderr",
     "output_type": "stream",
     "text": [
      "Training Epochs:  54%|█████▍    | 108/200 [06:10<05:06,  3.33s/it]"
     ]
    },
    {
     "name": "stdout",
     "output_type": "stream",
     "text": [
      "Iteration: 108. \n",
      "Val - Loss: 0.31735771894454956. Accuracy: 86.55982971191406\n",
      "\tBetter accuracy: 86.55982971191406\n"
     ]
    },
    {
     "name": "stderr",
     "output_type": "stream",
     "text": [
      "Training Epochs:  55%|█████▍    | 109/200 [06:13<05:01,  3.31s/it]"
     ]
    },
    {
     "name": "stdout",
     "output_type": "stream",
     "text": [
      "Iteration: 109. \n",
      "Val - Loss: 0.3172489404678345. Accuracy: 86.55916595458984\n"
     ]
    },
    {
     "name": "stderr",
     "output_type": "stream",
     "text": [
      "Training Epochs:  55%|█████▌    | 110/200 [06:17<05:02,  3.36s/it]"
     ]
    },
    {
     "name": "stdout",
     "output_type": "stream",
     "text": [
      "Iteration: 110. \n",
      "Val - Loss: 0.3174964487552643. Accuracy: 86.53416442871094\n"
     ]
    },
    {
     "name": "stderr",
     "output_type": "stream",
     "text": [
      "Training Epochs:  56%|█████▌    | 111/200 [06:20<04:56,  3.33s/it]"
     ]
    },
    {
     "name": "stdout",
     "output_type": "stream",
     "text": [
      "Iteration: 111. \n",
      "Val - Loss: 0.31759941577911377. Accuracy: 86.53033447265625\n"
     ]
    },
    {
     "name": "stderr",
     "output_type": "stream",
     "text": [
      "Training Epochs:  56%|█████▌    | 112/200 [06:23<04:47,  3.26s/it]"
     ]
    },
    {
     "name": "stdout",
     "output_type": "stream",
     "text": [
      "Iteration: 112. \n",
      "Val - Loss: 0.31697511672973633. Accuracy: 86.56449890136719\n",
      "\tBetter accuracy: 86.56449890136719\n"
     ]
    },
    {
     "name": "stderr",
     "output_type": "stream",
     "text": [
      "Training Epochs:  56%|█████▋    | 113/200 [06:26<04:48,  3.31s/it]"
     ]
    },
    {
     "name": "stdout",
     "output_type": "stream",
     "text": [
      "Iteration: 113. \n",
      "Val - Loss: 0.3168097734451294. Accuracy: 86.57666778564453\n",
      "\tBetter accuracy: 86.57666778564453\n"
     ]
    },
    {
     "name": "stderr",
     "output_type": "stream",
     "text": [
      "Training Epochs:  57%|█████▋    | 114/200 [06:30<04:48,  3.36s/it]"
     ]
    },
    {
     "name": "stdout",
     "output_type": "stream",
     "text": [
      "Iteration: 114. \n",
      "Val - Loss: 0.31666451692581177. Accuracy: 86.5913314819336\n",
      "\tBetter accuracy: 86.5913314819336\n"
     ]
    },
    {
     "name": "stderr",
     "output_type": "stream",
     "text": [
      "Training Epochs:  57%|█████▊    | 115/200 [06:33<04:44,  3.35s/it]"
     ]
    },
    {
     "name": "stdout",
     "output_type": "stream",
     "text": [
      "Iteration: 115. \n",
      "Val - Loss: 0.3165658414363861. Accuracy: 86.60466766357422\n",
      "\tBetter accuracy: 86.60466766357422\n"
     ]
    },
    {
     "name": "stderr",
     "output_type": "stream",
     "text": [
      "Training Epochs:  58%|█████▊    | 116/200 [06:37<04:39,  3.32s/it]"
     ]
    },
    {
     "name": "stdout",
     "output_type": "stream",
     "text": [
      "Iteration: 116. \n",
      "Val - Loss: 0.3165757656097412. Accuracy: 86.58333587646484\n"
     ]
    },
    {
     "name": "stderr",
     "output_type": "stream",
     "text": [
      "Training Epochs:  58%|█████▊    | 117/200 [06:40<04:33,  3.30s/it]"
     ]
    },
    {
     "name": "stdout",
     "output_type": "stream",
     "text": [
      "Iteration: 117. \n",
      "Val - Loss: 0.3168296217918396. Accuracy: 86.56616973876953\n"
     ]
    },
    {
     "name": "stderr",
     "output_type": "stream",
     "text": [
      "Training Epochs:  59%|█████▉    | 118/200 [06:43<04:31,  3.31s/it]"
     ]
    },
    {
     "name": "stdout",
     "output_type": "stream",
     "text": [
      "Iteration: 118. \n",
      "Val - Loss: 0.3162534832954407. Accuracy: 86.60250091552734\n"
     ]
    },
    {
     "name": "stderr",
     "output_type": "stream",
     "text": [
      "Training Epochs:  60%|█████▉    | 119/200 [06:46<04:27,  3.30s/it]"
     ]
    },
    {
     "name": "stdout",
     "output_type": "stream",
     "text": [
      "Iteration: 119. \n",
      "Val - Loss: 0.3160797357559204. Accuracy: 86.61966705322266\n",
      "\tBetter accuracy: 86.61966705322266\n"
     ]
    },
    {
     "name": "stderr",
     "output_type": "stream",
     "text": [
      "Training Epochs:  60%|██████    | 120/200 [06:50<04:26,  3.33s/it]"
     ]
    },
    {
     "name": "stdout",
     "output_type": "stream",
     "text": [
      "Iteration: 120. \n",
      "Val - Loss: 0.31595680117607117. Accuracy: 86.61766815185547\n"
     ]
    },
    {
     "name": "stderr",
     "output_type": "stream",
     "text": [
      "Training Epochs:  60%|██████    | 121/200 [06:53<04:19,  3.28s/it]"
     ]
    },
    {
     "name": "stdout",
     "output_type": "stream",
     "text": [
      "Iteration: 121. \n",
      "Val - Loss: 0.31579530239105225. Accuracy: 86.63016510009766\n",
      "\tBetter accuracy: 86.63016510009766\n"
     ]
    },
    {
     "name": "stderr",
     "output_type": "stream",
     "text": [
      "Training Epochs:  61%|██████    | 122/200 [06:56<04:17,  3.30s/it]"
     ]
    },
    {
     "name": "stdout",
     "output_type": "stream",
     "text": [
      "Iteration: 122. \n",
      "Val - Loss: 0.31570950150489807. Accuracy: 86.6318359375\n",
      "\tBetter accuracy: 86.6318359375\n"
     ]
    },
    {
     "name": "stderr",
     "output_type": "stream",
     "text": [
      "Training Epochs:  62%|██████▏   | 123/200 [07:00<04:15,  3.32s/it]"
     ]
    },
    {
     "name": "stdout",
     "output_type": "stream",
     "text": [
      "Iteration: 123. \n",
      "Val - Loss: 0.31572970747947693. Accuracy: 86.62733459472656\n"
     ]
    },
    {
     "name": "stderr",
     "output_type": "stream",
     "text": [
      "Training Epochs:  62%|██████▏   | 124/200 [07:03<04:13,  3.33s/it]"
     ]
    },
    {
     "name": "stdout",
     "output_type": "stream",
     "text": [
      "Iteration: 124. \n",
      "Val - Loss: 0.31539419293403625. Accuracy: 86.64566802978516\n",
      "\tBetter accuracy: 86.64566802978516\n"
     ]
    },
    {
     "name": "stderr",
     "output_type": "stream",
     "text": [
      "Training Epochs:  62%|██████▎   | 125/200 [07:06<04:08,  3.32s/it]"
     ]
    },
    {
     "name": "stdout",
     "output_type": "stream",
     "text": [
      "Iteration: 125. \n",
      "Val - Loss: 0.3152841329574585. Accuracy: 86.65316772460938\n",
      "\tBetter accuracy: 86.65316772460938\n"
     ]
    },
    {
     "name": "stderr",
     "output_type": "stream",
     "text": [
      "Training Epochs:  63%|██████▎   | 126/200 [07:10<04:10,  3.38s/it]"
     ]
    },
    {
     "name": "stdout",
     "output_type": "stream",
     "text": [
      "Iteration: 126. \n",
      "Val - Loss: 0.31521421670913696. Accuracy: 86.6441650390625\n"
     ]
    },
    {
     "name": "stderr",
     "output_type": "stream",
     "text": [
      "Training Epochs:  64%|██████▎   | 127/200 [07:13<03:59,  3.28s/it]"
     ]
    },
    {
     "name": "stdout",
     "output_type": "stream",
     "text": [
      "Iteration: 127. \n",
      "Val - Loss: 0.3149701952934265. Accuracy: 86.66100311279297\n",
      "\tBetter accuracy: 86.66100311279297\n"
     ]
    },
    {
     "name": "stderr",
     "output_type": "stream",
     "text": [
      "Training Epochs:  64%|██████▍   | 128/200 [07:16<03:57,  3.30s/it]"
     ]
    },
    {
     "name": "stdout",
     "output_type": "stream",
     "text": [
      "Iteration: 128. \n",
      "Val - Loss: 0.31474071741104126. Accuracy: 86.67250061035156\n",
      "\tBetter accuracy: 86.67250061035156\n"
     ]
    },
    {
     "name": "stderr",
     "output_type": "stream",
     "text": [
      "Training Epochs:  64%|██████▍   | 129/200 [07:20<03:55,  3.32s/it]"
     ]
    },
    {
     "name": "stdout",
     "output_type": "stream",
     "text": [
      "Iteration: 129. \n",
      "Val - Loss: 0.314670592546463. Accuracy: 86.6903305053711\n",
      "\tBetter accuracy: 86.6903305053711\n"
     ]
    },
    {
     "name": "stderr",
     "output_type": "stream",
     "text": [
      "Training Epochs:  65%|██████▌   | 130/200 [07:23<03:47,  3.26s/it]"
     ]
    },
    {
     "name": "stdout",
     "output_type": "stream",
     "text": [
      "Iteration: 130. \n",
      "Val - Loss: 0.3144706189632416. Accuracy: 86.69316864013672\n",
      "\tBetter accuracy: 86.69316864013672\n"
     ]
    },
    {
     "name": "stderr",
     "output_type": "stream",
     "text": [
      "Training Epochs:  66%|██████▌   | 131/200 [07:26<03:45,  3.26s/it]"
     ]
    },
    {
     "name": "stdout",
     "output_type": "stream",
     "text": [
      "Iteration: 131. \n",
      "Val - Loss: 0.3144058287143707. Accuracy: 86.68299865722656\n"
     ]
    },
    {
     "name": "stderr",
     "output_type": "stream",
     "text": [
      "Training Epochs:  66%|██████▌   | 132/200 [07:29<03:42,  3.28s/it]"
     ]
    },
    {
     "name": "stdout",
     "output_type": "stream",
     "text": [
      "Iteration: 132. \n",
      "Val - Loss: 0.314044326543808. Accuracy: 86.71282958984375\n",
      "\tBetter accuracy: 86.71282958984375\n"
     ]
    },
    {
     "name": "stderr",
     "output_type": "stream",
     "text": [
      "Training Epochs:  66%|██████▋   | 133/200 [07:33<03:40,  3.29s/it]"
     ]
    },
    {
     "name": "stdout",
     "output_type": "stream",
     "text": [
      "Iteration: 133. \n",
      "Val - Loss: 0.313872754573822. Accuracy: 86.72516632080078\n",
      "\tBetter accuracy: 86.72516632080078\n"
     ]
    },
    {
     "name": "stderr",
     "output_type": "stream",
     "text": [
      "Training Epochs:  67%|██████▋   | 134/200 [07:36<03:40,  3.34s/it]"
     ]
    },
    {
     "name": "stdout",
     "output_type": "stream",
     "text": [
      "Iteration: 134. \n",
      "Val - Loss: 0.31383368372917175. Accuracy: 86.71483612060547\n"
     ]
    },
    {
     "name": "stderr",
     "output_type": "stream",
     "text": [
      "Training Epochs:  68%|██████▊   | 135/200 [07:39<03:37,  3.34s/it]"
     ]
    },
    {
     "name": "stdout",
     "output_type": "stream",
     "text": [
      "Iteration: 135. \n",
      "Val - Loss: 0.31358233094215393. Accuracy: 86.73016357421875\n",
      "\tBetter accuracy: 86.73016357421875\n"
     ]
    },
    {
     "name": "stderr",
     "output_type": "stream",
     "text": [
      "Training Epochs:  68%|██████▊   | 136/200 [07:43<03:35,  3.36s/it]"
     ]
    },
    {
     "name": "stdout",
     "output_type": "stream",
     "text": [
      "Iteration: 136. \n",
      "Val - Loss: 0.31404635310173035. Accuracy: 86.68800354003906\n"
     ]
    },
    {
     "name": "stderr",
     "output_type": "stream",
     "text": [
      "Training Epochs:  68%|██████▊   | 137/200 [07:46<03:31,  3.36s/it]"
     ]
    },
    {
     "name": "stdout",
     "output_type": "stream",
     "text": [
      "Iteration: 137. \n",
      "Val - Loss: 0.313730925321579. Accuracy: 86.69999694824219\n"
     ]
    },
    {
     "name": "stderr",
     "output_type": "stream",
     "text": [
      "Training Epochs:  69%|██████▉   | 138/200 [07:49<03:27,  3.35s/it]"
     ]
    },
    {
     "name": "stdout",
     "output_type": "stream",
     "text": [
      "Iteration: 138. \n",
      "Val - Loss: 0.31285855174064636. Accuracy: 86.76799774169922\n",
      "\tBetter accuracy: 86.76799774169922\n"
     ]
    },
    {
     "name": "stderr",
     "output_type": "stream",
     "text": [
      "Training Epochs:  70%|██████▉   | 139/200 [07:53<03:22,  3.32s/it]"
     ]
    },
    {
     "name": "stdout",
     "output_type": "stream",
     "text": [
      "Iteration: 139. \n",
      "Val - Loss: 0.3126167058944702. Accuracy: 86.7663345336914\n"
     ]
    },
    {
     "name": "stderr",
     "output_type": "stream",
     "text": [
      "Training Epochs:  70%|███████   | 140/200 [07:56<03:16,  3.28s/it]"
     ]
    },
    {
     "name": "stdout",
     "output_type": "stream",
     "text": [
      "Iteration: 140. \n",
      "Val - Loss: 0.31250473856925964. Accuracy: 86.77149963378906\n",
      "\tBetter accuracy: 86.77149963378906\n"
     ]
    },
    {
     "name": "stderr",
     "output_type": "stream",
     "text": [
      "Training Epochs:  70%|███████   | 141/200 [07:59<03:13,  3.29s/it]"
     ]
    },
    {
     "name": "stdout",
     "output_type": "stream",
     "text": [
      "Iteration: 141. \n",
      "Val - Loss: 0.31229621171951294. Accuracy: 86.77449798583984\n",
      "\tBetter accuracy: 86.77449798583984\n"
     ]
    },
    {
     "name": "stderr",
     "output_type": "stream",
     "text": [
      "Training Epochs:  71%|███████   | 142/200 [08:02<03:07,  3.23s/it]"
     ]
    },
    {
     "name": "stdout",
     "output_type": "stream",
     "text": [
      "Iteration: 142. \n",
      "Val - Loss: 0.31205931305885315. Accuracy: 86.79316711425781\n",
      "\tBetter accuracy: 86.79316711425781\n"
     ]
    },
    {
     "name": "stderr",
     "output_type": "stream",
     "text": [
      "Training Epochs:  72%|███████▏  | 143/200 [08:06<03:05,  3.25s/it]"
     ]
    },
    {
     "name": "stdout",
     "output_type": "stream",
     "text": [
      "Iteration: 143. \n",
      "Val - Loss: 0.31167787313461304. Accuracy: 86.82099914550781\n",
      "\tBetter accuracy: 86.82099914550781\n"
     ]
    },
    {
     "name": "stderr",
     "output_type": "stream",
     "text": [
      "Training Epochs:  72%|███████▏  | 144/200 [08:09<02:58,  3.19s/it]"
     ]
    },
    {
     "name": "stdout",
     "output_type": "stream",
     "text": [
      "Iteration: 144. \n",
      "Val - Loss: 0.311444491147995. Accuracy: 86.83716583251953\n",
      "\tBetter accuracy: 86.83716583251953\n"
     ]
    },
    {
     "name": "stderr",
     "output_type": "stream",
     "text": [
      "Training Epochs:  72%|███████▎  | 145/200 [08:12<02:57,  3.23s/it]"
     ]
    },
    {
     "name": "stdout",
     "output_type": "stream",
     "text": [
      "Iteration: 145. \n",
      "Val - Loss: 0.31124842166900635. Accuracy: 86.85099792480469\n",
      "\tBetter accuracy: 86.85099792480469\n"
     ]
    },
    {
     "name": "stderr",
     "output_type": "stream",
     "text": [
      "Training Epochs:  73%|███████▎  | 146/200 [08:15<02:54,  3.22s/it]"
     ]
    },
    {
     "name": "stdout",
     "output_type": "stream",
     "text": [
      "Iteration: 146. \n",
      "Val - Loss: 0.3110671937465668. Accuracy: 86.83283233642578\n"
     ]
    },
    {
     "name": "stderr",
     "output_type": "stream",
     "text": [
      "Training Epochs:  74%|███████▎  | 147/200 [08:18<02:52,  3.25s/it]"
     ]
    },
    {
     "name": "stdout",
     "output_type": "stream",
     "text": [
      "Iteration: 147. \n",
      "Val - Loss: 0.31090354919433594. Accuracy: 86.8594970703125\n",
      "\tBetter accuracy: 86.8594970703125\n"
     ]
    },
    {
     "name": "stderr",
     "output_type": "stream",
     "text": [
      "Training Epochs:  74%|███████▍  | 148/200 [08:22<02:49,  3.26s/it]"
     ]
    },
    {
     "name": "stdout",
     "output_type": "stream",
     "text": [
      "Iteration: 148. \n",
      "Val - Loss: 0.31051862239837646. Accuracy: 86.88400268554688\n",
      "\tBetter accuracy: 86.88400268554688\n"
     ]
    },
    {
     "name": "stderr",
     "output_type": "stream",
     "text": [
      "Training Epochs:  74%|███████▍  | 149/200 [08:25<02:46,  3.27s/it]"
     ]
    },
    {
     "name": "stdout",
     "output_type": "stream",
     "text": [
      "Iteration: 149. \n",
      "Val - Loss: 0.31035006046295166. Accuracy: 86.8635025024414\n"
     ]
    },
    {
     "name": "stderr",
     "output_type": "stream",
     "text": [
      "Training Epochs:  75%|███████▌  | 150/200 [08:28<02:43,  3.27s/it]"
     ]
    },
    {
     "name": "stdout",
     "output_type": "stream",
     "text": [
      "Iteration: 150. \n",
      "Val - Loss: 0.31003978848457336. Accuracy: 86.88683319091797\n",
      "\tBetter accuracy: 86.88683319091797\n"
     ]
    },
    {
     "name": "stderr",
     "output_type": "stream",
     "text": [
      "Training Epochs:  76%|███████▌  | 151/200 [08:31<02:37,  3.22s/it]"
     ]
    },
    {
     "name": "stdout",
     "output_type": "stream",
     "text": [
      "Iteration: 151. \n",
      "Val - Loss: 0.31064343452453613. Accuracy: 86.83816528320312\n"
     ]
    },
    {
     "name": "stderr",
     "output_type": "stream",
     "text": [
      "Training Epochs:  76%|███████▌  | 152/200 [08:35<02:34,  3.23s/it]"
     ]
    },
    {
     "name": "stdout",
     "output_type": "stream",
     "text": [
      "Iteration: 152. \n",
      "Val - Loss: 0.3097929060459137. Accuracy: 86.90166473388672\n",
      "\tBetter accuracy: 86.90166473388672\n"
     ]
    },
    {
     "name": "stderr",
     "output_type": "stream",
     "text": [
      "Training Epochs:  76%|███████▋  | 153/200 [08:38<02:29,  3.19s/it]"
     ]
    },
    {
     "name": "stdout",
     "output_type": "stream",
     "text": [
      "Iteration: 153. \n",
      "Val - Loss: 0.30928921699523926. Accuracy: 86.92350006103516\n",
      "\tBetter accuracy: 86.92350006103516\n"
     ]
    },
    {
     "name": "stderr",
     "output_type": "stream",
     "text": [
      "Training Epochs:  77%|███████▋  | 154/200 [08:41<02:28,  3.22s/it]"
     ]
    },
    {
     "name": "stdout",
     "output_type": "stream",
     "text": [
      "Iteration: 154. \n",
      "Val - Loss: 0.30911511182785034. Accuracy: 86.9365005493164\n",
      "\tBetter accuracy: 86.9365005493164\n"
     ]
    },
    {
     "name": "stderr",
     "output_type": "stream",
     "text": [
      "Training Epochs:  78%|███████▊  | 155/200 [08:44<02:26,  3.24s/it]"
     ]
    },
    {
     "name": "stdout",
     "output_type": "stream",
     "text": [
      "Iteration: 155. \n",
      "Val - Loss: 0.3088575005531311. Accuracy: 86.93949890136719\n",
      "\tBetter accuracy: 86.93949890136719\n"
     ]
    },
    {
     "name": "stderr",
     "output_type": "stream",
     "text": [
      "Training Epochs:  78%|███████▊  | 156/200 [08:48<02:23,  3.26s/it]"
     ]
    },
    {
     "name": "stdout",
     "output_type": "stream",
     "text": [
      "Iteration: 156. \n",
      "Val - Loss: 0.30873292684555054. Accuracy: 86.95466613769531\n",
      "\tBetter accuracy: 86.95466613769531\n"
     ]
    },
    {
     "name": "stderr",
     "output_type": "stream",
     "text": [
      "Training Epochs:  78%|███████▊  | 157/200 [08:51<02:20,  3.26s/it]"
     ]
    },
    {
     "name": "stdout",
     "output_type": "stream",
     "text": [
      "Iteration: 157. \n",
      "Val - Loss: 0.3084118366241455. Accuracy: 86.96949768066406\n",
      "\tBetter accuracy: 86.96949768066406\n"
     ]
    },
    {
     "name": "stderr",
     "output_type": "stream",
     "text": [
      "Training Epochs:  79%|███████▉  | 158/200 [08:54<02:17,  3.28s/it]"
     ]
    },
    {
     "name": "stdout",
     "output_type": "stream",
     "text": [
      "Iteration: 158. \n",
      "Val - Loss: 0.3082861006259918. Accuracy: 86.97083282470703\n",
      "\tBetter accuracy: 86.97083282470703\n"
     ]
    },
    {
     "name": "stderr",
     "output_type": "stream",
     "text": [
      "Training Epochs:  80%|███████▉  | 159/200 [08:58<02:15,  3.29s/it]"
     ]
    },
    {
     "name": "stdout",
     "output_type": "stream",
     "text": [
      "Iteration: 159. \n",
      "Val - Loss: 0.3080168664455414. Accuracy: 86.9903335571289\n",
      "\tBetter accuracy: 86.9903335571289\n"
     ]
    },
    {
     "name": "stderr",
     "output_type": "stream",
     "text": [
      "Training Epochs:  80%|████████  | 160/200 [09:01<02:09,  3.25s/it]"
     ]
    },
    {
     "name": "stdout",
     "output_type": "stream",
     "text": [
      "Iteration: 160. \n",
      "Val - Loss: 0.30785927176475525. Accuracy: 86.99566650390625\n",
      "\tBetter accuracy: 86.99566650390625\n"
     ]
    },
    {
     "name": "stderr",
     "output_type": "stream",
     "text": [
      "Training Epochs:  80%|████████  | 161/200 [09:04<02:07,  3.26s/it]"
     ]
    },
    {
     "name": "stdout",
     "output_type": "stream",
     "text": [
      "Iteration: 161. \n",
      "Val - Loss: 0.30763277411460876. Accuracy: 87.0078353881836\n",
      "\tBetter accuracy: 87.0078353881836\n"
     ]
    },
    {
     "name": "stderr",
     "output_type": "stream",
     "text": [
      "Training Epochs:  81%|████████  | 162/200 [09:07<02:03,  3.25s/it]"
     ]
    },
    {
     "name": "stdout",
     "output_type": "stream",
     "text": [
      "Iteration: 162. \n",
      "Val - Loss: 0.3074294626712799. Accuracy: 87.0183334350586\n",
      "\tBetter accuracy: 87.0183334350586\n"
     ]
    },
    {
     "name": "stderr",
     "output_type": "stream",
     "text": [
      "Training Epochs:  82%|████████▏ | 163/200 [09:11<02:00,  3.27s/it]"
     ]
    },
    {
     "name": "stdout",
     "output_type": "stream",
     "text": [
      "Iteration: 163. \n",
      "Val - Loss: 0.3071742057800293. Accuracy: 87.04049682617188\n",
      "\tBetter accuracy: 87.04049682617188\n"
     ]
    },
    {
     "name": "stderr",
     "output_type": "stream",
     "text": [
      "Training Epochs:  82%|████████▏ | 164/200 [09:14<01:57,  3.27s/it]"
     ]
    },
    {
     "name": "stdout",
     "output_type": "stream",
     "text": [
      "Iteration: 164. \n",
      "Val - Loss: 0.3069293797016144. Accuracy: 87.04366302490234\n",
      "\tBetter accuracy: 87.04366302490234\n"
     ]
    },
    {
     "name": "stderr",
     "output_type": "stream",
     "text": [
      "Training Epochs:  82%|████████▎ | 165/200 [09:17<01:53,  3.24s/it]"
     ]
    },
    {
     "name": "stdout",
     "output_type": "stream",
     "text": [
      "Iteration: 165. \n",
      "Val - Loss: 0.30675479769706726. Accuracy: 87.0469970703125\n",
      "\tBetter accuracy: 87.0469970703125\n"
     ]
    },
    {
     "name": "stderr",
     "output_type": "stream",
     "text": [
      "Training Epochs:  83%|████████▎ | 166/200 [09:20<01:50,  3.26s/it]"
     ]
    },
    {
     "name": "stdout",
     "output_type": "stream",
     "text": [
      "Iteration: 166. \n",
      "Val - Loss: 0.3064574599266052. Accuracy: 87.06683349609375\n",
      "\tBetter accuracy: 87.06683349609375\n"
     ]
    },
    {
     "name": "stderr",
     "output_type": "stream",
     "text": [
      "Training Epochs:  84%|████████▎ | 167/200 [09:23<01:46,  3.22s/it]"
     ]
    },
    {
     "name": "stdout",
     "output_type": "stream",
     "text": [
      "Iteration: 167. \n",
      "Val - Loss: 0.3062569797039032. Accuracy: 87.07766723632812\n",
      "\tBetter accuracy: 87.07766723632812\n"
     ]
    },
    {
     "name": "stderr",
     "output_type": "stream",
     "text": [
      "Training Epochs:  84%|████████▍ | 168/200 [09:27<01:43,  3.24s/it]"
     ]
    },
    {
     "name": "stdout",
     "output_type": "stream",
     "text": [
      "Iteration: 168. \n",
      "Val - Loss: 0.30610421299934387. Accuracy: 87.09483337402344\n",
      "\tBetter accuracy: 87.09483337402344\n"
     ]
    },
    {
     "name": "stderr",
     "output_type": "stream",
     "text": [
      "Training Epochs:  84%|████████▍ | 169/200 [09:30<01:39,  3.21s/it]"
     ]
    },
    {
     "name": "stdout",
     "output_type": "stream",
     "text": [
      "Iteration: 169. \n",
      "Val - Loss: 0.3059456944465637. Accuracy: 87.07733154296875\n"
     ]
    },
    {
     "name": "stderr",
     "output_type": "stream",
     "text": [
      "Training Epochs:  85%|████████▌ | 170/200 [09:33<01:36,  3.23s/it]"
     ]
    },
    {
     "name": "stdout",
     "output_type": "stream",
     "text": [
      "Iteration: 170. \n",
      "Val - Loss: 0.30585384368896484. Accuracy: 87.09416961669922\n"
     ]
    },
    {
     "name": "stderr",
     "output_type": "stream",
     "text": [
      "Training Epochs:  86%|████████▌ | 171/200 [09:36<01:33,  3.23s/it]"
     ]
    },
    {
     "name": "stdout",
     "output_type": "stream",
     "text": [
      "Iteration: 171. \n",
      "Val - Loss: 0.30566641688346863. Accuracy: 87.11233520507812\n",
      "\tBetter accuracy: 87.11233520507812\n"
     ]
    },
    {
     "name": "stderr",
     "output_type": "stream",
     "text": [
      "Training Epochs:  86%|████████▌ | 172/200 [09:40<01:31,  3.25s/it]"
     ]
    },
    {
     "name": "stdout",
     "output_type": "stream",
     "text": [
      "Iteration: 172. \n",
      "Val - Loss: 0.3054138123989105. Accuracy: 87.1155014038086\n",
      "\tBetter accuracy: 87.1155014038086\n"
     ]
    },
    {
     "name": "stderr",
     "output_type": "stream",
     "text": [
      "Training Epochs:  86%|████████▋ | 173/200 [09:43<01:27,  3.24s/it]"
     ]
    },
    {
     "name": "stdout",
     "output_type": "stream",
     "text": [
      "Iteration: 173. \n",
      "Val - Loss: 0.30545806884765625. Accuracy: 87.114501953125\n"
     ]
    },
    {
     "name": "stderr",
     "output_type": "stream",
     "text": [
      "Training Epochs:  87%|████████▋ | 174/200 [09:46<01:25,  3.28s/it]"
     ]
    },
    {
     "name": "stdout",
     "output_type": "stream",
     "text": [
      "Iteration: 174. \n",
      "Val - Loss: 0.3050871789455414. Accuracy: 87.13899993896484\n",
      "\tBetter accuracy: 87.13899993896484\n"
     ]
    },
    {
     "name": "stderr",
     "output_type": "stream",
     "text": [
      "Training Epochs:  88%|████████▊ | 175/200 [09:50<01:22,  3.31s/it]"
     ]
    },
    {
     "name": "stdout",
     "output_type": "stream",
     "text": [
      "Iteration: 175. \n",
      "Val - Loss: 0.30492088198661804. Accuracy: 87.14282989501953\n",
      "\tBetter accuracy: 87.14282989501953\n"
     ]
    },
    {
     "name": "stderr",
     "output_type": "stream",
     "text": [
      "Training Epochs:  88%|████████▊ | 176/200 [09:53<01:19,  3.30s/it]"
     ]
    },
    {
     "name": "stdout",
     "output_type": "stream",
     "text": [
      "Iteration: 176. \n",
      "Val - Loss: 0.30481261014938354. Accuracy: 87.149169921875\n",
      "\tBetter accuracy: 87.149169921875\n"
     ]
    },
    {
     "name": "stderr",
     "output_type": "stream",
     "text": [
      "Training Epochs:  88%|████████▊ | 177/200 [09:56<01:15,  3.30s/it]"
     ]
    },
    {
     "name": "stdout",
     "output_type": "stream",
     "text": [
      "Iteration: 177. \n",
      "Val - Loss: 0.30474987626075745. Accuracy: 87.14099884033203\n"
     ]
    },
    {
     "name": "stderr",
     "output_type": "stream",
     "text": [
      "Training Epochs:  89%|████████▉ | 178/200 [09:59<01:11,  3.23s/it]"
     ]
    },
    {
     "name": "stdout",
     "output_type": "stream",
     "text": [
      "Iteration: 178. \n",
      "Val - Loss: 0.30449172854423523. Accuracy: 87.15816497802734\n",
      "\tBetter accuracy: 87.15816497802734\n"
     ]
    },
    {
     "name": "stderr",
     "output_type": "stream",
     "text": [
      "Training Epochs:  90%|████████▉ | 179/200 [10:02<01:07,  3.22s/it]"
     ]
    },
    {
     "name": "stdout",
     "output_type": "stream",
     "text": [
      "Iteration: 179. \n",
      "Val - Loss: 0.30446282029151917. Accuracy: 87.163330078125\n",
      "\tBetter accuracy: 87.163330078125\n"
     ]
    },
    {
     "name": "stderr",
     "output_type": "stream",
     "text": [
      "Training Epochs:  90%|█████████ | 180/200 [10:06<01:05,  3.25s/it]"
     ]
    },
    {
     "name": "stdout",
     "output_type": "stream",
     "text": [
      "Iteration: 180. \n",
      "Val - Loss: 0.30429205298423767. Accuracy: 87.17466735839844\n",
      "\tBetter accuracy: 87.17466735839844\n"
     ]
    },
    {
     "name": "stderr",
     "output_type": "stream",
     "text": [
      "Training Epochs:  90%|█████████ | 181/200 [10:09<01:02,  3.27s/it]"
     ]
    },
    {
     "name": "stdout",
     "output_type": "stream",
     "text": [
      "Iteration: 181. \n",
      "Val - Loss: 0.3041316270828247. Accuracy: 87.18133544921875\n",
      "\tBetter accuracy: 87.18133544921875\n"
     ]
    },
    {
     "name": "stderr",
     "output_type": "stream",
     "text": [
      "Training Epochs:  91%|█████████ | 182/200 [10:12<00:58,  3.23s/it]"
     ]
    },
    {
     "name": "stdout",
     "output_type": "stream",
     "text": [
      "Iteration: 182. \n",
      "Val - Loss: 0.3039664626121521. Accuracy: 87.18916320800781\n",
      "\tBetter accuracy: 87.18916320800781\n"
     ]
    },
    {
     "name": "stderr",
     "output_type": "stream",
     "text": [
      "Training Epochs:  92%|█████████▏| 183/200 [10:15<00:54,  3.19s/it]"
     ]
    },
    {
     "name": "stdout",
     "output_type": "stream",
     "text": [
      "Iteration: 183. \n",
      "Val - Loss: 0.30387115478515625. Accuracy: 87.18216705322266\n"
     ]
    },
    {
     "name": "stderr",
     "output_type": "stream",
     "text": [
      "Training Epochs:  92%|█████████▏| 184/200 [10:19<00:51,  3.22s/it]"
     ]
    },
    {
     "name": "stdout",
     "output_type": "stream",
     "text": [
      "Iteration: 184. \n",
      "Val - Loss: 0.30373615026474. Accuracy: 87.19566345214844\n",
      "\tBetter accuracy: 87.19566345214844\n"
     ]
    },
    {
     "name": "stderr",
     "output_type": "stream",
     "text": [
      "Training Epochs:  92%|█████████▎| 185/200 [10:22<00:47,  3.19s/it]"
     ]
    },
    {
     "name": "stdout",
     "output_type": "stream",
     "text": [
      "Iteration: 185. \n",
      "Val - Loss: 0.30364567041397095. Accuracy: 87.2030029296875\n",
      "\tBetter accuracy: 87.2030029296875\n"
     ]
    },
    {
     "name": "stderr",
     "output_type": "stream",
     "text": [
      "Training Epochs:  93%|█████████▎| 186/200 [10:25<00:45,  3.26s/it]"
     ]
    },
    {
     "name": "stdout",
     "output_type": "stream",
     "text": [
      "Iteration: 186. \n",
      "Val - Loss: 0.3035353720188141. Accuracy: 87.21066284179688\n",
      "\tBetter accuracy: 87.21066284179688\n"
     ]
    },
    {
     "name": "stderr",
     "output_type": "stream",
     "text": [
      "Training Epochs:  94%|█████████▎| 187/200 [10:28<00:42,  3.26s/it]"
     ]
    },
    {
     "name": "stdout",
     "output_type": "stream",
     "text": [
      "Iteration: 187. \n",
      "Val - Loss: 0.3033938407897949. Accuracy: 87.21233367919922\n",
      "\tBetter accuracy: 87.21233367919922\n"
     ]
    },
    {
     "name": "stderr",
     "output_type": "stream",
     "text": [
      "Training Epochs:  94%|█████████▍| 188/200 [10:32<00:39,  3.27s/it]"
     ]
    },
    {
     "name": "stdout",
     "output_type": "stream",
     "text": [
      "Iteration: 188. \n",
      "Val - Loss: 0.30328986048698425. Accuracy: 87.22000122070312\n",
      "\tBetter accuracy: 87.22000122070312\n"
     ]
    },
    {
     "name": "stderr",
     "output_type": "stream",
     "text": [
      "Training Epochs:  94%|█████████▍| 189/200 [10:35<00:35,  3.26s/it]"
     ]
    },
    {
     "name": "stdout",
     "output_type": "stream",
     "text": [
      "Iteration: 189. \n",
      "Val - Loss: 0.3033895194530487. Accuracy: 87.22200012207031\n",
      "\tBetter accuracy: 87.22200012207031\n"
     ]
    },
    {
     "name": "stderr",
     "output_type": "stream",
     "text": [
      "Training Epochs:  95%|█████████▌| 190/200 [10:38<00:32,  3.27s/it]"
     ]
    },
    {
     "name": "stdout",
     "output_type": "stream",
     "text": [
      "Iteration: 190. \n",
      "Val - Loss: 0.30305349826812744. Accuracy: 87.23916625976562\n",
      "\tBetter accuracy: 87.23916625976562\n"
     ]
    },
    {
     "name": "stderr",
     "output_type": "stream",
     "text": [
      "Training Epochs:  96%|█████████▌| 191/200 [10:42<00:29,  3.30s/it]"
     ]
    },
    {
     "name": "stdout",
     "output_type": "stream",
     "text": [
      "Iteration: 191. \n",
      "Val - Loss: 0.3029821217060089. Accuracy: 87.2334976196289\n"
     ]
    },
    {
     "name": "stderr",
     "output_type": "stream",
     "text": [
      "Training Epochs:  96%|█████████▌| 192/200 [10:45<00:26,  3.26s/it]"
     ]
    },
    {
     "name": "stdout",
     "output_type": "stream",
     "text": [
      "Iteration: 192. \n",
      "Val - Loss: 0.303034245967865. Accuracy: 87.2298355102539\n"
     ]
    },
    {
     "name": "stderr",
     "output_type": "stream",
     "text": [
      "Training Epochs:  96%|█████████▋| 193/200 [10:48<00:23,  3.29s/it]"
     ]
    },
    {
     "name": "stdout",
     "output_type": "stream",
     "text": [
      "Iteration: 193. \n",
      "Val - Loss: 0.30303332209587097. Accuracy: 87.22566986083984\n"
     ]
    },
    {
     "name": "stderr",
     "output_type": "stream",
     "text": [
      "Training Epochs:  97%|█████████▋| 194/200 [10:51<00:19,  3.28s/it]"
     ]
    },
    {
     "name": "stdout",
     "output_type": "stream",
     "text": [
      "Iteration: 194. \n",
      "Val - Loss: 0.30263954401016235. Accuracy: 87.2576675415039\n",
      "\tBetter accuracy: 87.2576675415039\n"
     ]
    },
    {
     "name": "stderr",
     "output_type": "stream",
     "text": [
      "Training Epochs:  98%|█████████▊| 195/200 [10:55<00:16,  3.24s/it]"
     ]
    },
    {
     "name": "stdout",
     "output_type": "stream",
     "text": [
      "Iteration: 195. \n",
      "Val - Loss: 0.30252552032470703. Accuracy: 87.274169921875\n",
      "\tBetter accuracy: 87.274169921875\n"
     ]
    },
    {
     "name": "stderr",
     "output_type": "stream",
     "text": [
      "Training Epochs:  98%|█████████▊| 196/200 [10:58<00:12,  3.20s/it]"
     ]
    },
    {
     "name": "stdout",
     "output_type": "stream",
     "text": [
      "Iteration: 196. \n",
      "Val - Loss: 0.3023720979690552. Accuracy: 87.27316284179688\n"
     ]
    },
    {
     "name": "stderr",
     "output_type": "stream",
     "text": [
      "Training Epochs:  98%|█████████▊| 197/200 [11:01<00:09,  3.22s/it]"
     ]
    },
    {
     "name": "stdout",
     "output_type": "stream",
     "text": [
      "Iteration: 197. \n",
      "Val - Loss: 0.3024046719074249. Accuracy: 87.25716400146484\n"
     ]
    },
    {
     "name": "stderr",
     "output_type": "stream",
     "text": [
      "Training Epochs:  99%|█████████▉| 198/200 [11:04<00:06,  3.30s/it]"
     ]
    },
    {
     "name": "stdout",
     "output_type": "stream",
     "text": [
      "Iteration: 198. \n",
      "Val - Loss: 0.3021646738052368. Accuracy: 87.28233337402344\n",
      "\tBetter accuracy: 87.28233337402344\n"
     ]
    },
    {
     "name": "stderr",
     "output_type": "stream",
     "text": [
      "Training Epochs: 100%|█████████▉| 199/200 [11:08<00:03,  3.28s/it]"
     ]
    },
    {
     "name": "stdout",
     "output_type": "stream",
     "text": [
      "Iteration: 199. \n",
      "Val - Loss: 0.30209821462631226. Accuracy: 87.28483581542969\n",
      "\tBetter accuracy: 87.28483581542969\n"
     ]
    },
    {
     "name": "stderr",
     "output_type": "stream",
     "text": [
      "Training Epochs: 100%|██████████| 200/200 [11:11<00:00,  3.36s/it]"
     ]
    },
    {
     "name": "stdout",
     "output_type": "stream",
     "text": [
      "Iteration: 200. \n",
      "Val - Loss: 0.3020265996456146. Accuracy: 87.28516387939453\n",
      "\tBetter accuracy: 87.28516387939453\n"
     ]
    },
    {
     "name": "stderr",
     "output_type": "stream",
     "text": [
      "\n"
     ]
    }
   ],
   "source": [
    "import time\n",
    "tol_acc = 2\n",
    "warming = 20\n",
    "losses = []\n",
    "losses_val = []\n",
    "acc_train = []\n",
    "acc_val = []\n",
    "Iterations = []\n",
    "best_loss = torch.tensor(np.inf).to(device)\n",
    "best_acc = 0\n",
    "best_weights = None\n",
    "iter = 0\n",
    "early = 0\n",
    "start = time.time()\n",
    "mini_batch_size = 1024\n",
    "num_mini_batch = int(X_train.shape[0] / mini_batch_size)\n",
    "# X_gpu_train_shuffle = X_gpu_train\n",
    "for epoch in tqdm.tqdm(range(int(epochs)),desc='Training Epochs'):\n",
    "    \n",
    "    for bid in range(num_mini_batch):\n",
    "        idx = np.random.randint(X_train.shape[0], size=mini_batch_size)\n",
    "        X_train_batch = X_train[idx, :]\n",
    "        x = torch.tensor(X_train_batch, dtype=torch.float32).to(device)\n",
    "        # indices = torch.randperm(X_gpu_train.shape[0])[:mini_batch_size]\n",
    "        # x = X_gpu_train[indices]\n",
    "    \n",
    "        # start = time.time()\n",
    "        # x = X_gpu_train\n",
    "        # labels = y_gpu_train[indices]\n",
    "        y_train_batch = y_train[idx]\n",
    "        labels = torch.flatten(torch.tensor(y_train_batch).type(torch.float32)).to(device)\n",
    "        optimizer.zero_grad() # Setting our stored gradients equal to zero\n",
    "        outputs = model(x)\n",
    "        loss = criterion(torch.squeeze(outputs), labels) \n",
    "\n",
    "        loss.backward() # Computes the gradient of the given tensor w.r.t. the weights/bias\n",
    "\n",
    "        optimizer.step() # Updates weights and biases with the optimizer (SGD)\n",
    "        \n",
    "        # print(f\"Train -  Loss: {loss.item()}, batch: {bid}\")\n",
    "    \n",
    "    iter+=1\n",
    "    early+=1\n",
    "    if iter%trigger==0:\n",
    "        early+=1\n",
    "        with torch.no_grad():\n",
    "            # Calculating the loss and accuracy for the val dataset\n",
    "            correct_val = 0\n",
    "            total_val = 0\n",
    "            outputs_val = torch.squeeze(model(X_gpu_val))\n",
    "            loss_val = criterion(outputs_val, y_gpu_val)\n",
    "            \n",
    "            # predicted_val = outputs_val.round()\n",
    "            total_val += y_gpu_val.size(0)\n",
    "            correct_val += torch.eq(outputs_val.round(), y_gpu_val).sum()\n",
    "            accuracy_val = 100 * correct_val/total_val\n",
    "            losses_val.append(loss_val.item())\n",
    "            acc_val.append(accuracy_val.item())\n",
    "            \n",
    "            # Calculating the loss and accuracy for the train dataset\n",
    "            # total = 0\n",
    "            # correct = 0\n",
    "            # total += y_gpu_train.size(0)\n",
    "            # # correct += np.sum(torch.squeeze(outputs).round().detach().numpy() == y_gpu_train.detach().numpy())\n",
    "            # correct += torch.eq(torch.squeeze(outputs).round(), y_gpu_train).sum()\n",
    "            # accuracy = 100 * correct/total\n",
    "            # losses.append(loss.item())\n",
    "            Iterations.append(iter)\n",
    "            \n",
    "            print(f\"Iteration: {iter}. \\nVal - Loss: {loss_val.item()}. Accuracy: {accuracy_val}\")\n",
    "            # print(f\"Train -  Loss: {loss.item()}. Accuracy: {accuracy}\\n\")\n",
    "            \n",
    "            if accuracy_val > best_acc:\n",
    "                print(f'\\tBetter accuracy: {accuracy_val}')\n",
    "                best_acc = accuracy_val\n",
    "                best_weights = copy.deepcopy(model.state_dict())\n",
    "            elif epoch > warming and (best_acc - accuracy_val) > tol_acc:\n",
    "                print(f'early stopping, current accuracy: {accuracy_val}')\n",
    "                break    \n",
    "\n",
    "end = time.time()\n",
    "total_time = round(end - start, 3)\n"
   ]
  },
  {
   "cell_type": "code",
   "execution_count": 13,
   "metadata": {},
   "outputs": [
    {
     "name": "stdout",
     "output_type": "stream",
     "text": [
      "total training time: 671.579\n"
     ]
    }
   ],
   "source": [
    "time_str = \"{:.3f}\".format(total_time)\n",
    "print(f'total training time: {time_str}')"
   ]
  },
  {
   "cell_type": "code",
   "execution_count": 14,
   "metadata": {},
   "outputs": [
    {
     "data": {
      "image/png": "[encoded data removed]",
      "text/plain": [
       "<Figure size 640x480 with 1 Axes>"
      ]
     },
     "metadata": {},
     "output_type": "display_data"
    }
   ],
   "source": [
    "import matplotlib.pyplot as plt\n",
    "\n",
    "fig = plt.figure()\n",
    "ax = fig.add_subplot(1, 1, 1)\n",
    "\n",
    "ax.plot(Iterations, losses_val, color='tab:orange')\n",
    "\n",
    "\n",
    "plt.xlabel('epoch')\n",
    "plt.ylabel('loss')\n",
    "plt.title('loss by epoch')\n",
    "plt.show()"
   ]
  },
  {
   "cell_type": "code",
   "execution_count": 15,
   "metadata": {},
   "outputs": [
    {
     "data": {
      "image/png": "[encoded data removed]",
      "text/plain": [
       "<Figure size 640x480 with 1 Axes>"
      ]
     },
     "metadata": {},
     "output_type": "display_data"
    }
   ],
   "source": [
    "import matplotlib.pyplot as plt\n",
    "\n",
    "fig = plt.figure()\n",
    "ax = fig.add_subplot(1, 1, 1)\n",
    "\n",
    "ax.plot(Iterations, acc_val, color='tab:orange')\n",
    "\n",
    "\n",
    "plt.xlabel('epoch')\n",
    "plt.ylabel('accuraccy (%)')\n",
    "plt.title('Accuracy by epoch')\n",
    "plt.show()"
   ]
  },
  {
   "cell_type": "code",
   "execution_count": 16,
   "metadata": {},
   "outputs": [],
   "source": [
    "model.load_state_dict(best_weights)\n",
    "\n",
    "correct_test = 0\n",
    "total_test = 0\n",
    "outputs_test = torch.squeeze(model(X_gpu_test))\n",
    "loss_test = criterion(outputs_test, y_gpu_test)\n",
    "\n",
    "total_test += y_gpu_test.size(0)\n",
    "correct_test += torch.eq(outputs_test.round(), y_gpu_test).sum()\n",
    "accuracy_test = 100 * correct_test/total_test"
   ]
  },
  {
   "cell_type": "code",
   "execution_count": 17,
   "metadata": {},
   "outputs": [
    {
     "data": {
      "text/plain": [
       "87.18374633789062"
      ]
     },
     "execution_count": 17,
     "metadata": {},
     "output_type": "execute_result"
    }
   ],
   "source": [
    "accuracy_test.item()"
   ]
  },
  {
   "cell_type": "code",
   "execution_count": 18,
   "metadata": {},
   "outputs": [],
   "source": [
    "# model_path = '../model/torch_softmax_sgd_384'\n",
    "# torch.save(model.state_dict(), model_path)"
   ]
  },
  {
   "cell_type": "code",
   "execution_count": 19,
   "metadata": {},
   "outputs": [],
   "source": [
    "from torcheval.metrics import BinaryAUROC"
   ]
  },
  {
   "cell_type": "code",
   "execution_count": 20,
   "metadata": {},
   "outputs": [
    {
     "data": {
      "text/plain": [
       "<torcheval.metrics.classification.auroc.BinaryAUROC at 0x7f6ad71bc310>"
      ]
     },
     "execution_count": 20,
     "metadata": {},
     "output_type": "execute_result"
    }
   ],
   "source": [
    "metric = BinaryAUROC()\n",
    "metric.update(outputs_test, y_gpu_test)"
   ]
  },
  {
   "cell_type": "code",
   "execution_count": 21,
   "metadata": {},
   "outputs": [
    {
     "data": {
      "text/plain": [
       "0.9432866183625"
      ]
     },
     "execution_count": 21,
     "metadata": {},
     "output_type": "execute_result"
    }
   ],
   "source": [
    "metric.compute().item()"
   ]
  }
 ],
 "metadata": {
  "kernelspec": {
   "display_name": ".venv",
   "language": "python",
   "name": "python3"
  },
  "language_info": {
   "codemirror_mode": {
    "name": "ipython",
    "version": 3
   },
   "file_extension": ".py",
   "mimetype": "text/x-python",
   "name": "python",
   "nbconvert_exporter": "python",
   "pygments_lexer": "ipython3",
   "version": "3.10.12"
  },
  "orig_nbformat": 4
 },
 "nbformat": 4,
 "nbformat_minor": 2
}
