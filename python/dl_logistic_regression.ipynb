{
 "cells": [
  {
   "cell_type": "code",
   "execution_count": 1,
   "metadata": {},
   "outputs": [],
   "source": [
    "import pandas as pd\n",
    "import numpy as np\n",
    "from sklearn.model_selection import train_test_split\n",
    "\n",
    "import torch \n",
    "import torch.nn as nn \n",
    "import torch.optim as optim\n",
    "\n",
    "import copy\n",
    "import tqdm\n",
    "\n",
    "import util\n",
    "import os "
   ]
  },
  {
   "cell_type": "code",
   "execution_count": 2,
   "metadata": {},
   "outputs": [
    {
     "name": "stdout",
     "output_type": "stream",
     "text": [
      "/home/linhnm/msc_code/big_data_mining/eabdt/python\n"
     ]
    }
   ],
   "source": [
    "cwd = os.getcwd()\n",
    "print(cwd)"
   ]
  },
  {
   "cell_type": "code",
   "execution_count": 3,
   "metadata": {},
   "outputs": [],
   "source": [
    "dataset = 'mix'\n",
    "\n",
    "training_batch_from = 0\n",
    "training_batch_to = 2000\n",
    "val_batch_from = 3000\n",
    "val_batch_to = 3600\n",
    "\n",
    "testing_batch_from = 0\n",
    "testing_batch_to = 400"
   ]
  },
  {
   "cell_type": "code",
   "execution_count": 4,
   "metadata": {},
   "outputs": [
    {
     "name": "stdout",
     "output_type": "stream",
     "text": [
      "ok\n"
     ]
    }
   ],
   "source": [
    "device = 'cpu'\n",
    "if torch.cuda.is_available():\n",
    "  device = 'cuda:0'\n",
    "  print('ok')"
   ]
  },
  {
   "cell_type": "code",
   "execution_count": 5,
   "metadata": {},
   "outputs": [],
   "source": [
    "X_train = util.load_vector(os.path.join(cwd, '../data/vectorize/mix/training_set'), training_batch_from, training_batch_to)\n",
    "y_train = util.load_label(os.path.join(cwd, '../data/raw/mix/training_set'), training_batch_from, training_batch_to)\n",
    "\n",
    "X_val = util.load_vector(os.path.join(cwd, '../data/vectorize/mix/training_set'), val_batch_from, val_batch_to)\n",
    "y_val = util.load_label(os.path.join(cwd, '../data/raw/mix/training_set'), val_batch_from, val_batch_to)\n",
    "\n",
    "X_test = util.load_vector(os.path.join(cwd, '../data/vectorize/mix/testing_set'), testing_batch_from, testing_batch_to)\n",
    "y_test = util.load_label(os.path.join(cwd, '../data/raw/mix/testing_set'), testing_batch_from, testing_batch_to)\n"
   ]
  },
  {
   "cell_type": "code",
   "execution_count": 6,
   "metadata": {},
   "outputs": [
    {
     "data": {
      "text/plain": [
       "numpy.ndarray"
      ]
     },
     "execution_count": 6,
     "metadata": {},
     "output_type": "execute_result"
    }
   ],
   "source": [
    "type(y_train)"
   ]
  },
  {
   "cell_type": "code",
   "execution_count": 7,
   "metadata": {},
   "outputs": [],
   "source": [
    "X_gpu_train = torch.tensor(X_train, dtype=torch.float32).to(device)\n",
    "y_gpu_train = torch.flatten(torch.tensor(y_train).type(torch.float32)).to(device)\n",
    "X_gpu_val = torch.tensor(X_val, dtype=torch.float32).to(device)\n",
    "y_gpu_val = torch.flatten(torch.tensor(y_val).type(torch.float32)).to(device)\n",
    "X_gpu_test = torch.tensor(X_test, dtype=torch.float32).to(device)\n",
    "y_gpu_test = torch.flatten(torch.tensor(y_test).type(torch.float32)).to(device)"
   ]
  },
  {
   "cell_type": "code",
   "execution_count": 8,
   "metadata": {},
   "outputs": [
    {
     "name": "stdout",
     "output_type": "stream",
     "text": [
      "(2000000, 384) (2000000, 1)\n",
      "True\n"
     ]
    }
   ],
   "source": [
    "print(X_train.shape, y_train.shape)\n",
    "print(X_gpu_train.is_cuda)"
   ]
  },
  {
   "cell_type": "code",
   "execution_count": 9,
   "metadata": {},
   "outputs": [],
   "source": [
    "epochs = 10000\n",
    "trigger = 1000\n",
    "early_stopping_round = 20\n",
    "\n",
    "input_dim = 384\n",
    "output_dim = 1\n",
    "learning_rate = 0.01"
   ]
  },
  {
   "cell_type": "code",
   "execution_count": 10,
   "metadata": {},
   "outputs": [],
   "source": [
    "class LogisticRegression(nn.Module):\n",
    "  def __init__(self, input_dim, output_dim):\n",
    "    super(LogisticRegression, self).__init__()\n",
    "    self.linear = nn.Linear(input_dim, output_dim)\n",
    "  def forward(self, x):\n",
    "    outputs = torch.sigmoid(self.linear(x))\n",
    "    return outputs"
   ]
  },
  {
   "cell_type": "code",
   "execution_count": 11,
   "metadata": {},
   "outputs": [],
   "source": [
    "model = LogisticRegression(input_dim, output_dim).to(device)"
   ]
  },
  {
   "cell_type": "code",
   "execution_count": 12,
   "metadata": {},
   "outputs": [],
   "source": [
    "criterion = nn.BCELoss()"
   ]
  },
  {
   "cell_type": "code",
   "execution_count": 13,
   "metadata": {},
   "outputs": [],
   "source": [
    "optimizer = optim.Adam(model.parameters(), lr=learning_rate)"
   ]
  },
  {
   "cell_type": "code",
   "execution_count": 14,
   "metadata": {},
   "outputs": [
    {
     "name": "stderr",
     "output_type": "stream",
     "text": [
      "Training Epochs:   0%|          | 0/10000 [00:00<?, ?it/s]"
     ]
    },
    {
     "name": "stderr",
     "output_type": "stream",
     "text": [
      "Training Epochs:  11%|█         | 1053/10000 [00:12<01:29, 100.20it/s]"
     ]
    },
    {
     "name": "stdout",
     "output_type": "stream",
     "text": [
      "Iteration: 1000. \n",
      "val - Loss: 0.32982832193374634. Accuracy: 85.98383331298828\n",
      "Train -  Loss: 0.3315545916557312. Accuracy: 85.91004943847656\n",
      "\n"
     ]
    },
    {
     "name": "stderr",
     "output_type": "stream",
     "text": [
      "Training Epochs:  21%|██        | 2053/10000 [00:25<01:20, 99.02it/s] "
     ]
    },
    {
     "name": "stdout",
     "output_type": "stream",
     "text": [
      "Iteration: 2000. \n",
      "val - Loss: 0.32298266887664795. Accuracy: 86.29383087158203\n",
      "Train -  Loss: 0.3254010081291199. Accuracy: 86.19864654541016\n",
      "\n"
     ]
    },
    {
     "name": "stderr",
     "output_type": "stream",
     "text": [
      "Training Epochs:  31%|███       | 3053/10000 [00:37<01:10, 99.17it/s]"
     ]
    },
    {
     "name": "stdout",
     "output_type": "stream",
     "text": [
      "Iteration: 3000. \n",
      "val - Loss: 0.3212611973285675. Accuracy: 86.39382934570312\n",
      "Train -  Loss: 0.3238842785358429. Accuracy: 86.26649475097656\n",
      "\n"
     ]
    },
    {
     "name": "stderr",
     "output_type": "stream",
     "text": [
      "Training Epochs:  41%|████      | 4053/10000 [00:49<00:59, 99.94it/s]"
     ]
    },
    {
     "name": "stdout",
     "output_type": "stream",
     "text": [
      "Iteration: 4000. \n",
      "val - Loss: 0.32090136408805847. Accuracy: 86.4280014038086\n",
      "Train -  Loss: 0.32357674837112427. Accuracy: 86.28040313720703\n",
      "\n"
     ]
    },
    {
     "name": "stderr",
     "output_type": "stream",
     "text": [
      "Training Epochs:  51%|█████     | 5053/10000 [01:01<00:49, 100.66it/s]"
     ]
    },
    {
     "name": "stdout",
     "output_type": "stream",
     "text": [
      "Iteration: 5000. \n",
      "val - Loss: 0.3208569288253784. Accuracy: 86.42616271972656\n",
      "Train -  Loss: 0.32353881001472473. Accuracy: 86.28375244140625\n",
      "\n"
     ]
    },
    {
     "name": "stderr",
     "output_type": "stream",
     "text": [
      "Training Epochs:  61%|██████    | 6053/10000 [01:13<00:39, 101.18it/s]"
     ]
    },
    {
     "name": "stdout",
     "output_type": "stream",
     "text": [
      "Iteration: 6000. \n",
      "val - Loss: 0.3208569586277008. Accuracy: 86.42900085449219\n",
      "Train -  Loss: 0.32353660464286804. Accuracy: 86.2833480834961\n",
      "\n"
     ]
    },
    {
     "name": "stderr",
     "output_type": "stream",
     "text": [
      "Training Epochs:  71%|███████   | 7053/10000 [01:25<00:29, 99.51it/s] "
     ]
    },
    {
     "name": "stdout",
     "output_type": "stream",
     "text": [
      "Iteration: 7000. \n",
      "val - Loss: 0.3208574056625366. Accuracy: 86.4296646118164\n",
      "Train -  Loss: 0.32353657484054565. Accuracy: 86.28409576416016\n",
      "\n"
     ]
    },
    {
     "name": "stderr",
     "output_type": "stream",
     "text": [
      "Training Epochs:  81%|████████  | 8053/10000 [01:37<00:19, 100.75it/s]"
     ]
    },
    {
     "name": "stdout",
     "output_type": "stream",
     "text": [
      "Iteration: 8000. \n",
      "val - Loss: 0.320857435464859. Accuracy: 86.43033599853516\n",
      "Train -  Loss: 0.32353657484054565. Accuracy: 86.28399658203125\n",
      "\n"
     ]
    },
    {
     "name": "stderr",
     "output_type": "stream",
     "text": [
      "Training Epochs:  91%|█████████ | 9053/10000 [01:49<00:09, 99.43it/s] "
     ]
    },
    {
     "name": "stdout",
     "output_type": "stream",
     "text": [
      "Iteration: 9000. \n",
      "val - Loss: 0.3208574056625366. Accuracy: 86.43016815185547\n",
      "Train -  Loss: 0.32353657484054565. Accuracy: 86.28399658203125\n",
      "\n"
     ]
    },
    {
     "name": "stderr",
     "output_type": "stream",
     "text": [
      "Training Epochs: 100%|██████████| 10000/10000 [02:01<00:00, 82.00it/s]"
     ]
    },
    {
     "name": "stdout",
     "output_type": "stream",
     "text": [
      "Iteration: 10000. \n",
      "val - Loss: 0.320857435464859. Accuracy: 86.43016815185547\n",
      "Train -  Loss: 0.32353657484054565. Accuracy: 86.28399658203125\n",
      "\n"
     ]
    },
    {
     "name": "stderr",
     "output_type": "stream",
     "text": [
      "\n"
     ]
    }
   ],
   "source": [
    "# import time\n",
    "losses = []\n",
    "losses_val = []\n",
    "Iterations = []\n",
    "best_loss = torch.tensor(np.inf).to(device)\n",
    "iter = 0\n",
    "early = 0\n",
    "for epoch in tqdm.tqdm(range(int(epochs)),desc='Training Epochs'):\n",
    "    # start = time.time()\n",
    "    x = X_gpu_train\n",
    "    labels = y_gpu_train\n",
    "    optimizer.zero_grad() # Setting our stored gradients equal to zero\n",
    "    outputs = model(X_gpu_train)\n",
    "    loss = criterion(torch.squeeze(outputs), labels) \n",
    "\n",
    "    loss.backward() # Computes the gradient of the given tensor w.r.t. the weights/bias\n",
    "\n",
    "    optimizer.step() # Updates weights and biases with the optimizer (SGD)\n",
    "\n",
    "    iter+=1\n",
    "    early+=1\n",
    "    if iter%trigger==0:\n",
    "        early+=1\n",
    "        with torch.no_grad():\n",
    "            # Calculating the loss and accuracy for the val dataset\n",
    "            correct_val = 0\n",
    "            total_val = 0\n",
    "            outputs_val = torch.squeeze(model(X_gpu_val))\n",
    "            loss_val = criterion(outputs_val, y_gpu_val)\n",
    "            \n",
    "            # predicted_val = outputs_val.round()\n",
    "            total_val += y_gpu_val.size(0)\n",
    "            correct_val += torch.eq(outputs_val.round(), y_gpu_val).sum()\n",
    "            accuracy_val = 100 * correct_val/total_val\n",
    "            losses_val.append(loss_val.item())\n",
    "            \n",
    "            # Calculating the loss and accuracy for the train dataset\n",
    "            total = 0\n",
    "            correct = 0\n",
    "            total += y_gpu_train.size(0)\n",
    "            # correct += np.sum(torch.squeeze(outputs).round().detach().numpy() == y_gpu_train.detach().numpy())\n",
    "            correct += torch.eq(torch.squeeze(outputs).round(), y_gpu_train).sum()\n",
    "            accuracy = 100 * correct/total\n",
    "            losses.append(loss.item())\n",
    "            Iterations.append(iter)\n",
    "            \n",
    "            print(f\"Iteration: {iter}. \\nval - Loss: {loss_val.item()}. Accuracy: {accuracy_val}\")\n",
    "            print(f\"Train -  Loss: {loss.item()}. Accuracy: {accuracy}\\n\")\n",
    "            \n",
    "            # if (early%early_stopping_round == 0) and (loss_val > torch.min(torch.tensor(losses_val[-4:-1]))):\n",
    "            #     print(f'Early stopping, loss val: {loss_val}')\n",
    "            #     break\n",
    "            \n",
    "    # end = time.time()\n",
    "    # print(f'epoch: {epoch}, training time: {end - start}')"
   ]
  },
  {
   "cell_type": "code",
   "execution_count": 15,
   "metadata": {},
   "outputs": [
    {
     "data": {
      "image/png": "[encoded data removed]",
      "text/plain": [
       "<Figure size 640x480 with 1 Axes>"
      ]
     },
     "metadata": {},
     "output_type": "display_data"
    }
   ],
   "source": [
    "import matplotlib.pyplot as plt\n",
    "\n",
    "fig = plt.figure()\n",
    "ax = fig.add_subplot(1, 1, 1)\n",
    "\n",
    "ax.plot(Iterations, losses, color='tab:blue')\n",
    "ax.plot(Iterations, losses_val, color='tab:orange')\n",
    "\n",
    "\n",
    "plt.xlabel('epoch')\n",
    "plt.ylabel('loss')\n",
    "plt.title('loss by epoch')\n",
    "plt.show()"
   ]
  },
  {
   "cell_type": "code",
   "execution_count": 16,
   "metadata": {},
   "outputs": [],
   "source": [
    "correct_test = 0\n",
    "total_test = 0\n",
    "outputs_test = torch.squeeze(model(X_gpu_test))\n",
    "loss_test = criterion(outputs_test, y_gpu_test)\n",
    "\n",
    "total_test += y_gpu_test.size(0)\n",
    "correct_test += torch.eq(outputs_test.round(), y_gpu_test).sum()\n",
    "accuracy_test = 100 * correct_test/total_test"
   ]
  },
  {
   "cell_type": "code",
   "execution_count": 17,
   "metadata": {},
   "outputs": [
    {
     "data": {
      "text/plain": [
       "86.36325073242188"
      ]
     },
     "execution_count": 17,
     "metadata": {},
     "output_type": "execute_result"
    }
   ],
   "source": [
    "accuracy_test.item()"
   ]
  },
  {
   "cell_type": "code",
   "execution_count": 19,
   "metadata": {},
   "outputs": [],
   "source": [
    "model_path = '../model/torch_logistic_regression'\n",
    "torch.save(model.state_dict(), model_path)"
   ]
  }
 ],
 "metadata": {
  "kernelspec": {
   "display_name": ".venv",
   "language": "python",
   "name": "python3"
  },
  "language_info": {
   "codemirror_mode": {
    "name": "ipython",
    "version": 3
   },
   "file_extension": ".py",
   "mimetype": "text/x-python",
   "name": "python",
   "nbconvert_exporter": "python",
   "pygments_lexer": "ipython3",
   "version": "3.10.12"
  },
  "orig_nbformat": 4
 },
 "nbformat": 4,
 "nbformat_minor": 2
}
