{
 "cells": [
  {
   "cell_type": "code",
   "execution_count": 20,
   "metadata": {},
   "outputs": [],
   "source": [
    "# from sentence_transformers import SentenceTransformer\n",
    "# from pandarallel import pandarallel\n",
    "# model = SentenceTransformer('all-mpnet-base-v2')"
   ]
  },
  {
   "cell_type": "code",
   "execution_count": 21,
   "metadata": {},
   "outputs": [],
   "source": [
    "# print(sample_encode1.shape, sample_encode2.shape)"
   ]
  },
  {
   "cell_type": "code",
   "execution_count": 22,
   "metadata": {},
   "outputs": [],
   "source": [
    "# local_model = SentenceTransformer('/home/linhnm/.cache/torch/sentence_transformers/sentence-transformers_all-MiniLM-L6-v2')"
   ]
  },
  {
   "cell_type": "code",
   "execution_count": 23,
   "metadata": {},
   "outputs": [],
   "source": [
    "# vec = local_model.encode('hello London')\n",
    "# print(vec)"
   ]
  },
  {
   "cell_type": "code",
   "execution_count": 24,
   "metadata": {},
   "outputs": [],
   "source": [
    "base_path = '../data'\n",
    "raw_path = f'{base_path}/raw'\n",
    "vectorize_path = f'{base_path}/vectorize'"
   ]
  },
  {
   "cell_type": "code",
   "execution_count": 25,
   "metadata": {},
   "outputs": [],
   "source": [
    "import pandas as pd\n",
    "import numpy as np\n",
    "import json"
   ]
  },
  {
   "cell_type": "code",
   "execution_count": 26,
   "metadata": {},
   "outputs": [],
   "source": [
    "def save_csv(overall, review_text, batch_idx):\n",
    "  y = pd.DataFrame(overall, dtype=np.uint8)\n",
    "  X = pd.DataFrame(review_text, dtype=\"string\")\n",
    "  \n",
    "  X.to_csv(f'{raw_path}/Movies_and_TV/X_{batch_idx}.csv', index=False, header=None)\n",
    "  y.to_csv(f'{raw_path}/Movies_and_TV/y_{batch_idx}.csv', index=False, header=None)"
   ]
  },
  {
   "cell_type": "code",
   "execution_count": 27,
   "metadata": {},
   "outputs": [],
   "source": [
    "cols = ['overall', 'reviewText']\n",
    "overall = []\n",
    "review_text = []\n",
    "file_name = f'{raw_path}/Movies_and_TV/Movies_and_TV.json'\n",
    "i = 0\n",
    "batch_size = 1000000\n",
    "batch_idx = 0\n",
    "\n",
    "with open(file_name, encoding='utf8') as f:\n",
    "    for line in f:\n",
    "        i = i + 1\n",
    "        \n",
    "        doc = json.loads(line)\n",
    "        \n",
    "        if doc.get('overall') is not None and doc.get('reviewText') is not None:\n",
    "            overall.append(doc['overall'])\n",
    "            review_text.append(doc['reviewText'])\n",
    "          \n",
    "        if i % batch_size == 0 :\n",
    "          batch_idx = i//batch_size - 1\n",
    "          save_csv(overall, review_text, batch_idx)\n",
    "          overall = []\n",
    "          review_text = []\n",
    "        \n",
    "batch_idx = batch_idx + 1\n",
    "save_csv(overall, review_text, batch_idx)"
   ]
  },
  {
   "cell_type": "code",
   "execution_count": 28,
   "metadata": {},
   "outputs": [],
   "source": [
    "# y = pd.DataFrame(overall, dtype=np.uint8)\n",
    "# X = pd.DataFrame(review_text, dtype=\"string\")"
   ]
  },
  {
   "cell_type": "code",
   "execution_count": 29,
   "metadata": {},
   "outputs": [],
   "source": [
    "# del review_text\n",
    "# del overall"
   ]
  },
  {
   "cell_type": "code",
   "execution_count": 30,
   "metadata": {},
   "outputs": [],
   "source": [
    "# X.info()"
   ]
  },
  {
   "cell_type": "code",
   "execution_count": 31,
   "metadata": {},
   "outputs": [],
   "source": [
    "# y.info()"
   ]
  },
  {
   "cell_type": "code",
   "execution_count": 32,
   "metadata": {},
   "outputs": [],
   "source": [
    "# X.to_csv('../data/vectorize/Movies_and_TV/X.csv', index=False)\n",
    "# y.to_csv('../data/vectorize/Movies_and_TV/y.csv', index=False)"
   ]
  },
  {
   "cell_type": "code",
   "execution_count": 33,
   "metadata": {},
   "outputs": [],
   "source": [
    "# from sklearn.model_selection import train_test_split\n",
    "# X_train, X_test, y_train, y_test = train_test_split(X, y, test_size=0.2, random_state=42)"
   ]
  },
  {
   "cell_type": "code",
   "execution_count": 34,
   "metadata": {},
   "outputs": [],
   "source": [
    "# def encode(_model, input):\n",
    "#   en = _model.encode(input)\n",
    "#   print(en)\n",
    "#   return en"
   ]
  },
  {
   "cell_type": "code",
   "execution_count": 35,
   "metadata": {},
   "outputs": [],
   "source": [
    "# from multiprocessing import Process"
   ]
  },
  {
   "cell_type": "code",
   "execution_count": 36,
   "metadata": {},
   "outputs": [],
   "source": [
    "# processes = []\n",
    "# models = []\n",
    "# batch_size = 6\n",
    "# for i in range(6):\n",
    "#   _model = SentenceTransformer('all-mpnet-base-v2')\n",
    "#   p = Process(target=encode, args=(_model, X.iloc[i*batch_size:(i+1)*batch_size],))\n",
    "#   processes.append(p)\n",
    "  \n",
    "# for i in range(6):\n",
    "#   processes[i].start()\n",
    "  "
   ]
  },
  {
   "cell_type": "code",
   "execution_count": 37,
   "metadata": {},
   "outputs": [],
   "source": [
    "# import multiprocessing as mp\n",
    "\n",
    "# def foo(q):\n",
    "#     q.put('hello')\n",
    "    \n",
    "\n",
    "# if __name__ == '__main__':\n",
    "#   ctx = mp.get_context('spawn')\n",
    "#   q = ctx.Queue()\n",
    "#   p = ctx.Process(target=foo, args=(q,))\n",
    "#   p.start()\n",
    "#   print(q.get())\n",
    "#   p.join()\n",
    "\n"
   ]
  },
  {
   "cell_type": "code",
   "execution_count": 38,
   "metadata": {},
   "outputs": [],
   "source": [
    "# X_train_miniLM = X_train.apply(lambda row : model.encode(row))"
   ]
  }
 ],
 "metadata": {
  "kernelspec": {
   "display_name": ".venv",
   "language": "python",
   "name": "python3"
  },
  "language_info": {
   "codemirror_mode": {
    "name": "ipython",
    "version": 3
   },
   "file_extension": ".py",
   "mimetype": "text/x-python",
   "name": "python",
   "nbconvert_exporter": "python",
   "pygments_lexer": "ipython3",
   "version": "3.10.12"
  },
  "orig_nbformat": 4
 },
 "nbformat": 4,
 "nbformat_minor": 2
}
